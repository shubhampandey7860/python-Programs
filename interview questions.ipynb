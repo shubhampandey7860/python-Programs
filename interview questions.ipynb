{
 "cells": [
  {
   "cell_type": "markdown",
   "id": "0cee6169",
   "metadata": {},
   "source": [
    "# check given number is prime or not"
   ]
  },
  {
   "cell_type": "code",
   "execution_count": 1,
   "id": "0f090c42",
   "metadata": {},
   "outputs": [
    {
     "name": "stdout",
     "output_type": "stream",
     "text": [
      "13 is Prime number\n"
     ]
    }
   ],
   "source": [
    "n=13\n",
    "for i in range(2,n//2+1):\n",
    "    if n%i==0:\n",
    "        print(f'{n} is not prime')\n",
    "        break\n",
    "else:\n",
    "    print(f'{n} is Prime number')"
   ]
  },
  {
   "cell_type": "markdown",
   "id": "fc9802db",
   "metadata": {},
   "source": [
    "# wap to check given number is emrip or not"
   ]
  },
  {
   "cell_type": "code",
   "execution_count": 2,
   "id": "489f0070",
   "metadata": {},
   "outputs": [
    {
     "name": "stdout",
     "output_type": "stream",
     "text": [
      "enter number:13\n",
      "13 is emrip\n"
     ]
    }
   ],
   "source": [
    "n=int(input('enter number:'))\n",
    "rev=0\n",
    "num=n\n",
    "while n!=0:\n",
    "    rem=n%10\n",
    "    rev=rev*10+rem\n",
    "    n//=10\n",
    "if num!=rev:\n",
    "    for i in range(2,num//2+1):\n",
    "        if num%i==0:\n",
    "            print(f'not emrip number')\n",
    "            break\n",
    "    else:\n",
    "        for j in range(2,rev//2+1):\n",
    "            if rev%j==0:\n",
    "                print(f'not emrip number')\n",
    "                break\n",
    "        else:\n",
    "            print(f'{num} is emrip')\n",
    "else:\n",
    "    print(f'Not emrip number')\n",
    "    "
   ]
  },
  {
   "cell_type": "markdown",
   "id": "60aa53e9",
   "metadata": {},
   "source": [
    "# wap to check given number is palyPrime or not\n"
   ]
  },
  {
   "cell_type": "code",
   "execution_count": 3,
   "id": "5d4782c0",
   "metadata": {},
   "outputs": [
    {
     "name": "stdout",
     "output_type": "stream",
     "text": [
      "enter number:11\n",
      "11 is palyprime\n"
     ]
    }
   ],
   "source": [
    "n=int(input('enter number:'))\n",
    "rev=0\n",
    "num=n\n",
    "while n!=0:\n",
    "    rem=n%10\n",
    "    rev=rev*10+rem\n",
    "    n//=10\n",
    "if num==rev:\n",
    "    if num>1:\n",
    "        for i in range(2,num//2+1):\n",
    "            if num%i==0:\n",
    "                print(f'{num} not palyprime number')\n",
    "                break\n",
    "        else:\n",
    "            print(f'{num} is palyprime')\n",
    "    else:\n",
    "        print(f'{num} not palyprime')\n",
    "else:\n",
    "    print(f'{num} not palyprime')\n",
    "        \n",
    "    "
   ]
  },
  {
   "cell_type": "markdown",
   "id": "f8c6dfc8",
   "metadata": {},
   "source": [
    "# factors of given number"
   ]
  },
  {
   "cell_type": "code",
   "execution_count": 4,
   "id": "ceee370b",
   "metadata": {},
   "outputs": [
    {
     "name": "stdout",
     "output_type": "stream",
     "text": [
      "1 2 3 4 6 12 "
     ]
    }
   ],
   "source": [
    "n=12\n",
    "for i in range(1,n+1):\n",
    "    if n%i==0:\n",
    "        print(i,end=' ')"
   ]
  },
  {
   "cell_type": "markdown",
   "id": "39618dca",
   "metadata": {},
   "source": [
    "# wap to print factors of number is prime or not\n"
   ]
  },
  {
   "cell_type": "code",
   "execution_count": 5,
   "id": "de38f2d1",
   "metadata": {},
   "outputs": [
    {
     "name": "stdout",
     "output_type": "stream",
     "text": [
      "2 3 "
     ]
    }
   ],
   "source": [
    "n=12\n",
    "for i in range(1,n+1):\n",
    "    if n%i==0:\n",
    "        if i>1:\n",
    "            for j in range(2,i//2+1):\n",
    "                if i%j==0:\n",
    "                    break\n",
    "            else:\n",
    "                print(i,end=' ')"
   ]
  },
  {
   "cell_type": "markdown",
   "id": "b8328b30",
   "metadata": {},
   "source": [
    "# armstrong"
   ]
  },
  {
   "cell_type": "code",
   "execution_count": 6,
   "id": "a32c7497",
   "metadata": {},
   "outputs": [
    {
     "name": "stdout",
     "output_type": "stream",
     "text": [
      "enter number:153\n",
      "153 is armstrong number\n"
     ]
    }
   ],
   "source": [
    "n=int(input('enter number:'))\n",
    "res=0\n",
    "num=n\n",
    "p=len(str(n))\n",
    "while n!=0:\n",
    "    rem=n%10\n",
    "    res+=rem**p\n",
    "    n//=10\n",
    "if num==res:\n",
    "    print(f'{num} is armstrong number')\n",
    "else:\n",
    "    print(f'{num} is not armstrong number')"
   ]
  },
  {
   "cell_type": "markdown",
   "id": "6e0042bd",
   "metadata": {},
   "source": [
    "# disarm number"
   ]
  },
  {
   "cell_type": "code",
   "execution_count": 7,
   "id": "6ee8ba78",
   "metadata": {},
   "outputs": [
    {
     "name": "stdout",
     "output_type": "stream",
     "text": [
      "enter number:135\n",
      "135 is disarm number\n"
     ]
    }
   ],
   "source": [
    "n=int(input('enter number:'))\n",
    "res=0\n",
    "num=n\n",
    "p=len(str(n))\n",
    "while n!=0:\n",
    "    rem=n%10\n",
    "    res+=rem**p\n",
    "    n//=10\n",
    "    p-=1\n",
    "if num==res:\n",
    "    print(f'{num} is disarm number')\n",
    "else:\n",
    "    print(f'{num} is not disarm number')"
   ]
  },
  {
   "cell_type": "markdown",
   "id": "3eb7ab30",
   "metadata": {},
   "source": [
    "# Niven number"
   ]
  },
  {
   "cell_type": "code",
   "execution_count": 8,
   "id": "93a4bfb3",
   "metadata": {},
   "outputs": [
    {
     "name": "stdout",
     "output_type": "stream",
     "text": [
      "enter number:132\n",
      "132 is niven\n"
     ]
    }
   ],
   "source": [
    "n=int(input('enter number:'))\n",
    "res=0\n",
    "num=n\n",
    "while n!=0:\n",
    "    rem=n%10\n",
    "    res+=rem\n",
    "    n//=10\n",
    "if num%res==0:\n",
    "    print(f'{num} is niven')\n",
    "else:\n",
    "    print(f'{num} is not niven')"
   ]
  },
  {
   "cell_type": "markdown",
   "id": "de509f25",
   "metadata": {},
   "source": [
    "# factorial of number"
   ]
  },
  {
   "cell_type": "code",
   "execution_count": 9,
   "id": "1a9eb53e",
   "metadata": {},
   "outputs": [
    {
     "name": "stdout",
     "output_type": "stream",
     "text": [
      "enter number:5\n",
      "120\n"
     ]
    }
   ],
   "source": [
    "fact=1\n",
    "n=int(input('enter number:'))\n",
    "for i in range(1,n+1):\n",
    "    fact*=i\n",
    "print(fact)"
   ]
  },
  {
   "cell_type": "markdown",
   "id": "a062d231",
   "metadata": {},
   "source": [
    "# special number"
   ]
  },
  {
   "cell_type": "code",
   "execution_count": 10,
   "id": "eb4fcbbf",
   "metadata": {},
   "outputs": [
    {
     "name": "stdout",
     "output_type": "stream",
     "text": [
      "enter number:145\n",
      "145 is special number:\n"
     ]
    }
   ],
   "source": [
    "n=int(input('enter number:'))\n",
    "num=n\n",
    "res=0\n",
    "while n!=0:\n",
    "    rem=n%10\n",
    "    n//=10\n",
    "    fact=1\n",
    "    for i in range(1,rem+1):\n",
    "        fact*=i\n",
    "    res+=fact\n",
    "if res==num:\n",
    "    print(f'{num} is special number:')\n",
    "else:\n",
    "    print(f'{num} is not special number')\n",
    "    "
   ]
  },
  {
   "cell_type": "markdown",
   "id": "180279e2",
   "metadata": {},
   "source": [
    "# Automorphic number"
   ]
  },
  {
   "cell_type": "code",
   "execution_count": 11,
   "id": "349ccb26",
   "metadata": {},
   "outputs": [
    {
     "name": "stdout",
     "output_type": "stream",
     "text": [
      "enter number:25\n",
      "25 is automorphic\n"
     ]
    }
   ],
   "source": [
    "n=int(input('enter number:'))\n",
    "sq=n**2\n",
    "p=len(str(n))\n",
    "last_digit=sq%pow(10,p)\n",
    "if n==last_digit:\n",
    "    print(f'{n} is automorphic')\n",
    "else:\n",
    "    print(f'{n} is not automorphic')"
   ]
  },
  {
   "cell_type": "markdown",
   "id": "4d840e51",
   "metadata": {},
   "source": [
    "# replace all zeros to five"
   ]
  },
  {
   "cell_type": "code",
   "execution_count": 20,
   "id": "741fdf06",
   "metadata": {},
   "outputs": [
    {
     "name": "stdout",
     "output_type": "stream",
     "text": [
      "15253\n"
     ]
    }
   ],
   "source": [
    "# n=10203\n",
    "# res=15253\n",
    "n=10203\n",
    "res=0\n",
    "m=1\n",
    "while n!=0:\n",
    "    rem=n%10\n",
    "    n=n//10\n",
    "    if rem==0:\n",
    "        res=res+5*m\n",
    "    else:\n",
    "        res=res+rem*m\n",
    "    m=m*10\n",
    "print(res)\n"
   ]
  },
  {
   "cell_type": "markdown",
   "id": "25d1b10e",
   "metadata": {},
   "source": [
    "# wap to reverse a string without slicing"
   ]
  },
  {
   "cell_type": "code",
   "execution_count": 21,
   "id": "1cb736d4",
   "metadata": {},
   "outputs": [
    {
     "name": "stdout",
     "output_type": "stream",
     "text": [
      "EDCBA\n"
     ]
    }
   ],
   "source": [
    "s='ABCDE'\n",
    "rev=''\n",
    "for i in range(-1,-(len(s)+1),-1):\n",
    "    rev+=s[i]\n",
    "print(rev)    \n",
    "    "
   ]
  },
  {
   "cell_type": "markdown",
   "id": "31a6c39b",
   "metadata": {},
   "source": [
    "# reverse word in given string\n"
   ]
  },
  {
   "cell_type": "code",
   "execution_count": 23,
   "id": "71710aeb",
   "metadata": {},
   "outputs": [
    {
     "name": "stdout",
     "output_type": "stream",
     "text": [
      "boj tnaw ew tub ecitcarp tnod ew\n"
     ]
    }
   ],
   "source": [
    "s='we dont practice but we want job'\n",
    "res=''\n",
    "for i in range(-1,-(len(s)+1),-1):\n",
    "    res=res+s[i]\n",
    "print(res)    \n",
    "    "
   ]
  },
  {
   "cell_type": "code",
   "execution_count": 29,
   "id": "1fe08770",
   "metadata": {},
   "outputs": [
    {
     "name": "stdout",
     "output_type": "stream",
     "text": [
      "ew tnod ecitcarp tub ew tnaw boj\n"
     ]
    }
   ],
   "source": [
    "s='we dont practice but we want job'\n",
    "lst=s.split()\n",
    "for i in range(0,len(lst)):\n",
    "    lst[i]=lst[i][::-1]\n",
    "print(' '.join(lst))    "
   ]
  },
  {
   "cell_type": "code",
   "execution_count": 30,
   "id": "90c922eb",
   "metadata": {},
   "outputs": [
    {
     "name": "stdout",
     "output_type": "stream",
     "text": [
      "['ew', 'tnod', 'ecitcarp', 'tub', 'ew', 'tnaw', 'boj']\n"
     ]
    }
   ],
   "source": [
    "s='we dont practice but we want job'\n",
    "lst=s.split()\n",
    "for i in range(0,len(lst)):\n",
    "    lst[i]=lst[i][::-1]\n",
    "print(lst)"
   ]
  },
  {
   "cell_type": "code",
   "execution_count": 32,
   "id": "0dbb5c03",
   "metadata": {},
   "outputs": [
    {
     "data": {
      "text/plain": [
       "['ew', 'tnod', 'ecitcarp', 'tub', 'ew', 'tnaw', 'boj']"
      ]
     },
     "execution_count": 32,
     "metadata": {},
     "output_type": "execute_result"
    }
   ],
   "source": [
    "lst"
   ]
  },
  {
   "cell_type": "code",
   "execution_count": 37,
   "id": "3651b4b4",
   "metadata": {},
   "outputs": [
    {
     "name": "stdout",
     "output_type": "stream",
     "text": [
      "sunday on class the attend we\n"
     ]
    }
   ],
   "source": [
    "s='we attend the class on sunday'\n",
    "L=s.split()\n",
    "for i in range(0,len(L)//2):\n",
    "    L[i],L[len(L)-i-1]=L[len(L)-i-1],L[i]\n",
    "print(' '.join(L))    "
   ]
  },
  {
   "cell_type": "markdown",
   "id": "40703ce4",
   "metadata": {},
   "source": [
    "# print unique value in list"
   ]
  },
  {
   "cell_type": "code",
   "execution_count": 40,
   "id": "c9a6dd38",
   "metadata": {},
   "outputs": [
    {
     "name": "stdout",
     "output_type": "stream",
     "text": [
      "java\n",
      "python\n",
      "also\n"
     ]
    }
   ],
   "source": [
    "s='java is great python is also great'\n",
    "L=s.split()\n",
    "for ind in range(0,len(L)):\n",
    "    if L.count(L[ind])==1:\n",
    "        print(L[ind])"
   ]
  },
  {
   "cell_type": "code",
   "execution_count": 43,
   "id": "c70e40d8",
   "metadata": {},
   "outputs": [
    {
     "name": "stdout",
     "output_type": "stream",
     "text": [
      "[50, 40, 30, 20, 10]\n"
     ]
    }
   ],
   "source": [
    "a=[10,20,30,40,50]\n",
    "for i in range(0,len(a)//2):\n",
    "    a[i],a[-(i+1)]=a[-(i+1)],a[i]\n",
    "print(a)    "
   ]
  },
  {
   "cell_type": "markdown",
   "id": "b054884f",
   "metadata": {},
   "source": [
    "# subpalyndrome in string"
   ]
  },
  {
   "cell_type": "code",
   "execution_count": 45,
   "id": "36f7c277",
   "metadata": {},
   "outputs": [
    {
     "name": "stdout",
     "output_type": "stream",
     "text": [
      "A\n",
      "B\n",
      "BCDCB\n",
      "C\n",
      "CDC\n",
      "D\n",
      "C\n",
      "B\n"
     ]
    }
   ],
   "source": [
    "n='ABCDCB'\n",
    "for i in range(0,len(n)):\n",
    "    for j in range(i+1,len(n)+1):\n",
    "        x=n[i:j]\n",
    "        if x==x[::-1]:\n",
    "            print(x)\n",
    "        "
   ]
  },
  {
   "cell_type": "code",
   "execution_count": 46,
   "id": "ffefeff1",
   "metadata": {},
   "outputs": [
    {
     "name": "stdout",
     "output_type": "stream",
     "text": [
      "['A', 'B', 'BCDCB', 'C', 'CDC', 'D']\n"
     ]
    }
   ],
   "source": [
    "n='ABCDCB'\n",
    "L=[]\n",
    "for i in range(0,len(n)):\n",
    "    for j in range(i+1,len(n)+1):\n",
    "        x=n[i:j]\n",
    "        if x==x[::-1] and x not in L:\n",
    "            L.append(x) # l+=[x]\n",
    "print(L)            "
   ]
  },
  {
   "cell_type": "code",
   "execution_count": 48,
   "id": "951decfc",
   "metadata": {},
   "outputs": [
    {
     "name": "stdout",
     "output_type": "stream",
     "text": [
      "ANGINAAR\n"
     ]
    }
   ],
   "source": [
    "s='ENGINEER'\n",
    "res=''\n",
    "for i in range(0,len(s)):\n",
    "    if s[i]=='E':\n",
    "        res+='A'\n",
    "    else:\n",
    "        res+=s[i]\n",
    "print(res)        "
   ]
  },
  {
   "cell_type": "code",
   "execution_count": 51,
   "id": "7b49b1ac",
   "metadata": {},
   "outputs": [
    {
     "name": "stdout",
     "output_type": "stream",
     "text": [
      "E=3\n",
      "N=3\n",
      "G=2\n",
      "I=2\n",
      "R=1\n"
     ]
    }
   ],
   "source": [
    "s='ENGINEERING'\n",
    "d={}\n",
    "for i in s:\n",
    "    if i not in d:\n",
    "        d[i]=1\n",
    "    else:\n",
    "        d[i]+=1\n",
    "for k,v in d.items():\n",
    "    print(f'{k}={v}')"
   ]
  },
  {
   "cell_type": "code",
   "execution_count": 53,
   "id": "a1785ae3",
   "metadata": {},
   "outputs": [
    {
     "name": "stdout",
     "output_type": "stream",
     "text": [
      "3\n"
     ]
    }
   ],
   "source": [
    "# most repeated charcter in string\n",
    "lst=list(d.values())\n",
    "h=lst[0]\n",
    "for i in range(0,len(lst)):\n",
    "    if h<lst[i]:\n",
    "        h=lst[i]\n",
    "print(h)        \n"
   ]
  },
  {
   "cell_type": "code",
   "execution_count": 54,
   "id": "1c9de8a3",
   "metadata": {},
   "outputs": [
    {
     "name": "stdout",
     "output_type": "stream",
     "text": [
      "E:3\n",
      "N:3\n"
     ]
    }
   ],
   "source": [
    "\n",
    "for k,v in d.items():\n",
    "    if v==h:\n",
    "        print(f'{k}:{v}')"
   ]
  },
  {
   "cell_type": "code",
   "execution_count": 8,
   "id": "6a78218b",
   "metadata": {},
   "outputs": [
    {
     "name": "stdout",
     "output_type": "stream",
     "text": [
      "{'we': 2, 'dont': 4, 'practice': 8, 'but': 3, 'want': 4, 'job': 3}\n"
     ]
    }
   ],
   "source": [
    "s='we dont practice but we want job'.split()\n",
    "lst=s\n",
    "d={}\n",
    "for i in range(0,len(lst)):\n",
    "    if lst[i] not in d:\n",
    "        d[lst[i]]=len(s[i])\n",
    "        \n",
    "print(d)        "
   ]
  },
  {
   "cell_type": "code",
   "execution_count": 5,
   "id": "672b1287",
   "metadata": {},
   "outputs": [
    {
     "name": "stdout",
     "output_type": "stream",
     "text": [
      "{'we': 2, 'dont': 4, 'practice': 8, 'but': 3, 'want': 4, 'job': 3}\n"
     ]
    }
   ],
   "source": [
    "s='we dont practice but we want job'.split()\n",
    "d={}\n",
    "for i in s: # ['we','dont',pract]\n",
    "    if i not in d:\n",
    "        d[i]=len(i)\n",
    "print(d)        "
   ]
  },
  {
   "cell_type": "code",
   "execution_count": null,
   "id": "8d39e2b9",
   "metadata": {},
   "outputs": [],
   "source": []
  }
 ],
 "metadata": {
  "kernelspec": {
   "display_name": "Python 3 (ipykernel)",
   "language": "python",
   "name": "python3"
  },
  "language_info": {
   "codemirror_mode": {
    "name": "ipython",
    "version": 3
   },
   "file_extension": ".py",
   "mimetype": "text/x-python",
   "name": "python",
   "nbconvert_exporter": "python",
   "pygments_lexer": "ipython3",
   "version": "3.9.12"
  }
 },
 "nbformat": 4,
 "nbformat_minor": 5
}
