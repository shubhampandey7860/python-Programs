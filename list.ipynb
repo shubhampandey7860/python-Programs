{
 "cells": [
  {
   "cell_type": "code",
   "execution_count": 1,
   "id": "275bc3a2",
   "metadata": {},
   "outputs": [
    {
     "data": {
      "text/plain": [
       "list"
      ]
     },
     "execution_count": 1,
     "metadata": {},
     "output_type": "execute_result"
    }
   ],
   "source": [
    "# creating list\n",
    "a=[] \n",
    "type(a)"
   ]
  },
  {
   "cell_type": "code",
   "execution_count": 2,
   "id": "8d49f045",
   "metadata": {},
   "outputs": [
    {
     "name": "stdout",
     "output_type": "stream",
     "text": [
      "10 20 30 40 50 "
     ]
    }
   ],
   "source": [
    "# \n",
    "a=[10,20,30,40,50]\n",
    "for i in a:\n",
    "    print(i,end=' ')"
   ]
  },
  {
   "cell_type": "code",
   "execution_count": 3,
   "id": "0db38b5f",
   "metadata": {},
   "outputs": [
    {
     "name": "stdout",
     "output_type": "stream",
     "text": [
      "[10, 'shubham']\n"
     ]
    }
   ],
   "source": [
    "# adding element to dict using append method\n",
    "a=[]\n",
    "a.append(10)\n",
    "a.append('shubham')\n",
    "print(a)"
   ]
  },
  {
   "cell_type": "code",
   "execution_count": 4,
   "id": "b7cad4d3",
   "metadata": {},
   "outputs": [
    {
     "name": "stdout",
     "output_type": "stream",
     "text": [
      "[30, 10, 20, 40]\n"
     ]
    }
   ],
   "source": [
    "# adding elements to list using insert method\n",
    "a=[10,20]\n",
    "a.insert(0,30)\n",
    "a.insert(3,40)\n",
    "print(a)"
   ]
  },
  {
   "cell_type": "code",
   "execution_count": 5,
   "id": "b058b741",
   "metadata": {},
   "outputs": [
    {
     "name": "stdout",
     "output_type": "stream",
     "text": [
      "[10, 20, 30, 40, 40, 50, 60]\n"
     ]
    }
   ],
   "source": [
    "# adding elements using extend method\n",
    "a=[10,20,30,40]\n",
    "d=set((40,50,60,40))\n",
    "a.extend(d)\n",
    "print(a)"
   ]
  },
  {
   "cell_type": "code",
   "execution_count": 6,
   "id": "da16e89e",
   "metadata": {},
   "outputs": [
    {
     "name": "stdout",
     "output_type": "stream",
     "text": [
      "[10, 20, 30, 40, 50]\n",
      "[50, 60, 70]\n"
     ]
    }
   ],
   "source": [
    "# reading data from list using slicing\n",
    "a=[10,20,30,40,50,60,70]\n",
    "print(a[:5])\n",
    "print(a[4:len(a)])"
   ]
  },
  {
   "cell_type": "code",
   "execution_count": 11,
   "id": "0ae7da84",
   "metadata": {},
   "outputs": [
    {
     "name": "stdout",
     "output_type": "stream",
     "text": [
      "1\n",
      "2\n",
      "3 4 5 6 7 8 9 10 "
     ]
    }
   ],
   "source": [
    "# reading data from list using iter() method\n",
    "a=list(range(1,11))\n",
    "b=iter(a)\n",
    "print(next(b))\n",
    "print(next(b))\n",
    "\n",
    "for i in b:\n",
    "    print(i,end=' ')"
   ]
  },
  {
   "cell_type": "code",
   "execution_count": 15,
   "id": "1b0e579f",
   "metadata": {},
   "outputs": [
    {
     "name": "stdout",
     "output_type": "stream",
     "text": [
      "(1, 10)\n",
      "(2, 20)\n",
      "(3, 30)\n",
      "(4, 40)\n",
      "(5, 50)\n"
     ]
    }
   ],
   "source": [
    "# reading data from list using enumerate\n",
    "a=[10,20,30,40,50]\n",
    "b=enumerate(a,1)\n",
    "for i in b:\n",
    "    print(i)\n"
   ]
  },
  {
   "cell_type": "code",
   "execution_count": 1,
   "id": "2ef4fcdb",
   "metadata": {},
   "outputs": [
    {
     "name": "stdout",
     "output_type": "stream",
     "text": [
      "[10, 20, 30, 40]\n"
     ]
    }
   ],
   "source": [
    "# remove duplicates from list\n",
    "a=[10,20,30,10,20,30,40]\n",
    "b=[]\n",
    "for i in a:\n",
    "    if  i not in b:\n",
    "        b.append(i)\n",
    "print(b)       \n"
   ]
  },
  {
   "cell_type": "code",
   "execution_count": 5,
   "id": "3653ef6e",
   "metadata": {},
   "outputs": [
    {
     "name": "stdout",
     "output_type": "stream",
     "text": [
      "[11, 12, 13, 10, 19, 0, 0, 0]\n"
     ]
    }
   ],
   "source": [
    "x=[11,12,0,13,0,10,19,0]\n",
    "for i in range(0,len(x)):\n",
    "    for j in range(0,len(x)-i-1):\n",
    "        if x[j]==0:\n",
    "            x[j],x[j+1]=x[j+1],x[j]\n",
    "print(x)            \n",
    "            \n",
    "\n"
   ]
  },
  {
   "cell_type": "code",
   "execution_count": 7,
   "id": "7e9f320e",
   "metadata": {},
   "outputs": [
    {
     "name": "stdout",
     "output_type": "stream",
     "text": [
      "[0, 0, 0, 10, 11, 12, 13, 19]\n"
     ]
    }
   ],
   "source": [
    "x=[11,12,0,13,0,10,19,0]\n",
    "for i in range(0,len(x)):\n",
    "    for j in range(0,len(x)-i-1):\n",
    "        if x[j]>x[j+1]:\n",
    "            x[j],x[j+1]=x[j+1],x[j]\n",
    "print(x)            \n",
    "            \n"
   ]
  },
  {
   "cell_type": "code",
   "execution_count": 9,
   "id": "c02cfd6a",
   "metadata": {},
   "outputs": [
    {
     "name": "stdout",
     "output_type": "stream",
     "text": [
      "70\n"
     ]
    }
   ],
   "source": [
    "# finding second highest in list\n",
    "a=[10,20,30,40,70,13,8]\n",
    "h=a[0]\n",
    "for i in range(1,len(a)):\n",
    "    if h<a[i]:\n",
    "        h=a[i]\n",
    "print(h)        \n"
   ]
  },
  {
   "cell_type": "code",
   "execution_count": 10,
   "id": "aa0fc78f",
   "metadata": {},
   "outputs": [
    {
     "name": "stdout",
     "output_type": "stream",
     "text": [
      "13\n"
     ]
    }
   ],
   "source": [
    "# second highest\n",
    "x=[11,12,0,13,0,10,19,0]\n",
    "for i in range(2):\n",
    "    for j in range(0,len(x)-i-1):\n",
    "        if x[j]>x[j+1]:\n",
    "            x[j],x[j+1]=x[j+1],x[j]\n",
    "print(x[-2])            \n",
    "         "
   ]
  },
  {
   "cell_type": "code",
   "execution_count": 15,
   "id": "046a73a6",
   "metadata": {},
   "outputs": [
    {
     "name": "stdout",
     "output_type": "stream",
     "text": [
      "1\n"
     ]
    }
   ],
   "source": [
    "# second minimum\n",
    "x=[11,12,0,13,2,10,19,1]\n",
    "for i in range(2):\n",
    "    for j in range(0,len(x)-i-1):\n",
    "        if x[j]<x[j+1]:\n",
    "            x[j],x[j+1]=x[j+1],x[j]\n",
    "print(x[-2])            \n",
    "         "
   ]
  },
  {
   "cell_type": "code",
   "execution_count": 18,
   "id": "055a66f4",
   "metadata": {},
   "outputs": [
    {
     "name": "stdout",
     "output_type": "stream",
     "text": [
      "[11, 12, 13, 10, 19, 0, 0, 0]\n"
     ]
    }
   ],
   "source": [
    "x=[11,12,0,13,0,10,19,0]\n",
    "for i in range(0,len(a)):\n",
    "    for j in range(0,len(a)-i-1):\n",
    "        if x[j]==0:\n",
    "            x[j],x[j+1]=x[j+1],x[j]\n",
    "print(x)            \n",
    "            "
   ]
  },
  {
   "cell_type": "code",
   "execution_count": 24,
   "id": "791c0396",
   "metadata": {},
   "outputs": [
    {
     "name": "stdout",
     "output_type": "stream",
     "text": [
      "5\n",
      "1 2 3 4 5\n",
      "[1, 2, 3, 4, 5]\n"
     ]
    }
   ],
   "source": [
    "a=int(input())\n",
    "b=list(map(int,input().split()))\n",
    "print(b)\n"
   ]
  },
  {
   "cell_type": "code",
   "execution_count": 3,
   "id": "44dbca17",
   "metadata": {},
   "outputs": [
    {
     "name": "stdout",
     "output_type": "stream",
     "text": [
      "[10, 20, 30, 40]\n",
      "[10, 20, 30, 40]\n"
     ]
    }
   ],
   "source": [
    "# a=[10,20,30,40]\n",
    "# output: [2,4,6,8]\n",
    "a=[10,20,30,40]\n",
    "L=[]\n",
    "for i in a:\n",
    "    L.append(i)\n",
    "print(L) \n",
    "#     or\n",
    "a=[10,20,30,40]\n",
    "L=[]\n",
    "for i in range(len(a)):\n",
    "    L.append(a[i])\n",
    "print(L) \n"
   ]
  },
  {
   "cell_type": "code",
   "execution_count": 4,
   "id": "42f63e0f",
   "metadata": {},
   "outputs": [
    {
     "name": "stdout",
     "output_type": "stream",
     "text": [
      "[21, 32, 43, 54]\n"
     ]
    }
   ],
   "source": [
    "# a=[10,20,30,40]\n",
    "# b=[11,12,13,14]\n",
    "# output: [21,32,43,54]\n",
    "a=[10,20,30,40]\n",
    "b=[11,12,13,14]\n",
    "L=[]\n",
    "for i in range(len(a)):\n",
    "    L.append(a[i]+b[i])\n",
    "print(L)    \n",
    "    "
   ]
  },
  {
   "cell_type": "code",
   "execution_count": 5,
   "id": "e40ca218",
   "metadata": {},
   "outputs": [
    {
     "name": "stdout",
     "output_type": "stream",
     "text": [
      "[21, 32, 43, 54]\n"
     ]
    }
   ],
   "source": [
    "# using map function\n",
    "x=[10,20,30,40]\n",
    "y=[11,12,13,14]\n",
    "z=list(map(lambda a,b:a+b,x,y))\n",
    "print(z)"
   ]
  },
  {
   "cell_type": "code",
   "execution_count": 1,
   "id": "dc21e786",
   "metadata": {},
   "outputs": [
    {
     "name": "stdout",
     "output_type": "stream",
     "text": [
      "[(1, 4), (1, 5), (2, 4), (2, 5)]\n"
     ]
    }
   ],
   "source": [
    "# list comrehension\n",
    "x=[(i,j) for i in range(1,3) for j in range(4,6)]\n",
    "print(x)"
   ]
  },
  {
   "cell_type": "code",
   "execution_count": 2,
   "id": "8c6872de",
   "metadata": {},
   "outputs": [
    {
     "name": "stdout",
     "output_type": "stream",
     "text": [
      "[(1, 5), (2, 4), (3, 3), (4, 2), (5, 1)]\n"
     ]
    }
   ],
   "source": [
    "# \n",
    "x=[(i,j) for i in range(1,6) for j in range(1,6) if i+j==6 ]\n",
    "print(x)"
   ]
  },
  {
   "cell_type": "code",
   "execution_count": 3,
   "id": "50adf999",
   "metadata": {},
   "outputs": [
    {
     "name": "stdout",
     "output_type": "stream",
     "text": [
      "[(1, 5), (2, 4), (4, 2), (5, 1)]\n"
     ]
    }
   ],
   "source": [
    "x=[(i,j) for i in range(1,6) for j in range(1,6) if i+j==6 and i!=j]\n",
    "print(x)"
   ]
  },
  {
   "cell_type": "code",
   "execution_count": 4,
   "id": "59b1520f",
   "metadata": {},
   "outputs": [
    {
     "name": "stdout",
     "output_type": "stream",
     "text": [
      "[100, 144, 169, 196]\n"
     ]
    }
   ],
   "source": [
    "x=[10,12,13,14]\n",
    "y=[i**2 for i in x]\n",
    "print(y)"
   ]
  },
  {
   "cell_type": "code",
   "execution_count": 6,
   "id": "1c9573fd",
   "metadata": {},
   "outputs": [
    {
     "name": "stdout",
     "output_type": "stream",
     "text": [
      "[21, 32, 43, 54]\n"
     ]
    }
   ],
   "source": [
    "x=[10,20,30,40]\n",
    "y=[11,12,13,14]\n",
    "z=[(x[i]+y[j])for i in range(len(x)) for j in range(len(y)) if i==j]\n",
    "print(z)"
   ]
  },
  {
   "cell_type": "markdown",
   "id": "4a300935",
   "metadata": {},
   "source": [
    "# copy method in list"
   ]
  },
  {
   "cell_type": "code",
   "execution_count": 8,
   "id": "c8978c49",
   "metadata": {},
   "outputs": [
    {
     "name": "stdout",
     "output_type": "stream",
     "text": [
      "[10, 20, 30, 40] [10, 20, 30, 40]\n",
      "[50, 20, 30, 40] [50, 20, 30, 40]\n",
      "[50, 2, 30, 40] [50, 2, 30, 40]\n"
     ]
    }
   ],
   "source": [
    "# copy\n",
    "a=[10,20,30,40]\n",
    "b=a  # in this method b holds reference of a so if any changes occurs in a it affect in b\n",
    "print(a,b)\n",
    "a[0]=50\n",
    "print(a,b)\n",
    "b[1]=2\n",
    "print(a,b)"
   ]
  },
  {
   "cell_type": "code",
   "execution_count": 10,
   "id": "ef9c894d",
   "metadata": {},
   "outputs": [
    {
     "name": "stdout",
     "output_type": "stream",
     "text": [
      "[20, 30, 40, 50] [20, 30, 40, 50]\n",
      "[10, 30, 40, 50] [20, 30, 40, 50]\n"
     ]
    }
   ],
   "source": [
    "# shallow copy\n",
    "from copy import copy\n",
    "a=[20,30,40,50]\n",
    "b=a[::]\n",
    "print(a,b)\n",
    "a[0]=10\n",
    "print(a,b)"
   ]
  },
  {
   "cell_type": "code",
   "execution_count": 12,
   "id": "f8877558",
   "metadata": {},
   "outputs": [
    {
     "name": "stdout",
     "output_type": "stream",
     "text": [
      "[20, 20, 30, 40]\n",
      "[10, 20, 30, 40]\n"
     ]
    }
   ],
   "source": [
    "# deep copy \n",
    "from copy import deepcopy\n",
    "a=[10,20,30,40]\n",
    "b=deepcopy(a)\n",
    "a[0]=20\n",
    "print(a)\n",
    "print(b)"
   ]
  },
  {
   "cell_type": "code",
   "execution_count": 13,
   "id": "627d943e",
   "metadata": {},
   "outputs": [
    {
     "name": "stdout",
     "output_type": "stream",
     "text": [
      "[13, ['x', 'y']]\n",
      "[[10, 11], ['x', 'y']]\n"
     ]
    }
   ],
   "source": [
    "c=[[10,11],['x','y']]\n",
    "d=deepcopy(c)\n",
    "c[0]=13\n",
    "print(c)\n",
    "print(d)"
   ]
  },
  {
   "cell_type": "markdown",
   "id": "d0f45969",
   "metadata": {},
   "source": [
    "# #  Syntax-1: [expression for variable in iterable]\n",
    "# #  Syntax-2: [expression for variable in iterable if test"
   ]
  },
  {
   "cell_type": "code",
   "execution_count": 1,
   "id": "2b63a184",
   "metadata": {},
   "outputs": [
    {
     "name": "stdout",
     "output_type": "stream",
     "text": [
      "[(0, 5), (1, 4)]\n"
     ]
    }
   ],
   "source": [
    "a=[(i,j)for i in range(3) for j in range(4,7) if i+j==5]\n",
    "print(a)"
   ]
  },
  {
   "cell_type": "code",
   "execution_count": 7,
   "id": "1d48244f",
   "metadata": {},
   "outputs": [
    {
     "name": "stdout",
     "output_type": "stream",
     "text": [
      "enter how many elements in list5\n",
      "enter element1 2 3 4 5 6\n",
      "[1, 2, 3, 4, 5]\n"
     ]
    }
   ],
   "source": [
    "# takng input as list\n",
    "n=int(input('enter how many elements in list'))\n",
    "a=list(map(int,input('enter element').strip().split()[:n]))\n",
    "print(a)"
   ]
  },
  {
   "cell_type": "code",
   "execution_count": 4,
   "id": "c24ba0e6",
   "metadata": {},
   "outputs": [
    {
     "name": "stdout",
     "output_type": "stream",
     "text": [
      "enter number10 20\n",
      "10 <class 'str'>\n",
      "20 <class 'str'>\n"
     ]
    }
   ],
   "source": [
    "# taking multiple input from user\n",
    "x,y=input('enter number').split()\n",
    "print(x,type(x))\n",
    "print(y,type(y))"
   ]
  },
  {
   "cell_type": "code",
   "execution_count": 12,
   "id": "81c0ada5",
   "metadata": {},
   "outputs": [
    {
     "name": "stdout",
     "output_type": "stream",
     "text": [
      "team t2 wins\n",
      "team t1 wins\n",
      "team t2 wins\n",
      "team t1 wins\n",
      "team t2 wins\n",
      "Tournament won by team t2 wins:3\n"
     ]
    }
   ],
   "source": [
    "t1=[10,20,30,40,50]\n",
    "t2=[11,15,31,30,51]\n",
    "w1=0\n",
    "w2=0\n",
    "for i in range(len(t1)):\n",
    "    if t1[i]>t2[i]:\n",
    "        w1+=1\n",
    "        print(f'team t1 wins')\n",
    "    else:\n",
    "        w2+=1\n",
    "        print(f'team t2 wins')\n",
    "if w1>w2:\n",
    "    print(f'Tournament won by team t1 wins:{w1}')\n",
    "else:\n",
    "    print(f'Tournament won by team t2 wins:{w2}')"
   ]
  },
  {
   "cell_type": "code",
   "execution_count": 15,
   "id": "092ef6b6",
   "metadata": {},
   "outputs": [
    {
     "name": "stdout",
     "output_type": "stream",
     "text": [
      "aaabbbdddd\n"
     ]
    }
   ],
   "source": [
    "a='a3b3d4'   # o/p: aaabbbdddd\n",
    "c=a[0::2]\n",
    "d=a[1::2]\n",
    "t=''\n",
    "for i in range(len(c)):\n",
    "    t=t+c[i]*int(d[i])\n",
    "print(t)    "
   ]
  },
  {
   "cell_type": "code",
   "execution_count": 2,
   "id": "31196a00",
   "metadata": {},
   "outputs": [
    {
     "name": "stdout",
     "output_type": "stream",
     "text": [
      "enter number:3\n",
      "23\n"
     ]
    }
   ],
   "source": [
    "n=int(input('enter number:'))\n",
    "s=[3,1,1]\n",
    "p=[6,5,4]\n",
    "s.sort()\n",
    "Sum=0\n",
    "for i in range(n):\n",
    "    Sum=Sum+(p[i]*s[i])\n",
    "print(Sum)    \n",
    "    "
   ]
  },
  {
   "cell_type": "code",
   "execution_count": 8,
   "id": "1e536d21",
   "metadata": {},
   "outputs": [
    {
     "name": "stdout",
     "output_type": "stream",
     "text": [
      "slice(0, 5, 1)\n",
      "[10, 20, 30, 40, 50]\n"
     ]
    }
   ],
   "source": [
    "# slice object\n",
    "a=[10,20,30,40,50,60,70,80,90,100]\n",
    "b=slice(0,5,1) # slice object \n",
    "print(b)\n",
    "list1=a[b]\n",
    "print(list1)\n"
   ]
  },
  {
   "cell_type": "code",
   "execution_count": 10,
   "id": "4b935d91",
   "metadata": {},
   "outputs": [
    {
     "name": "stdout",
     "output_type": "stream",
     "text": [
      "[10, 20, 30, 40, 50]\n"
     ]
    }
   ],
   "source": [
    "c=list(range(10,110,10))\n",
    "list2=c[b]\n",
    "print(list2)"
   ]
  },
  {
   "cell_type": "code",
   "execution_count": 12,
   "id": "3f983110",
   "metadata": {},
   "outputs": [
    {
     "name": "stdout",
     "output_type": "stream",
     "text": [
      "[10, 20, 30, 50]\n"
     ]
    }
   ],
   "source": [
    "# del method\n",
    "a=[10,20,30,40,50]\n",
    "d\n",
    "el a[3]print(a)"
   ]
  },
  {
   "cell_type": "code",
   "execution_count": 13,
   "id": "867be187",
   "metadata": {},
   "outputs": [
    {
     "name": "stdout",
     "output_type": "stream",
     "text": [
      "[60, 70, 80, 90, 100]\n"
     ]
    }
   ],
   "source": [
    "a=list(range(10,110,10))\n",
    "del a[0:5]\n",
    "print(a)"
   ]
  },
  {
   "cell_type": "code",
   "execution_count": 22,
   "id": "16075e8d",
   "metadata": {},
   "outputs": [
    {
     "name": "stdout",
     "output_type": "stream",
     "text": [
      "[30, 50, 70, 90, 110]\n"
     ]
    }
   ],
   "source": [
    "# list comprehension\n",
    "a=[10,20,30,40,50]\n",
    "b=[20,30,40,50,60]\n",
    "c=[(a[i]+b[i]) for i in range(len(a))]\n",
    "print(c)"
   ]
  },
  {
   "cell_type": "code",
   "execution_count": 19,
   "id": "aa4265d6",
   "metadata": {},
   "outputs": [
    {
     "name": "stdout",
     "output_type": "stream",
     "text": [
      "[30, 50, 70, 90]\n"
     ]
    }
   ],
   "source": [
    "a=[10,20,30,40]\n",
    "b=[20,30,40,50]\n",
    "l=[]\n",
    "for i in range(len(a)):\n",
    "    l.append(a[i]+b[i])\n",
    "print(l)    \n",
    "    "
   ]
  },
  {
   "cell_type": "code",
   "execution_count": 24,
   "id": "75a99fb0",
   "metadata": {},
   "outputs": [
    {
     "name": "stdout",
     "output_type": "stream",
     "text": [
      "[10, 20, 30, 40, 50, 60, 70]\n",
      "************************************\n",
      "<list_iterator object at 0x0000028A12102100>\n",
      "10 20 30 40 50 60 70 "
     ]
    }
   ],
   "source": [
    "# iterator object\n",
    "a=[10,20,30,40,50,60,70]\n",
    "b=iter(a)\n",
    "print(a)\n",
    "print('************************************')\n",
    "print(b)\n",
    "for i in b:\n",
    "    print(i,end=' ')"
   ]
  },
  {
   "cell_type": "code",
   "execution_count": 26,
   "id": "d25fddc0",
   "metadata": {},
   "outputs": [
    {
     "name": "stdout",
     "output_type": "stream",
     "text": [
      "(50, 10)\n",
      "(51, 20)\n",
      "(52, 30)\n",
      "(53, 40)\n",
      "(54, 50)\n",
      "(55, 60)\n",
      "(56, 70)\n",
      "(57, 80)\n",
      "(58, 90)\n",
      "(59, 100)\n"
     ]
    }
   ],
   "source": [
    "# enumerator object \n",
    "a=list(range(10,110,10))\n",
    "b=enumerate(a,50)\n",
    "for i in b:\n",
    "    print(i)"
   ]
  },
  {
   "cell_type": "code",
   "execution_count": 27,
   "id": "790fa353",
   "metadata": {},
   "outputs": [
    {
     "name": "stdout",
     "output_type": "stream",
     "text": [
      "A B C D E F G H I J K L M N O P Q R S T U V W X Y Z "
     ]
    }
   ],
   "source": [
    "for i in range(65,91):\n",
    "    print(chr(i),end=' ')"
   ]
  },
  {
   "cell_type": "code",
   "execution_count": 29,
   "id": "e1b247b8",
   "metadata": {},
   "outputs": [
    {
     "name": "stdout",
     "output_type": "stream",
     "text": [
      "a b c d e f g h i j k l m n o p q r s t u v w x y z "
     ]
    }
   ],
   "source": [
    "for i in range(97,123):\n",
    "    print(chr(i),end=' ')"
   ]
  },
  {
   "cell_type": "code",
   "execution_count": null,
   "id": "b0a25f25",
   "metadata": {},
   "outputs": [],
   "source": []
  }
 ],
 "metadata": {
  "kernelspec": {
   "display_name": "Python 3 (ipykernel)",
   "language": "python",
   "name": "python3"
  },
  "language_info": {
   "codemirror_mode": {
    "name": "ipython",
    "version": 3
   },
   "file_extension": ".py",
   "mimetype": "text/x-python",
   "name": "python",
   "nbconvert_exporter": "python",
   "pygments_lexer": "ipython3",
   "version": "3.9.12"
  }
 },
 "nbformat": 4,
 "nbformat_minor": 5
}
