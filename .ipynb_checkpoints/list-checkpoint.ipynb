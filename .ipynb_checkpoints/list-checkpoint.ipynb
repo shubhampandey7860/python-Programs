{
 "cells": [
  {
   "cell_type": "code",
   "execution_count": 1,
   "id": "275bc3a2",
   "metadata": {},
   "outputs": [
    {
     "data": {
      "text/plain": [
       "list"
      ]
     },
     "execution_count": 1,
     "metadata": {},
     "output_type": "execute_result"
    }
   ],
   "source": [
    "# creating list\n",
    "a=[] \n",
    "type(a)"
   ]
  },
  {
   "cell_type": "code",
   "execution_count": 2,
   "id": "8d49f045",
   "metadata": {},
   "outputs": [
    {
     "name": "stdout",
     "output_type": "stream",
     "text": [
      "10 20 30 40 50 "
     ]
    }
   ],
   "source": [
    "# \n",
    "a=[10,20,30,40,50]\n",
    "for i in a:\n",
    "    print(i,end=' ')"
   ]
  },
  {
   "cell_type": "code",
   "execution_count": 3,
   "id": "0db38b5f",
   "metadata": {},
   "outputs": [
    {
     "name": "stdout",
     "output_type": "stream",
     "text": [
      "[10, 'shubham']\n"
     ]
    }
   ],
   "source": [
    "# adding element to dict using append method\n",
    "a=[]\n",
    "a.append(10)\n",
    "a.append('shubham')\n",
    "print(a)"
   ]
  },
  {
   "cell_type": "code",
   "execution_count": 4,
   "id": "b7cad4d3",
   "metadata": {},
   "outputs": [
    {
     "name": "stdout",
     "output_type": "stream",
     "text": [
      "[30, 10, 20, 40]\n"
     ]
    }
   ],
   "source": [
    "# adding elements to list using insert method\n",
    "a=[10,20]\n",
    "a.insert(0,30)\n",
    "a.insert(3,40)\n",
    "print(a)"
   ]
  },
  {
   "cell_type": "code",
   "execution_count": 5,
   "id": "b058b741",
   "metadata": {},
   "outputs": [
    {
     "name": "stdout",
     "output_type": "stream",
     "text": [
      "[10, 20, 30, 40, 40, 50, 60]\n"
     ]
    }
   ],
   "source": [
    "# adding elements using extend method\n",
    "a=[10,20,30,40]\n",
    "d=set((40,50,60,40))\n",
    "a.extend(d)\n",
    "print(a)"
   ]
  },
  {
   "cell_type": "code",
   "execution_count": 6,
   "id": "da16e89e",
   "metadata": {},
   "outputs": [
    {
     "name": "stdout",
     "output_type": "stream",
     "text": [
      "[10, 20, 30, 40, 50]\n",
      "[50, 60, 70]\n"
     ]
    }
   ],
   "source": [
    "# reading data from list using slicing\n",
    "a=[10,20,30,40,50,60,70]\n",
    "print(a[:5])\n",
    "print(a[4:len(a)])"
   ]
  },
  {
   "cell_type": "code",
   "execution_count": 11,
   "id": "0ae7da84",
   "metadata": {},
   "outputs": [
    {
     "name": "stdout",
     "output_type": "stream",
     "text": [
      "1\n",
      "2\n",
      "3 4 5 6 7 8 9 10 "
     ]
    }
   ],
   "source": [
    "# reading data from list using iter() method\n",
    "a=list(range(1,11))\n",
    "b=iter(a)\n",
    "print(next(b))\n",
    "print(next(b))\n",
    "\n",
    "for i in b:\n",
    "    print(i,end=' ')"
   ]
  },
  {
   "cell_type": "code",
   "execution_count": 15,
   "id": "1b0e579f",
   "metadata": {},
   "outputs": [
    {
     "name": "stdout",
     "output_type": "stream",
     "text": [
      "(1, 10)\n",
      "(2, 20)\n",
      "(3, 30)\n",
      "(4, 40)\n",
      "(5, 50)\n"
     ]
    }
   ],
   "source": [
    "# reading data from list using enumerate\n",
    "a=[10,20,30,40,50]\n",
    "b=enumerate(a,1)\n",
    "for i in b:\n",
    "    print(i)\n"
   ]
  },
  {
   "cell_type": "code",
   "execution_count": null,
   "id": "2ef4fcdb",
   "metadata": {},
   "outputs": [],
   "source": []
  }
 ],
 "metadata": {
  "kernelspec": {
   "display_name": "Python 3 (ipykernel)",
   "language": "python",
   "name": "python3"
  },
  "language_info": {
   "codemirror_mode": {
    "name": "ipython",
    "version": 3
   },
   "file_extension": ".py",
   "mimetype": "text/x-python",
   "name": "python",
   "nbconvert_exporter": "python",
   "pygments_lexer": "ipython3",
   "version": "3.9.12"
  }
 },
 "nbformat": 4,
 "nbformat_minor": 5
}
