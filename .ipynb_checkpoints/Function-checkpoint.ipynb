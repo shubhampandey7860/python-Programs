{
 "cells": [
  {
   "cell_type": "code",
   "execution_count": 1,
   "id": "2914655a",
   "metadata": {},
   "outputs": [
    {
     "name": "stdout",
     "output_type": "stream",
     "text": [
      "this is functon\n"
     ]
    }
   ],
   "source": [
    "# function without argument\n",
    "def fun():\n",
    "    print(f'this is functon')\n",
    "fun()    "
   ]
  },
  {
   "cell_type": "code",
   "execution_count": 2,
   "id": "44b2e8d7",
   "metadata": {},
   "outputs": [
    {
     "name": "stdout",
     "output_type": "stream",
     "text": [
      "(100, 200)\n"
     ]
    }
   ],
   "source": [
    "# function without argument and return\n",
    "def fun1():\n",
    "    a=100\n",
    "    b=200\n",
    "    return a,b\n",
    "print(fun1())\n"
   ]
  },
  {
   "cell_type": "code",
   "execution_count": 3,
   "id": "d9544412",
   "metadata": {},
   "outputs": [
    {
     "name": "stdout",
     "output_type": "stream",
     "text": [
      "Name:shubham\n",
      "age:24\n",
      "marks:75\n"
     ]
    }
   ],
   "source": [
    "# positional argument\n",
    "def student_details(name,age,marks):\n",
    "    print(f'Name:{name}')\n",
    "    print(f'age:{age}')\n",
    "    print(f'marks:{marks}')\n",
    "student_details('shubham',24,75)"
   ]
  },
  {
   "cell_type": "code",
   "execution_count": 4,
   "id": "69b213c3",
   "metadata": {},
   "outputs": [
    {
     "name": "stdout",
     "output_type": "stream",
     "text": [
      "a:10\n",
      "b:20\n",
      "c:30\n",
      "------------------------------\n",
      "a:10\n",
      "b:0\n",
      "c:0\n",
      "------------------------------\n",
      "a:0\n",
      "b:0\n",
      "c:0\n",
      "------------------------------\n"
     ]
    }
   ],
   "source": [
    "# default argument argument\n",
    "def fun(a=0,b=0,c=0):\n",
    "    print(f'a:{a}')\n",
    "    print(f'b:{b}')\n",
    "    print(f'c:{c}')\n",
    "    print('-'*30)\n",
    "fun(10,20,30)\n",
    "fun(10)\n",
    "fun()\n"
   ]
  },
  {
   "cell_type": "code",
   "execution_count": 5,
   "id": "7e7b54d8",
   "metadata": {},
   "outputs": [
    {
     "name": "stdout",
     "output_type": "stream",
     "text": [
      "name:shubham\n",
      "age:23\n",
      "marks:75\n"
     ]
    }
   ],
   "source": [
    "# keyward argument\n",
    "def student(name,age,marks):\n",
    "    print(f'name:{name}')\n",
    "    print(f'age:{age}')\n",
    "    print(f'marks:{marks}')\n",
    "student(name='shubham',marks=75,age=23)\n",
    "\n",
    "    "
   ]
  },
  {
   "cell_type": "code",
   "execution_count": 6,
   "id": "a5ac46b2",
   "metadata": {},
   "outputs": [
    {
     "name": "stdout",
     "output_type": "stream",
     "text": [
      "a:(10, 20, 30, 40, 50)\n",
      "a:(10, 20, 30)\n",
      "a:(10,)\n",
      "a:()\n"
     ]
    }
   ],
   "source": [
    "# variable length argument\n",
    "def fun(*a):\n",
    "    print(f'a:{a}')\n",
    "fun(10,20,30,40,50) \n",
    "fun(10,20,30)\n",
    "fun(10)\n",
    "fun()"
   ]
  },
  {
   "cell_type": "code",
   "execution_count": 7,
   "id": "b7280224",
   "metadata": {},
   "outputs": [
    {
     "name": "stdout",
     "output_type": "stream",
     "text": [
      "a:{'x': 10, 'y': 20, 'z': 30}\n",
      "a:{'x': 10}\n",
      "a:{}\n"
     ]
    }
   ],
   "source": [
    "# kwargs argument\n",
    "def fun(**a):\n",
    "    print(f'a:{a}')\n",
    "fun(x=10,y=20,z=30) \n",
    "fun(x=10)\n",
    "fun()"
   ]
  },
  {
   "cell_type": "code",
   "execution_count": 8,
   "id": "4bdc6425",
   "metadata": {},
   "outputs": [
    {
     "ename": "SyntaxError",
     "evalue": "positional argument follows keyword argument (1278226415.py, line 5)",
     "output_type": "error",
     "traceback": [
      "\u001b[1;36m  Input \u001b[1;32mIn [8]\u001b[1;36m\u001b[0m\n\u001b[1;33m    fun(c=10,20,30)\u001b[0m\n\u001b[1;37m                  ^\u001b[0m\n\u001b[1;31mSyntaxError\u001b[0m\u001b[1;31m:\u001b[0m positional argument follows keyword argument\n"
     ]
    }
   ],
   "source": [
    "def fun(a,b,c):\n",
    "    print(f'a:{a}')\n",
    "    print(f'b:{b}')\n",
    "    print(f'c:{c}')\n",
    "fun(c=10,20,30)\n",
    "    "
   ]
  },
  {
   "cell_type": "code",
   "execution_count": 9,
   "id": "7dbc71f2",
   "metadata": {},
   "outputs": [
    {
     "name": "stdout",
     "output_type": "stream",
     "text": [
      "a:10\n",
      "b:30\n",
      "c:20\n"
     ]
    }
   ],
   "source": [
    "def fun(a,b,c):\n",
    "    print(f'a:{a}')\n",
    "    print(f'b:{b}')\n",
    "    print(f'c:{c}')\n",
    "fun(10,c=20,b=30)"
   ]
  },
  {
   "cell_type": "code",
   "execution_count": 10,
   "id": "9cbe2030",
   "metadata": {},
   "outputs": [
    {
     "ename": "SyntaxError",
     "evalue": "non-default argument follows default argument (2268268796.py, line 1)",
     "output_type": "error",
     "traceback": [
      "\u001b[1;36m  Input \u001b[1;32mIn [10]\u001b[1;36m\u001b[0m\n\u001b[1;33m    def fun(a=0,b=0,c):\u001b[0m\n\u001b[1;37m                     ^\u001b[0m\n\u001b[1;31mSyntaxError\u001b[0m\u001b[1;31m:\u001b[0m non-default argument follows default argument\n"
     ]
    }
   ],
   "source": [
    "def fun(a=0,b=0,c):\n",
    "    print(f'a:{a}')\n",
    "    print(f'b:{b}')\n",
    "    print(f'c:{c}')\n",
    "fun(10,c=20,b=30)"
   ]
  },
  {
   "cell_type": "code",
   "execution_count": 11,
   "id": "1e2f0e74",
   "metadata": {},
   "outputs": [
    {
     "name": "stdout",
     "output_type": "stream",
     "text": [
      "a:10\n",
      "b:30\n",
      "c:20\n"
     ]
    }
   ],
   "source": [
    "def fun(a=0,b=0,c=0):\n",
    "    print(f'a:{a}')\n",
    "    print(f'b:{b}')\n",
    "    print(f'c:{c}')\n",
    "fun(10,c=20,b=30)"
   ]
  },
  {
   "cell_type": "code",
   "execution_count": 12,
   "id": "d5cfc571",
   "metadata": {},
   "outputs": [
    {
     "name": "stdout",
     "output_type": "stream",
     "text": [
      "a:10\n",
      "args:(20, 30, 40)\n",
      "kwargs:{'m': 10, 'n': 20}\n",
      "a:10\n",
      "args:()\n",
      "kwargs:{}\n"
     ]
    }
   ],
   "source": [
    "def fun(a,*args,**kwargs):\n",
    "    print(f'a:{a}')\n",
    "    print(f'args:{args}')\n",
    "    print(f'kwargs:{kwargs}')\n",
    "fun(10,20,30,40,m=10,n=20)\n",
    "fun(10)"
   ]
  },
  {
   "cell_type": "code",
   "execution_count": 13,
   "id": "19d0025e",
   "metadata": {},
   "outputs": [
    {
     "ename": "SyntaxError",
     "evalue": "invalid syntax (2366052483.py, line 1)",
     "output_type": "error",
     "traceback": [
      "\u001b[1;36m  Input \u001b[1;32mIn [13]\u001b[1;36m\u001b[0m\n\u001b[1;33m    def fun(**kwargs,*args):\u001b[0m\n\u001b[1;37m                     ^\u001b[0m\n\u001b[1;31mSyntaxError\u001b[0m\u001b[1;31m:\u001b[0m invalid syntax\n"
     ]
    }
   ],
   "source": [
    "def fun(**kwargs,*args):\n",
    "    print(f'args:{args}')\n",
    "    print(f'kwargs:{kwargs}')\n",
    "fun(m=10,n=20,30,40,50)\n"
   ]
  },
  {
   "cell_type": "code",
   "execution_count": 17,
   "id": "437971bf",
   "metadata": {},
   "outputs": [
    {
     "name": "stdout",
     "output_type": "stream",
     "text": [
      "args:(20, 30, 40, 50)\n",
      "kwargs:{'m': 10, 'n': 20}\n"
     ]
    }
   ],
   "source": [
    "def fun(*args,**kwargs):\n",
    "    print(f'args:{args}')\n",
    "    print(f'kwargs:{kwargs}')\n",
    "fun(20,30,40,50,m=10,n=20)\n"
   ]
  },
  {
   "cell_type": "code",
   "execution_count": 19,
   "id": "39a89c21",
   "metadata": {},
   "outputs": [
    {
     "name": "stdout",
     "output_type": "stream",
     "text": [
      "enter number:5\n",
      "5 is prime\n"
     ]
    }
   ],
   "source": [
    "# prime number\n",
    "def prime(n):\n",
    "    if n<=1:\n",
    "        return False\n",
    "    for i in range(2,n//2+1):\n",
    "        if n%i==0:\n",
    "            return False\n",
    "    return True\n",
    "num=int(input('enter number:'))\n",
    "if prime(num):\n",
    "    print(f'{num} is prime')\n",
    "else:\n",
    "    print(f'{num} is not prime')"
   ]
  },
  {
   "cell_type": "code",
   "execution_count": 26,
   "id": "5a2f4b2e",
   "metadata": {},
   "outputs": [
    {
     "name": "stdout",
     "output_type": "stream",
     "text": [
      "enter number:13\n",
      "number is emirp\n"
     ]
    }
   ],
   "source": [
    "# emirp number\n",
    "def prime(n):\n",
    "    if n<=1:\n",
    "        return False\n",
    "    for i in range(2,n//2+1):\n",
    "        if n%i==0:\n",
    "            return False\n",
    "    return True\n",
    "def rev(n):\n",
    "    s=0\n",
    "    while n!=0:\n",
    "        s=s*10+n%10\n",
    "        n//=10\n",
    "    return s\n",
    "num=int(input('enter number:'))\n",
    "res=rev(num)\n",
    "if num!=rev(num) and prime(num) and prime(res):\n",
    "    print(f'{num}is emirp')\n",
    "else:\n",
    "    print(f'{num} is not emirp')\n"
   ]
  },
  {
   "cell_type": "code",
   "execution_count": 32,
   "id": "57cda0e4",
   "metadata": {},
   "outputs": [
    {
     "name": "stdout",
     "output_type": "stream",
     "text": [
      "enter number:13\n",
      "13 is not palyprime\n"
     ]
    }
   ],
   "source": [
    "# palyprime\n",
    "def prime(n):\n",
    "    if n<=1:\n",
    "        return False\n",
    "    for i in range(2,n//2+1):\n",
    "        if n%i==0:\n",
    "            return False\n",
    "    return True\n",
    "def rev(n):\n",
    "    s=0\n",
    "    while n!=0:\n",
    "        s=s*10+n%10\n",
    "        n//=10\n",
    "    return s\n",
    "num=int(input('enter number:'))\n",
    "if rev(num)==num and prime(num):\n",
    "    print(f'{num} is palyprime')\n",
    "else:\n",
    "    print(f'{num} is not palyprime')\n"
   ]
  },
  {
   "cell_type": "code",
   "execution_count": 39,
   "id": "1d7b5adc",
   "metadata": {},
   "outputs": [
    {
     "name": "stdout",
     "output_type": "stream",
     "text": [
      "enter number:5\n",
      "3\n"
     ]
    }
   ],
   "source": [
    "# fibonacci series\n",
    "def fib(n):\n",
    "    if n==0 or n==1:\n",
    "        return n-1\n",
    "    f,s=0,1\n",
    "    for i in range(n-2):\n",
    "        T=f+s\n",
    "        f,s=s,T\n",
    "    return s\n",
    "n=int(input('enter number:'))\n",
    "print(fib(n))\n"
   ]
  },
  {
   "cell_type": "code",
   "execution_count": 42,
   "id": "387486e5",
   "metadata": {},
   "outputs": [
    {
     "name": "stdout",
     "output_type": "stream",
     "text": [
      "0 1 1 2 3 5 8 13 21 34 "
     ]
    }
   ],
   "source": [
    "# print first 10 numbers fibonacci series\n",
    "def fib(n):\n",
    "    if n==0 or n==1:\n",
    "        return n-1\n",
    "    a,b=0,1\n",
    "    for i in range(n-2):\n",
    "        c=a+b\n",
    "        a,b=b,c\n",
    "    return b\n",
    "for j in range(1,11):\n",
    "    print(fib(j),end=' ')"
   ]
  },
  {
   "cell_type": "code",
   "execution_count": 46,
   "id": "48435bbd",
   "metadata": {},
   "outputs": [
    {
     "name": "stdout",
     "output_type": "stream",
     "text": [
      "enter number:6\n",
      "factorial:720\n"
     ]
    }
   ],
   "source": [
    "# factorial of a number\n",
    "def fact(n):\n",
    "    res=1\n",
    "    for i in range(1,n+1):\n",
    "        res*=i\n",
    "    return res\n",
    "n=int(input('enter number:'))\n",
    "fact=fact(n)\n",
    "print(f'factorial:{fact}')"
   ]
  },
  {
   "cell_type": "code",
   "execution_count": 51,
   "id": "553b40de",
   "metadata": {},
   "outputs": [
    {
     "name": "stdout",
     "output_type": "stream",
     "text": [
      "enter number:145\n",
      "special number\n"
     ]
    }
   ],
   "source": [
    "# special number\n",
    "def num(n):\n",
    "    s=0\n",
    "    while n!=0:\n",
    "        res=n%10\n",
    "        n//=10\n",
    "        fact=1\n",
    "        for i in range(1,res+1):\n",
    "            fact*=i\n",
    "        s=s+fact\n",
    "    return s\n",
    "n=int(input('enter number:'))\n",
    "if n==num(n):\n",
    "    print(f'special number')\n",
    "else:\n",
    "    print(f'not special number')\n",
    "\n",
    "    "
   ]
  },
  {
   "cell_type": "markdown",
   "id": "589fa051",
   "metadata": {},
   "source": [
    "# Recursion programs"
   ]
  },
  {
   "cell_type": "code",
   "execution_count": 1,
   "id": "cef3724d",
   "metadata": {},
   "outputs": [
    {
     "name": "stdout",
     "output_type": "stream",
     "text": [
      "120\n"
     ]
    }
   ],
   "source": [
    "# factorial programs\n",
    "def fact(n):\n",
    "    if n==0 or n==1:\n",
    "        return 1\n",
    "    return n*fact(n-1)\n",
    "x=5\n",
    "print(fact(5))"
   ]
  },
  {
   "cell_type": "code",
   "execution_count": 2,
   "id": "f2ea3297",
   "metadata": {},
   "outputs": [
    {
     "name": "stdout",
     "output_type": "stream",
     "text": [
      "6\n"
     ]
    }
   ],
   "source": [
    "# sum of digits in given number\n",
    "def sumdigit(n):\n",
    "    if n==0:\n",
    "        return 0\n",
    "    return n%10+sumdigit(n//10)\n",
    "x=123\n",
    "print(sumdigit(x))"
   ]
  },
  {
   "cell_type": "code",
   "execution_count": 3,
   "id": "bfdc2c45",
   "metadata": {},
   "outputs": [
    {
     "name": "stdout",
     "output_type": "stream",
     "text": [
      "3\n"
     ]
    }
   ],
   "source": [
    "# fibonacci series using recursion \n",
    "def fib(n):\n",
    "    if n==1 or n==2:\n",
    "        return n-1\n",
    "    return fib(n-1)+fib(n-2)\n",
    "x=5\n",
    "print(fib(5))\n",
    "    "
   ]
  },
  {
   "cell_type": "code",
   "execution_count": 4,
   "id": "00b4b10b",
   "metadata": {},
   "outputs": [
    {
     "name": "stdout",
     "output_type": "stream",
     "text": [
      "0 1 1 2 3 5 8 13 21 34 "
     ]
    }
   ],
   "source": [
    "# wap to print first 10th fibonacci number\n",
    "def fib(n):\n",
    "    if n==1 or n==2:\n",
    "        return n-1\n",
    "    return fib(n-1)+fib(n-2)\n",
    "for i in range(1,11):\n",
    "    print(fib(i),end=' ')"
   ]
  },
  {
   "cell_type": "code",
   "execution_count": 5,
   "id": "a51ef59a",
   "metadata": {},
   "outputs": [
    {
     "name": "stdout",
     "output_type": "stream",
     "text": [
      "nohtyp\n"
     ]
    }
   ],
   "source": [
    "# reverse a string using recursion\n",
    "def Rstr(n):\n",
    "    if n==-len(s)-1:\n",
    "        return ''\n",
    "    return s[n]+Rstr(n-1)\n",
    "s='python'\n",
    "x=Rstr(-1)\n",
    "print(x)"
   ]
  },
  {
   "cell_type": "markdown",
   "id": "83fab3c1",
   "metadata": {},
   "source": [
    "# scope of variable"
   ]
  },
  {
   "cell_type": "code",
   "execution_count": 1,
   "id": "e9142a47",
   "metadata": {},
   "outputs": [
    {
     "name": "stdout",
     "output_type": "stream",
     "text": [
      "Local variable:10\n",
      "global variable:20\n"
     ]
    }
   ],
   "source": [
    "# local variables\n",
    "def fun1():\n",
    "    x=10\n",
    "    print(f'Local variable:{x}')\n",
    "x=20\n",
    "fun1()\n",
    "print(f'global variable:{x}')"
   ]
  },
  {
   "cell_type": "code",
   "execution_count": 3,
   "id": "58408c70",
   "metadata": {},
   "outputs": [
    {
     "name": "stdout",
     "output_type": "stream",
     "text": [
      "Local variable:20\n",
      "Global variable:20\n"
     ]
    }
   ],
   "source": [
    "# global variable\n",
    "# global variable can acessible in main space and functional space\n",
    "def fun1():\n",
    "    print(f'Local variable:{x}')\n",
    "x=20\n",
    "fun1()\n",
    "print(f'Global variable:{x}')"
   ]
  },
  {
   "cell_type": "code",
   "execution_count": 4,
   "id": "534a5d02",
   "metadata": {},
   "outputs": [
    {
     "name": "stdout",
     "output_type": "stream",
     "text": [
      "Local variable:20\n",
      "Global variable:20\n"
     ]
    }
   ],
   "source": [
    "# make local variable using global inside function using global keyword\n",
    "def fun1():\n",
    "    global y\n",
    "    y=20\n",
    "    print(f'Local variable:{y}')\n",
    "fun1()\n",
    "print(f'Global variable:{y}')"
   ]
  },
  {
   "cell_type": "code",
   "execution_count": 6,
   "id": "e3c9f321",
   "metadata": {},
   "outputs": [
    {
     "name": "stdout",
     "output_type": "stream",
     "text": [
      "Local variable:10\n",
      "Non-local variable:10\n",
      "Global variable:20\n"
     ]
    }
   ],
   "source": [
    "# non-local : a variable inside function and outside inner function is know as non_local variable\n",
    "# non-local variable accessible in local space and non-local space\n",
    "def fun1():\n",
    "    z=10\n",
    "    def fun2():\n",
    "        print(f'Local variable:{z}')\n",
    "    fun2()\n",
    "    print(f'Non-local variable:{z}')\n",
    "z=20    \n",
    "fun1()\n",
    "print(f'Global variable:{z}')\n",
    "\n",
    "        "
   ]
  },
  {
   "cell_type": "code",
   "execution_count": 1,
   "id": "20a82a9d",
   "metadata": {},
   "outputs": [
    {
     "name": "stdout",
     "output_type": "stream",
     "text": [
      "Local variable:30\n",
      "Non-local variable:10\n",
      "Global variable:30\n"
     ]
    }
   ],
   "source": [
    "def fun1():\n",
    "    z=10\n",
    "    def fun2():\n",
    "        global z\n",
    "        z=30\n",
    "        \n",
    "        print(f'Local variable:{z}')\n",
    "    fun2()\n",
    "    print(f'Non-local variable:{z}')\n",
    "z=20    \n",
    "fun1()\n",
    "print(f'Global variable:{z}')\n"
   ]
  },
  {
   "cell_type": "code",
   "execution_count": 1,
   "id": "977070e8",
   "metadata": {},
   "outputs": [
    {
     "name": "stdout",
     "output_type": "stream",
     "text": [
      "enter value:1 1 1 1\n",
      "2\n",
      "5\n",
      "10\n",
      "100\n",
      "117\n"
     ]
    }
   ],
   "source": [
    "def count_coin(*n):\n",
    "    Sum=0\n",
    "    coin=[2,5,10,100]\n",
    "    for i in range(len(coin)):\n",
    "        if i==0:\n",
    "            a=coin[i]*p\n",
    "            print(a)\n",
    "            Sum+=a\n",
    "        elif i==1:\n",
    "            b=coin[i]*q\n",
    "            print(b)\n",
    "            Sum+=b\n",
    "        elif i==2:\n",
    "            c=coin[i]*r\n",
    "            print(c)\n",
    "            Sum+=c\n",
    "        elif i==3:\n",
    "            d=coin[i]*s\n",
    "            print(d)\n",
    "            Sum+=d\n",
    "    print(Sum)\n",
    "n=list(map(int,input('enter value:').split()))\n",
    "p,q,r,s=n\n",
    "count_coin(p,q,r,s)\n"
   ]
  },
  {
   "cell_type": "code",
   "execution_count": 2,
   "id": "0f0b791e",
   "metadata": {},
   "outputs": [
    {
     "name": "stdout",
     "output_type": "stream",
     "text": [
      "enter how many  number of elements in array:5\n",
      "enter elements of array:10\n",
      "enter elements of array:20\n",
      "enter elements of array:30\n",
      "enter elements of array:40\n",
      "enter elements of array:50\n",
      "[10, 20, 30, 40, 50]\n",
      "enter number:2\n",
      "80\n"
     ]
    }
   ],
   "source": [
    "# array \n",
    "n=int(input('enter how many  number of elements in array:'))\n",
    "lst=[]\n",
    "for i in range(n):\n",
    "    m=int(input('enter elements of array:'))\n",
    "    lst.append(m)\n",
    "print(lst)\n",
    "#\n",
    "res=[]\n",
    "k=int(input('enter number:'))\n",
    "if k>len(lst):\n",
    "        print('enter vailid number')\n",
    "        k=int(input('enter number:'))\n",
    "        if k<0:\n",
    "            print('enter vailid number')\n",
    "            k=int(input('enter number:'))\n",
    "            for a in range(0,len(lst),k):\n",
    "                res.append(lst[a:a+k])\n",
    "            b=0\n",
    "            for i in range(len(res)):\n",
    "                if i%2==0:\n",
    "                    b+=sum(res[i])\n",
    "            print(b)\n",
    "       \n",
    "     \n",
    "        elif k==0:\n",
    "            print(sum(lst))\n",
    "        else:\n",
    "            for a in range(0,len(lst),k):\n",
    "                res.append(lst[a:a+k])\n",
    "            b=0\n",
    "            for i in range(len(res)):\n",
    "                if i%2==0:\n",
    "                    b+=sum(res[i])\n",
    "            print(b)\n",
    "else:\n",
    "    if k<0:\n",
    "            print('enter vailid number:')\n",
    "            k=int(input('enter number:'))\n",
    "            for a in range(0,len(lst),k):\n",
    "                res.append(lst[a:a+k])\n",
    "            b=0\n",
    "            for i in range(len(res)):\n",
    "                if i%2==0:\n",
    "                    b+=sum(res[i])\n",
    "            print(b)\n",
    "       \n",
    "     \n",
    "    elif k==0:\n",
    "        print(sum(lst))\n",
    "    else:\n",
    "        for a in range(0,len(lst),k):\n",
    "            res.append(lst[a:a+k])\n",
    "        b=0\n",
    "        for i in range(len(res)):\n",
    "                if i%2==0:\n",
    "                    b+=sum(res[i])\n",
    "        print(b)\n",
    "    \n",
    "    \n",
    "         \n",
    "\n",
    "    \n",
    "      \n",
    "        \n",
    "    \n"
   ]
  },
  {
   "cell_type": "code",
   "execution_count": null,
   "id": "7bc95774",
   "metadata": {},
   "outputs": [],
   "source": []
  }
 ],
 "metadata": {
  "kernelspec": {
   "display_name": "Python 3 (ipykernel)",
   "language": "python",
   "name": "python3"
  },
  "language_info": {
   "codemirror_mode": {
    "name": "ipython",
    "version": 3
   },
   "file_extension": ".py",
   "mimetype": "text/x-python",
   "name": "python",
   "nbconvert_exporter": "python",
   "pygments_lexer": "ipython3",
   "version": "3.9.12"
  }
 },
 "nbformat": 4,
 "nbformat_minor": 5
}
