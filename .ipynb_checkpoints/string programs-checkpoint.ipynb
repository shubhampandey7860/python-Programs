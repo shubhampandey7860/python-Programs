{
 "cells": [
  {
   "cell_type": "code",
   "execution_count": 1,
   "id": "1e576fd5",
   "metadata": {},
   "outputs": [
    {
     "data": {
      "text/plain": [
       "'Python'"
      ]
     },
     "execution_count": 1,
     "metadata": {},
     "output_type": "execute_result"
    }
   ],
   "source": [
    "x='Python'\n",
    "x"
   ]
  },
  {
   "cell_type": "code",
   "execution_count": 2,
   "id": "ef6c034e",
   "metadata": {},
   "outputs": [
    {
     "name": "stdout",
     "output_type": "stream",
     "text": [
      "P\n",
      "y\n",
      "t\n",
      "h\n",
      "o\n",
      "n\n"
     ]
    }
   ],
   "source": [
    "for i in range(len(x)):\n",
    "    print(x[i])"
   ]
  },
  {
   "cell_type": "code",
   "execution_count": 3,
   "id": "78055a4f",
   "metadata": {},
   "outputs": [
    {
     "name": "stdout",
     "output_type": "stream",
     "text": [
      "enter string:python\n",
      "nohtyp\n"
     ]
    }
   ],
   "source": [
    "# write a prgram reverse a string \n",
    "a=input('enter string:')\n",
    "rev=''\n",
    "for i in range(-1,-(len(a)+1),-1):\n",
    "    rev=rev+a[i]\n",
    "print(rev)    \n"
   ]
  },
  {
   "cell_type": "code",
   "execution_count": 4,
   "id": "1f857cd5",
   "metadata": {},
   "outputs": [
    {
     "name": "stdout",
     "output_type": "stream",
     "text": [
      "ENGIR\n"
     ]
    }
   ],
   "source": [
    "# remove duplicates from string\n",
    "a='ENGINEERING'\n",
    "B=''\n",
    "for i in a:\n",
    "    if i not in B:\n",
    "        B+=i\n",
    "print(B)        \n",
    "        "
   ]
  },
  {
   "cell_type": "code",
   "execution_count": 5,
   "id": "f2954925",
   "metadata": {},
   "outputs": [
    {
     "name": "stdout",
     "output_type": "stream",
     "text": [
      "enter string:python\n",
      "o\n"
     ]
    }
   ],
   "source": [
    "# wap to prict all  vowels in given string\n",
    "a=input('enter string:')\n",
    "b=''\n",
    "vow='AEIOUaeiou'\n",
    "for i in a:\n",
    "    if i in vow:\n",
    "        b+=i\n",
    "print(b)        \n",
    "       "
   ]
  },
  {
   "cell_type": "code",
   "execution_count": 6,
   "id": "ef2dbfca",
   "metadata": {},
   "outputs": [
    {
     "name": "stdout",
     "output_type": "stream",
     "text": [
      "enter string:python\n",
      "1\n"
     ]
    }
   ],
   "source": [
    "# \n",
    "a=input('enter string:')\n",
    "b=0\n",
    "vow='AEIOUaeiou'\n",
    "for i in a:\n",
    "    if i in vow:\n",
    "        b+=1\n",
    "print(b) "
   ]
  },
  {
   "cell_type": "code",
   "execution_count": 7,
   "id": "70a3c2ee",
   "metadata": {},
   "outputs": [
    {
     "name": "stdout",
     "output_type": "stream",
     "text": [
      "enter string:malayalam\n",
      "palindrome\n"
     ]
    }
   ],
   "source": [
    "# wap to check whether given string is pal or not\n",
    "s=input('enter string:')\n",
    "rev=''\n",
    "for i in range(-1,-(len(s)+1),-1):\n",
    "    rev+=s[i]\n",
    "if rev==s:\n",
    "    print('palindrome')\n",
    "else:\n",
    "    print(f'Not palindrome')\n",
    "    \n",
    "    "
   ]
  },
  {
   "cell_type": "code",
   "execution_count": 8,
   "id": "fbc7ae0b",
   "metadata": {},
   "outputs": [
    {
     "name": "stdout",
     "output_type": "stream",
     "text": [
      "['job', 'want', 'we', 'but', 'practice', 'dont', 'we']\n"
     ]
    }
   ],
   "source": [
    "# Reverse words in a given String in Python\n",
    "a='we dont practice but we want job'\n",
    "s=a.split()\n",
    "print(s[::-1])"
   ]
  },
  {
   "cell_type": "code",
   "execution_count": 9,
   "id": "9dcae29e",
   "metadata": {},
   "outputs": [
    {
     "name": "stdout",
     "output_type": "stream",
     "text": [
      "enter number:python\n",
      "6\n",
      "enter string:manish\n",
      "6\n"
     ]
    }
   ],
   "source": [
    "# count number of letters in string\n",
    "a=input('enter number:')\n",
    "c=0\n",
    "for i in a:\n",
    "    c+=1\n",
    "print(c) \n",
    "# or\n",
    "a=len(input('enter string:'))\n",
    "print(a)"
   ]
  },
  {
   "cell_type": "code",
   "execution_count": 10,
   "id": "d53762bc",
   "metadata": {},
   "outputs": [
    {
     "name": "stdout",
     "output_type": "stream",
     "text": [
      "A\n",
      "B\n",
      "BCDCB\n",
      "C\n",
      "CDC\n",
      "D\n",
      "C\n",
      "B\n"
     ]
    }
   ],
   "source": [
    "# sub palindrome\n",
    "a='ABCDCB'\n",
    "for i in range(0,len(a)):\n",
    "    for b in range(i+1,len(a)+1):\n",
    "        x=a[i:b]\n",
    "        if x==x[::-1]:\n",
    "            print(x)\n"
   ]
  },
  {
   "cell_type": "code",
   "execution_count": 11,
   "id": "ca2f52e5",
   "metadata": {},
   "outputs": [
    {
     "name": "stdout",
     "output_type": "stream",
     "text": [
      "A\n",
      "AB\n",
      "ABC\n",
      "ABCD\n",
      "B\n",
      "BC\n",
      "BCD\n",
      "C\n",
      "CD\n",
      "D\n"
     ]
    }
   ],
   "source": [
    "a='ABCD'\n",
    "for i in range(0,len(a)):\n",
    "    for b in range(i+1,len(a)+1):\n",
    "        x=a[i:b]\n",
    "        print(x)\n"
   ]
  },
  {
   "cell_type": "code",
   "execution_count": 12,
   "id": "1ce5f662",
   "metadata": {},
   "outputs": [
    {
     "name": "stdout",
     "output_type": "stream",
     "text": [
      "A B C D E F G H I J K L M N O P Q R S T U V W X Y Z "
     ]
    }
   ],
   "source": [
    "for i in range(65,91):\n",
    "    print(chr(i),end=' ')"
   ]
  },
  {
   "cell_type": "code",
   "execution_count": 13,
   "id": "718debe5",
   "metadata": {},
   "outputs": [
    {
     "name": "stdout",
     "output_type": "stream",
     "text": [
      "a b c d e f g h i j k l m n o p q r s t u v w x y z "
     ]
    }
   ],
   "source": [
    "for i in range(97,123):\n",
    "    print(chr(i),end=' ')"
   ]
  },
  {
   "cell_type": "code",
   "execution_count": 14,
   "id": "134bd5c1",
   "metadata": {},
   "outputs": [
    {
     "name": "stdout",
     "output_type": "stream",
     "text": [
      "python is language "
     ]
    }
   ],
   "source": [
    "# print even length worlds\n",
    "a='python is a programming language'\n",
    "s=a.split()\n",
    "for i in s:\n",
    "    if len(i)%2==0:\n",
    "        print(i,end=' ')"
   ]
  },
  {
   "cell_type": "code",
   "execution_count": 15,
   "id": "7a99ed43",
   "metadata": {},
   "outputs": [
    {
     "name": "stdout",
     "output_type": "stream",
     "text": [
      "enter string:python\n",
      "nohtyp\n"
     ]
    }
   ],
   "source": [
    "# reverse a string using while loop\n",
    "a=input('enter string:')\n",
    "lst=list(a)\n",
    "rev=''\n",
    "l=len(lst)\n",
    "while l!=0:\n",
    "    rev+=lst.pop()\n",
    "    l-=1\n",
    "print(rev)    "
   ]
  },
  {
   "cell_type": "code",
   "execution_count": 16,
   "id": "057445b2",
   "metadata": {},
   "outputs": [
    {
     "name": "stdout",
     "output_type": "stream",
     "text": [
      "nohtyp\n"
     ]
    }
   ],
   "source": [
    "# reverse a string using while loop\n",
    "i=-1\n",
    "n='python'\n",
    "rev=''\n",
    "while i>=-len(n):\n",
    "    rev+=n[i]\n",
    "    i-=1\n",
    "print(rev)    "
   ]
  },
  {
   "cell_type": "code",
   "execution_count": 17,
   "id": "6b5266bd",
   "metadata": {},
   "outputs": [
    {
     "name": "stdout",
     "output_type": "stream",
     "text": [
      "enter stringpython\n",
      "PYTHON\n"
     ]
    }
   ],
   "source": [
    "# wap to convert string lower case to uppercase and upper case to lower\n",
    "a=input('enter string')\n",
    "ch=''\n",
    "for i in a:\n",
    "    if i>='a'and i<='z':\n",
    "        ch+=chr(ord(i)-32)\n",
    "    elif i>='A'and i<='Z':\n",
    "        ch+=chr(ord(i)+32)\n",
    "    else:\n",
    "        ch+=i\n",
    "print(ch)        "
   ]
  },
  {
   "cell_type": "code",
   "execution_count": 18,
   "id": "c4b82617",
   "metadata": {},
   "outputs": [
    {
     "name": "stdout",
     "output_type": "stream",
     "text": [
      "['hii', 'i', 'am', 'shubham']\n"
     ]
    }
   ],
   "source": [
    "# convert a string to list without using split()\n",
    "a='hii i am shubham'\n",
    "t=''\n",
    "L=[]\n",
    "for i in a:\n",
    "    if i!=' ':\n",
    "        t+=i\n",
    "    else:\n",
    "        L.append(t)\n",
    "        t=''\n",
    "L.append(t)\n",
    "print(L)\n",
    "        \n",
    "    \n"
   ]
  },
  {
   "cell_type": "code",
   "execution_count": 19,
   "id": "78a4ad1b",
   "metadata": {},
   "outputs": [
    {
     "name": "stdout",
     "output_type": "stream",
     "text": [
      "7\n"
     ]
    }
   ],
   "source": [
    "# wap to add two without adding numbers\n",
    "a=3\n",
    "b=4\n",
    "for i in range(a):\n",
    "    b+=1\n",
    "print(b)    "
   ]
  },
  {
   "cell_type": "code",
   "execution_count": 20,
   "id": "ad994dd4",
   "metadata": {},
   "outputs": [
    {
     "name": "stdout",
     "output_type": "stream",
     "text": [
      "12\n"
     ]
    }
   ],
   "source": [
    "# wap to multiply numbers numbers without multiplying \n",
    "a=3\n",
    "b=4\n",
    "t=0\n",
    "for i in range(a):\n",
    "    t+=b\n",
    "print(t)    \n",
    "    "
   ]
  },
  {
   "cell_type": "code",
   "execution_count": 21,
   "id": "add84a32",
   "metadata": {},
   "outputs": [
    {
     "name": "stdout",
     "output_type": "stream",
     "text": [
      "['a', 'b', 'bcdcb', 'c', 'cdc', 'd']\n"
     ]
    }
   ],
   "source": [
    "# wap to print subpalindrome and remove duplicates\n",
    "a='abcdcb'\n",
    "L=[]\n",
    "for i in range(0,len(a)):\n",
    "    for j in range(i+1,len(a)+1):\n",
    "        x=a[i:j]\n",
    "        if x==x[::-1] :\n",
    "            if x not in L:\n",
    "                L.append(x)\n",
    "print(L)                \n",
    "                "
   ]
  },
  {
   "cell_type": "code",
   "execution_count": 1,
   "id": "5f02fd58",
   "metadata": {},
   "outputs": [
    {
     "name": "stdout",
     "output_type": "stream",
     "text": [
      "enter number:2\n",
      "enter string:axz\n",
      "axz:czb\n"
     ]
    }
   ],
   "source": [
    "#\n",
    "res=''\n",
    "n=int(input('enter number:'))\n",
    "s=input('enter string:')\n",
    "for i in s:\n",
    "    if i>='a' and i<='z':\n",
    "        res+=chr(((((ord(i)-97)+2)%26)+97))\n",
    "    elif i>='A' and i<='Z':\n",
    "       \n",
    "            res+=chr(((((ord(i)-65)+2)%26)+65))\n",
    "    else:\n",
    "        res+=n\n",
    "print(f'{s}:{res}')        \n",
    "                 \n",
    "        "
   ]
  },
  {
   "cell_type": "code",
   "execution_count": 23,
   "id": "d3946413",
   "metadata": {},
   "outputs": [
    {
     "name": "stdout",
     "output_type": "stream",
     "text": [
      "k C\n"
     ]
    }
   ],
   "source": [
    "res=chr(((((ord('i')-97)+2)%26)+97))\n",
    "rev=chr(((((ord('A')-65)+2)%26)+65))\n",
    "print(res,rev)\n"
   ]
  },
  {
   "cell_type": "code",
   "execution_count": 24,
   "id": "2a15babc",
   "metadata": {},
   "outputs": [
    {
     "name": "stdout",
     "output_type": "stream",
     "text": [
      "enter string:care\n",
      "enter string:race\n",
      "['c', 'a', 'r', 'e'] ['r', 'a', 'c', 'e']\n",
      "['a', 'c', 'e', 'r']\n",
      "['a', 'c', 'e', 'r']\n",
      " given string is anagram\n"
     ]
    }
   ],
   "source": [
    "# Anagram program\n",
    "a=input('enter string:')\n",
    "b=input('enter string:')\n",
    "c=list(a)\n",
    "d=list(b)\n",
    "print(c,d)\n",
    "for i in range(0,len(c)-1):\n",
    "    for j in range(0,len(c)-i-1):\n",
    "        if a[j]>a[j+1]:\n",
    "            c[j],c[j+1]=c[j+1],c[j]\n",
    "print(c)\n",
    "for i in range(0,len(d)-1):\n",
    "    for j in range(0,len(d)-i-1):\n",
    "        if d[j]>d[j+1]:\n",
    "            d[j],d[j+1]=d[j+1],d[j]\n",
    "print(d)\n",
    "if c==d:\n",
    "    print(' given string is anagram')\n",
    "else:\n",
    "    print('given string is not anagram')\n",
    "        "
   ]
  },
  {
   "cell_type": "code",
   "execution_count": 25,
   "id": "c71bf458",
   "metadata": {},
   "outputs": [
    {
     "data": {
      "text/plain": [
       "['we', 'dont', 'practice', 'but', 'we', 'want', 'job']"
      ]
     },
     "execution_count": 25,
     "metadata": {},
     "output_type": "execute_result"
    }
   ],
   "source": [
    "a='we dont practice but we want job'.split()\n",
    "a\n"
   ]
  },
  {
   "cell_type": "code",
   "execution_count": 26,
   "id": "1b62bed9",
   "metadata": {},
   "outputs": [
    {
     "name": "stdout",
     "output_type": "stream",
     "text": [
      "ew tnod ecitcarp tub ew tnaw boj "
     ]
    }
   ],
   "source": [
    "for i in range(0,len(a)):\n",
    "    print(a[i][::-1],end=' ')"
   ]
  },
  {
   "cell_type": "code",
   "execution_count": 6,
   "id": "1dcf726e",
   "metadata": {},
   "outputs": [
    {
     "name": "stdout",
     "output_type": "stream",
     "text": [
      "Anagram\n"
     ]
    }
   ],
   "source": [
    "# wap to check whether given string is Anagram or not\n",
    "a='race'\n",
    "b='care'\n",
    "c=sorted(a)\n",
    "d=sorted(b)\n",
    "if c==d:\n",
    "    print('Anagram')\n",
    "else:\n",
    "    print(f'Not Anagram')"
   ]
  },
  {
   "cell_type": "code",
   "execution_count": null,
   "id": "809fe097",
   "metadata": {},
   "outputs": [],
   "source": []
  }
 ],
 "metadata": {
  "kernelspec": {
   "display_name": "Python 3 (ipykernel)",
   "language": "python",
   "name": "python3"
  },
  "language_info": {
   "codemirror_mode": {
    "name": "ipython",
    "version": 3
   },
   "file_extension": ".py",
   "mimetype": "text/x-python",
   "name": "python",
   "nbconvert_exporter": "python",
   "pygments_lexer": "ipython3",
   "version": "3.9.12"
  }
 },
 "nbformat": 4,
 "nbformat_minor": 5
}
