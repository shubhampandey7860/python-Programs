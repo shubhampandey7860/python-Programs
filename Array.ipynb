{
 "cells": [
  {
   "cell_type": "markdown",
   "id": "bba57afb",
   "metadata": {},
   "source": [
    "# Array:\n",
    "An Array is collection of items stored in contiguous memory location.\n",
    "in array we can store only Homogeneous data \n",
    "for creating array in python we have to  import  array module"
   ]
  },
  {
   "cell_type": "markdown",
   "id": "37bace3d",
   "metadata": {},
   "source": [
    "# syntax:\n",
    "\n",
    "\n",
    "array(data_type,value_list)"
   ]
  },
  {
   "cell_type": "code",
   "execution_count": 1,
   "id": "0bd02dd3",
   "metadata": {},
   "outputs": [],
   "source": [
    "import array as arr\n",
    "a=arr.array('i',[2,4,5,6,7,8])"
   ]
  },
  {
   "cell_type": "code",
   "execution_count": 2,
   "id": "972ad508",
   "metadata": {},
   "outputs": [
    {
     "name": "stdout",
     "output_type": "stream",
     "text": [
      "array('i', [2, 4, 5, 6, 7, 8])\n"
     ]
    }
   ],
   "source": [
    "print(a)"
   ]
  },
  {
   "cell_type": "code",
   "execution_count": 3,
   "id": "93d510f7",
   "metadata": {},
   "outputs": [
    {
     "name": "stdout",
     "output_type": "stream",
     "text": [
      "2 4 5 6 7 8 "
     ]
    }
   ],
   "source": [
    "for i in a:\n",
    "    print(i,end=' ')"
   ]
  },
  {
   "cell_type": "code",
   "execution_count": 12,
   "id": "28dfe9cb",
   "metadata": {},
   "outputs": [
    {
     "name": "stdout",
     "output_type": "stream",
     "text": [
      "array('u', 'ABC')\n"
     ]
    }
   ],
   "source": [
    "# string array\n",
    "a=arr.array('u',['A','B','C'])\n",
    "print(a)\n"
   ]
  },
  {
   "cell_type": "code",
   "execution_count": 13,
   "id": "d016145a",
   "metadata": {},
   "outputs": [],
   "source": [
    "# adding element to list\n",
    "a=arr.array('i',[2,3,4,5,6,7,8])\n",
    "a.append(9)\n",
    "a.append(10)"
   ]
  },
  {
   "cell_type": "code",
   "execution_count": 14,
   "id": "3b5fb7ac",
   "metadata": {},
   "outputs": [
    {
     "data": {
      "text/plain": [
       "array('i', [2, 3, 4, 5, 6, 7, 8, 9, 10])"
      ]
     },
     "execution_count": 14,
     "metadata": {},
     "output_type": "execute_result"
    }
   ],
   "source": [
    "a"
   ]
  },
  {
   "cell_type": "code",
   "execution_count": 15,
   "id": "93ffd0b1",
   "metadata": {},
   "outputs": [
    {
     "name": "stdout",
     "output_type": "stream",
     "text": [
      "array('i', [10, 9, 8, 7, 6, 5, 4, 3, 2])\n"
     ]
    }
   ],
   "source": [
    "print(a[::-1])"
   ]
  },
  {
   "cell_type": "code",
   "execution_count": 17,
   "id": "c7a8d937",
   "metadata": {},
   "outputs": [
    {
     "name": "stdout",
     "output_type": "stream",
     "text": [
      "2 3 4 5 6 "
     ]
    }
   ],
   "source": [
    "i=a[0:5]\n",
    "for j in i:\n",
    "    print(j,end=' ')"
   ]
  },
  {
   "cell_type": "code",
   "execution_count": null,
   "id": "390a5f48",
   "metadata": {},
   "outputs": [],
   "source": [
    "n=5\n"
   ]
  }
 ],
 "metadata": {
  "kernelspec": {
   "display_name": "Python 3 (ipykernel)",
   "language": "python",
   "name": "python3"
  },
  "language_info": {
   "codemirror_mode": {
    "name": "ipython",
    "version": 3
   },
   "file_extension": ".py",
   "mimetype": "text/x-python",
   "name": "python",
   "nbconvert_exporter": "python",
   "pygments_lexer": "ipython3",
   "version": "3.9.12"
  }
 },
 "nbformat": 4,
 "nbformat_minor": 5
}
