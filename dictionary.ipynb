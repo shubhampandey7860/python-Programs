{
 "cells": [
  {
   "cell_type": "code",
   "execution_count": 1,
   "id": "18571eab",
   "metadata": {},
   "outputs": [
    {
     "name": "stdout",
     "output_type": "stream",
     "text": [
      "b:20\n",
      "d:20\n"
     ]
    }
   ],
   "source": [
    "# find key of given value\n",
    "value=20\n",
    "d={'a':10,'b':20,'c':'10','d':20}\n",
    "for k,v in d.items():\n",
    "    if v==value:\n",
    "        print(f'{k}:{v}')"
   ]
  },
  {
   "cell_type": "code",
   "execution_count": 2,
   "id": "ee1ed9a8",
   "metadata": {},
   "outputs": [
    {
     "name": "stdout",
     "output_type": "stream",
     "text": [
      "e:3\n",
      "n:2\n",
      "g:1\n",
      "i:1\n",
      "r:1\n"
     ]
    }
   ],
   "source": [
    "# count number of a string is repeated\n",
    "a='engineer'\n",
    "d={}\n",
    "for i in a:\n",
    "    if i not in d:\n",
    "        d[i]=1\n",
    "    else:\n",
    "        d[i]+=1\n",
    "for k,v in d.items():\n",
    "    print(f'{k}:{v}')"
   ]
  },
  {
   "cell_type": "code",
   "execution_count": 3,
   "id": "b6704828",
   "metadata": {},
   "outputs": [
    {
     "name": "stdout",
     "output_type": "stream",
     "text": [
      "{'e': 3, 'n': 2, 'g': 1, 'i': 1, 'r': 1}\n",
      "[3, 2, 1, 1, 1]\n",
      "3\n",
      "e:3\n"
     ]
    }
   ],
   "source": [
    "# print highest repeated charcter\n",
    "a='engineer'\n",
    "d={}\n",
    "for i in a:\n",
    "    d[i]=a.count(i)\n",
    "print(d)\n",
    "# convert dict to list\n",
    "lst=list(d.values())\n",
    "print(lst)\n",
    "h=lst[0]\n",
    "for i in range(1,len(lst)):\n",
    "    if h<lst[i]:\n",
    "        h=lst[i]\n",
    "print(h)\n",
    "# \n",
    "for k,v in d.items():\n",
    "    if v==h:\n",
    "        print(f'{k}:{v}')\n",
    "        "
   ]
  },
  {
   "cell_type": "code",
   "execution_count": 4,
   "id": "7ccdc17a",
   "metadata": {},
   "outputs": [
    {
     "name": "stdout",
     "output_type": "stream",
     "text": [
      "{'we': 2, 'want': 4, 'job': 3, 'dont': 4, 'practice': 8}\n",
      "8\n",
      "practice:8\n"
     ]
    }
   ],
   "source": [
    "# find which key length is highest\n",
    "a='we want job we dont want practice'\n",
    "s=a.split()\n",
    "d={}\n",
    "for i in s:\n",
    "    if i not in d:\n",
    "        d[i]=len(i)\n",
    "print(d)\n",
    "# \n",
    "lst=list(d.values())\n",
    "h=lst[0]\n",
    "for i in range(1,len(lst)):\n",
    "    if h<lst[i]:\n",
    "        h=lst[i]\n",
    "print(h)  # \n",
    "#\n",
    "for k ,v in d.items():\n",
    "    if h==v:\n",
    "        print(f'{k}:{v}')"
   ]
  },
  {
   "cell_type": "code",
   "execution_count": 5,
   "id": "9d6b861c",
   "metadata": {},
   "outputs": [
    {
     "data": {
      "text/plain": [
       "{'a': 10, 'b': 10, 'c': 10, 'd': 10}"
      ]
     },
     "execution_count": 5,
     "metadata": {},
     "output_type": "execute_result"
    }
   ],
   "source": [
    "# Adding elements to dict using fromKeys method\n",
    "d={}\n",
    "s=('a','b','c','d')\n",
    "d.fromkeys(s,10)"
   ]
  },
  {
   "cell_type": "code",
   "execution_count": 6,
   "id": "ff3ad40e",
   "metadata": {},
   "outputs": [
    {
     "name": "stdout",
     "output_type": "stream",
     "text": [
      "{'name': 'Shubham', 'Age': 20}\n"
     ]
    }
   ],
   "source": [
    "# adding element to empty list\n",
    "a={}\n",
    "a['name']='Shubham'\n",
    "a['Age']=20\n",
    "print(a)\n"
   ]
  },
  {
   "cell_type": "code",
   "execution_count": 1,
   "id": "abb7a071",
   "metadata": {},
   "outputs": [
    {
     "name": "stdout",
     "output_type": "stream",
     "text": [
      "{1: 'A', 2: 'B', 3: 'C', 4: 'D', 5: 'E', 6: 'F', 7: 'G', 8: 'H'}\n"
     ]
    }
   ],
   "source": [
    "a={1:'A',2:'B',3:'C',4:'D'}\n",
    "b={5:'E',6:'F',7:'G',8:'H'}\n",
    "a.update(b)\n",
    "print(a)"
   ]
  },
  {
   "cell_type": "code",
   "execution_count": 2,
   "id": "a1f374a0",
   "metadata": {},
   "outputs": [
    {
     "name": "stdout",
     "output_type": "stream",
     "text": [
      "{1: 6, 2: 7, 3: 8, 4: 9, 5: 10}\n"
     ]
    }
   ],
   "source": [
    "# create a dict using zip\n",
    "a={1,2,3,4,5}\n",
    "b={6,7,8,9,10}\n",
    "c=dict(zip(a,b))\n",
    "print(c)"
   ]
  },
  {
   "cell_type": "code",
   "execution_count": null,
   "id": "7c222eb2",
   "metadata": {},
   "outputs": [],
   "source": []
  }
 ],
 "metadata": {
  "kernelspec": {
   "display_name": "Python 3 (ipykernel)",
   "language": "python",
   "name": "python3"
  },
  "language_info": {
   "codemirror_mode": {
    "name": "ipython",
    "version": 3
   },
   "file_extension": ".py",
   "mimetype": "text/x-python",
   "name": "python",
   "nbconvert_exporter": "python",
   "pygments_lexer": "ipython3",
   "version": "3.9.12"
  }
 },
 "nbformat": 4,
 "nbformat_minor": 5
}
