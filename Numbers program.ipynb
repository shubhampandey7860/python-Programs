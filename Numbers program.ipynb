{
 "cells": [
  {
   "cell_type": "code",
   "execution_count": 1,
   "id": "b4fce7fd",
   "metadata": {},
   "outputs": [
    {
     "name": "stdout",
     "output_type": "stream",
     "text": [
      "enter number:6\n",
      "6 is perfect\n"
     ]
    }
   ],
   "source": [
    "# perfect number\n",
    "n=int(input('enter number:'))\n",
    "Sum=0\n",
    "for i in range(1,n):\n",
    "    if n%i==0:\n",
    "        Sum+=i\n",
    "if Sum==n:\n",
    "    print(f'{n} is perfect')\n",
    "else:\n",
    "    print(f'{n} is not perfect')"
   ]
  },
  {
   "cell_type": "code",
   "execution_count": 2,
   "id": "774ded90",
   "metadata": {},
   "outputs": [
    {
     "name": "stdout",
     "output_type": "stream",
     "text": [
      "6 28 "
     ]
    }
   ],
   "source": [
    "# perfect number from 1 to 100\n",
    "for i in range(1,101):\n",
    "    Sum=0\n",
    "    for j in range(1,i):\n",
    "        \n",
    "        if i%j==0:\n",
    "            Sum+=j\n",
    "    if Sum==i:\n",
    "        print(i,end=' ')\n",
    "        "
   ]
  },
  {
   "cell_type": "code",
   "execution_count": 3,
   "id": "be7aed58",
   "metadata": {},
   "outputs": [
    {
     "name": "stdout",
     "output_type": "stream",
     "text": [
      "1 2 3 4 6 12 "
     ]
    }
   ],
   "source": [
    "# wap to print factors of given number\n",
    "n=12\n",
    "for i in range(1,n+1):\n",
    "    if n%i==0:\n",
    "        print(i,end=' ')"
   ]
  },
  {
   "cell_type": "code",
   "execution_count": 4,
   "id": "2538d661",
   "metadata": {},
   "outputs": [
    {
     "name": "stdout",
     "output_type": "stream",
     "text": [
      "enter number:13\n",
      "13 is prime\n"
     ]
    }
   ],
   "source": [
    "# wap to check whether given number is prime or not\n",
    "n=int(input('enter number:'))\n",
    "if n>1:\n",
    "    for i in range(2,n):\n",
    "        if n%i==0:\n",
    "            print(f'{n} is Not prime')\n",
    "            break\n",
    "    else:\n",
    "        print(f'{n} is prime')\n",
    "else:\n",
    "    print(f'{n} is Not Prime')\n",
    "              \n",
    "              \n",
    "              \n",
    "              "
   ]
  },
  {
   "cell_type": "code",
   "execution_count": 5,
   "id": "72198b2a",
   "metadata": {},
   "outputs": [
    {
     "name": "stdout",
     "output_type": "stream",
     "text": [
      "enter number:14\n",
      "14 is composite number\n"
     ]
    }
   ],
   "source": [
    "# wap to check wheter given number is composite number or not\n",
    "n=int(input('enter number:'))\n",
    "for i in range(2,n):\n",
    "    if n%i==0:\n",
    "        print(f'{n} is composite number')\n",
    "        break\n",
    "else:\n",
    "    print(f'{n} is not composite number')\n",
    "    "
   ]
  },
  {
   "cell_type": "code",
   "execution_count": 6,
   "id": "944fabad",
   "metadata": {},
   "outputs": [
    {
     "name": "stdout",
     "output_type": "stream",
     "text": [
      "enter number :13\n",
      "13 is prime number\n"
     ]
    }
   ],
   "source": [
    "c=0\n",
    "n=int(input('enter number :'))\n",
    "for i in range(2,n):\n",
    "    if n%i==0:\n",
    "        c+=1\n",
    "if c==0:\n",
    "    print(f'{n} is prime number')\n",
    "else:\n",
    "    print(f'{n} is not prime number')\n",
    "    "
   ]
  },
  {
   "cell_type": "code",
   "execution_count": 1,
   "id": "44c1654b",
   "metadata": {},
   "outputs": [
    {
     "name": "stdout",
     "output_type": "stream",
     "text": [
      "1 2 3 4 6 12 "
     ]
    }
   ],
   "source": [
    "# factors of given number\n",
    "n=12\n",
    "for i in range(1,n+1):\n",
    "    if n%i==0:\n",
    "        print(i,end=' ')\n",
    "        "
   ]
  },
  {
   "cell_type": "code",
   "execution_count": 2,
   "id": "623c6849",
   "metadata": {},
   "outputs": [
    {
     "name": "stdout",
     "output_type": "stream",
     "text": [
      "1 2 3 4 5 6 7 8 9 10 "
     ]
    }
   ],
   "source": [
    "# print number from 1 to 10\n",
    "for x in range(1,11):\n",
    "    print(x,end=' ')"
   ]
  },
  {
   "cell_type": "code",
   "execution_count": 3,
   "id": "5ce93a50",
   "metadata": {},
   "outputs": [
    {
     "name": "stdout",
     "output_type": "stream",
     "text": [
      "2 4 6 8 10 12 14 16 18 20 "
     ]
    }
   ],
   "source": [
    "# print even number in between 1 to 20(20 also included)\n",
    "for x in range(1,21):\n",
    "    if x%2==0:\n",
    "        print(x,end=' ')\n",
    "        "
   ]
  },
  {
   "cell_type": "code",
   "execution_count": 4,
   "id": "0c5011c4",
   "metadata": {},
   "outputs": [
    {
     "name": "stdout",
     "output_type": "stream",
     "text": [
      "product:3628800\n"
     ]
    }
   ],
   "source": [
    "# product of first 10 numbers\n",
    "prod=1\n",
    "for i in range(1,11):\n",
    "    prod*=i\n",
    "print(f'product:{prod}')    "
   ]
  },
  {
   "cell_type": "code",
   "execution_count": 5,
   "id": "c954bbc2",
   "metadata": {},
   "outputs": [
    {
     "name": "stdout",
     "output_type": "stream",
     "text": [
      "enter number:15\n",
      "15 Not prime\n"
     ]
    }
   ],
   "source": [
    "# check given number is prime or not\n",
    "n=int(input('enter number:'))\n",
    "if n>1:\n",
    "    for i in range(2,n//2+1):\n",
    "        if n%i==0:\n",
    "            print(f'{n} Not prime')\n",
    "            break\n",
    "    else:\n",
    "        print(f' {n} prime number')\n",
    "else:\n",
    "    print(f'Not prime number')\n",
    "    "
   ]
  },
  {
   "cell_type": "code",
   "execution_count": 9,
   "id": "7ea3002e",
   "metadata": {},
   "outputs": [
    {
     "name": "stdout",
     "output_type": "stream",
     "text": [
      "enter number:3\n",
      " 3 Not composite  number\n"
     ]
    }
   ],
   "source": [
    "# check given number is composite number or not\n",
    "n=int(input('enter number:'))\n",
    "if n>1:\n",
    "    for i in range(2,n//2+1):\n",
    "        if n%i==0:\n",
    "            print(f'{n} composite number')\n",
    "            break\n",
    "    else:\n",
    "        print(f' {n} Not composite number')\n",
    "else:\n",
    "    print(f' {n} composite  number')"
   ]
  },
  {
   "cell_type": "code",
   "execution_count": 10,
   "id": "6c8ee10d",
   "metadata": {},
   "outputs": [
    {
     "name": "stdout",
     "output_type": "stream",
     "text": [
      "23 29 31 37 41 43 47 "
     ]
    }
   ],
   "source": [
    "# PRIME NUMBER IN GIVEN RANGE\n",
    "for i in range(20,51):\n",
    "    for j in range(2,i//2+1):\n",
    "        if i%j==0:\n",
    "            break\n",
    "    else:\n",
    "        print(i,end=' ')"
   ]
  },
  {
   "cell_type": "code",
   "execution_count": 11,
   "id": "b85bbb5a",
   "metadata": {},
   "outputs": [
    {
     "name": "stdout",
     "output_type": "stream",
     "text": [
      "enter number:123\n",
      "Sum of digit :6\n"
     ]
    }
   ],
   "source": [
    "# add all digits of given number\n",
    "n=int(input('enter number:'))\n",
    "Sum=0\n",
    "while n!=0:\n",
    "    rem=n%10\n",
    "    Sum+=rem\n",
    "    n//=10\n",
    "print(f'Sum of digit :{Sum}')    "
   ]
  },
  {
   "cell_type": "code",
   "execution_count": 13,
   "id": "83d6f20e",
   "metadata": {},
   "outputs": [
    {
     "name": "stdout",
     "output_type": "stream",
     "text": [
      "enter number:35\n",
      "Sum of digit :15\n"
     ]
    }
   ],
   "source": [
    "# product of  all digits of given number\n",
    "n=int(input('enter number:'))\n",
    "Pro=1\n",
    "while n!=0:\n",
    "    rem=n%10\n",
    "    Pro*=rem\n",
    "    n//=10\n",
    "print(f'Sum of digit :{Pro}')    "
   ]
  },
  {
   "cell_type": "code",
   "execution_count": 14,
   "id": "29cc1d97",
   "metadata": {},
   "outputs": [
    {
     "name": "stdout",
     "output_type": "stream",
     "text": [
      "enter number:576\n",
      "7 5 "
     ]
    }
   ],
   "source": [
    "# wap to check whether given digit is prime or not\n",
    "n=int(input('enter number:'))\n",
    "while n!=0:\n",
    "    rem=n%10\n",
    "    if rem>1:\n",
    "        for i in range(2,rem//2+1):\n",
    "            if rem%i==0:\n",
    "                break\n",
    "        else:\n",
    "            print(rem,end=' ')\n",
    "    n//=10        "
   ]
  },
  {
   "cell_type": "code",
   "execution_count": 15,
   "id": "9ef365a9",
   "metadata": {},
   "outputs": [
    {
     "name": "stdout",
     "output_type": "stream",
     "text": [
      "enter number:4578\n",
      "0\n"
     ]
    }
   ],
   "source": [
    "# add even digits and substract odd digit\n",
    "n=int(input('enter number:'))\n",
    "res=0\n",
    "while n!=0:\n",
    "    rem=n%10\n",
    "    n//=10\n",
    "    if rem%2==0:\n",
    "        res+=rem\n",
    "    else:\n",
    "        res-=rem\n",
    "print(res)        "
   ]
  },
  {
   "cell_type": "code",
   "execution_count": 1,
   "id": "5a392e2e",
   "metadata": {},
   "outputs": [
    {
     "name": "stdout",
     "output_type": "stream",
     "text": [
      "enter number:12345\n",
      "count:5\n"
     ]
    }
   ],
   "source": [
    "# wap to count number of digits\n",
    "c=0\n",
    "n=int(input('enter number:'))\n",
    "while n!=0:\n",
    "    n=n//10\n",
    "    c+=1\n",
    "print(f'count:{c}')    "
   ]
  },
  {
   "cell_type": "code",
   "execution_count": 3,
   "id": "70dcebda",
   "metadata": {},
   "outputs": [
    {
     "name": "stdout",
     "output_type": "stream",
     "text": [
      "enter number:142\n",
      "reverse of number:241\n"
     ]
    }
   ],
   "source": [
    "# reverse a given number\n",
    "n=int(input('enter number:'))\n",
    "res=0\n",
    "while n!=0:\n",
    "    rem=n%10\n",
    "    res=res*10+rem\n",
    "    n//=10\n",
    "print(f'reverse of number:{res}')    \n",
    "    "
   ]
  },
  {
   "cell_type": "code",
   "execution_count": 6,
   "id": "29c385b1",
   "metadata": {},
   "outputs": [
    {
     "name": "stdout",
     "output_type": "stream",
     "text": [
      "enter number:121\n",
      "palindrome\n"
     ]
    }
   ],
   "source": [
    "# pal or not\n",
    "n=int(input('enter number:'))\n",
    "num=n\n",
    "res=0\n",
    "while n!=0:\n",
    "    rem=n%10\n",
    "    res=res*10+rem\n",
    "    n//=10\n",
    " \n",
    "#\n",
    "if num==res:\n",
    "    print(f'palindrome')\n",
    "else:\n",
    "    print('Not palindrome')"
   ]
  },
  {
   "cell_type": "code",
   "execution_count": 9,
   "id": "7741a9f4",
   "metadata": {},
   "outputs": [
    {
     "name": "stdout",
     "output_type": "stream",
     "text": [
      "enter number:132\n",
      "Niven number\n"
     ]
    }
   ],
   "source": [
    "# niven number or not\n",
    "n=int(input('enter number:'))\n",
    "num=n\n",
    "Sum=0\n",
    "while n!=0:\n",
    "    rem=n%10\n",
    "    Sum+=rem\n",
    "    n//=10\n",
    "#\n",
    "if num%Sum==0:\n",
    "    print(f'Niven number')\n",
    "else:\n",
    "    print(f'Not Niven number')\n",
    "    \n",
    "    "
   ]
  },
  {
   "cell_type": "code",
   "execution_count": 18,
   "id": "87ff1357",
   "metadata": {},
   "outputs": [
    {
     "name": "stdout",
     "output_type": "stream",
     "text": [
      "enter number:11\n",
      "number is palyprime\n"
     ]
    }
   ],
   "source": [
    "# wap to check whether given number is PalyPrime\n",
    "n=int(input('enter number:'))\n",
    "num=n\n",
    "res=0\n",
    "while n!=0:\n",
    "    rem=n%10\n",
    "    res=res*10+rem\n",
    "    n//=10\n",
    "if res==num:\n",
    "    if num>1:\n",
    "        for i in range(2,num//2+1):\n",
    "            if num%i==0:\n",
    "                print(f'Not palyprime')\n",
    "        else:\n",
    "            print(f'number is palyprime')\n",
    "    else:\n",
    "        print(f'not palyprime')\n",
    "else:\n",
    "    print(f'not palyprime')\n",
    "    "
   ]
  },
  {
   "cell_type": "code",
   "execution_count": 23,
   "id": "7471c6ab",
   "metadata": {},
   "outputs": [
    {
     "name": "stdout",
     "output_type": "stream",
     "text": [
      "enter number:153\n",
      "armstrong number\n"
     ]
    }
   ],
   "source": [
    "# armstrong\n",
    "n=int(input('enter number:'))\n",
    "Pow=len(str(n))\n",
    "num=n\n",
    "Sum=0\n",
    "while n!=0:\n",
    "    rem=n%10\n",
    "    Sum=rem**Pow+Sum\n",
    "    n//=10\n",
    "if Sum==num:\n",
    "    print(f'armstrong number')\n",
    "else:\n",
    "    print(f'not armstrong number')\n",
    "    "
   ]
  },
  {
   "cell_type": "code",
   "execution_count": 25,
   "id": "6dfdd6c7",
   "metadata": {},
   "outputs": [
    {
     "name": "stdout",
     "output_type": "stream",
     "text": [
      "enter number:135\n",
      "armstrong number\n"
     ]
    }
   ],
   "source": [
    "# disarm\n",
    "# armstrong\n",
    "n=int(input('enter number:'))\n",
    "Pow=len(str(n))\n",
    "num=n\n",
    "Sum=0\n",
    "while n!=0:\n",
    "    rem=n%10\n",
    "    Sum=rem**Pow+Sum\n",
    "    n//=10\n",
    "    Pow-=1\n",
    "if Sum==num:\n",
    "    print(f'armstrong number')\n",
    "else:\n",
    "    print(f'not armstrong number')\n",
    "    "
   ]
  },
  {
   "cell_type": "code",
   "execution_count": 32,
   "id": "b7c20fb1",
   "metadata": {},
   "outputs": [
    {
     "name": "stdout",
     "output_type": "stream",
     "text": [
      "enter number:17\n",
      "71\n",
      "emrip number\n"
     ]
    }
   ],
   "source": [
    "# emrip\n",
    "n=int(input('enter number:'))\n",
    "res=0\n",
    "num=n\n",
    "while n!=0:\n",
    "    rem=n%10\n",
    "    res=res*10+rem\n",
    "    n//=10\n",
    "print(res)\n",
    "#\n",
    "if res!=num:\n",
    "    for i in range(2,num//2+1):\n",
    "        if num%i==0:\n",
    "            print(f'not emrip number')\n",
    "            break\n",
    "    else:\n",
    "        for j in range(2,res//2+1):\n",
    "            if res%j==0:\n",
    "                print(f'Not emrip number')\n",
    "                break\n",
    "        else:\n",
    "            print(f'emrip number')\n",
    "else:\n",
    "    print(f'not emrip number')\n",
    "            "
   ]
  },
  {
   "cell_type": "code",
   "execution_count": 33,
   "id": "75d6ac6d",
   "metadata": {},
   "outputs": [
    {
     "name": "stdout",
     "output_type": "stream",
     "text": [
      "13 17 31 37 71 73 79 97 "
     ]
    }
   ],
   "source": [
    "# Emrip number in range\n",
    "for n in range(1,101):\n",
    "    num=n\n",
    "    res=0\n",
    "    while n!=0:\n",
    "        rem=n%10\n",
    "        res=res*10+rem\n",
    "        n//=10\n",
    "    if res!=num:\n",
    "        for i in range(2,num//2+1):\n",
    "            if num%i==0:\n",
    "                break\n",
    "        else:\n",
    "            for j in range(2,res//2+1):\n",
    "                if res%j==0:\n",
    "                    break\n",
    "            else:\n",
    "                print(num,end=' ')\n",
    "    \n",
    "        \n",
    "                \n",
    "    "
   ]
  },
  {
   "cell_type": "code",
   "execution_count": 34,
   "id": "8e290766",
   "metadata": {},
   "outputs": [
    {
     "name": "stdout",
     "output_type": "stream",
     "text": [
      "153 370 371 407 "
     ]
    }
   ],
   "source": [
    "# 3 digits armstrong number\n",
    "for n in range(100,1001):\n",
    "    num=n\n",
    "    Sum=0\n",
    "    Pow=len(str(n))\n",
    "    while n!=0:\n",
    "        rem=n%10\n",
    "        Sum=Sum+rem**Pow\n",
    "        n//=10\n",
    "    if Sum==num:\n",
    "        print(num,end=' ')\n",
    "        "
   ]
  },
  {
   "cell_type": "code",
   "execution_count": 35,
   "id": "2779fedd",
   "metadata": {},
   "outputs": [
    {
     "name": "stdout",
     "output_type": "stream",
     "text": [
      "135 175 518 598 "
     ]
    }
   ],
   "source": [
    "# all 3 digit diarm number\n",
    "# 3 digits armstrong number\n",
    "for n in range(100,1001):\n",
    "    num=n\n",
    "    Sum=0\n",
    "    Pow=len(str(n))\n",
    "    while n!=0:\n",
    "        rem=n%10\n",
    "        Sum=Sum+rem**Pow\n",
    "        n//=10\n",
    "        Pow-=1\n",
    "    if Sum==num:\n",
    "        print(num,end=' ')\n",
    "        "
   ]
  },
  {
   "cell_type": "code",
   "execution_count": 36,
   "id": "195b2128",
   "metadata": {},
   "outputs": [
    {
     "name": "stdout",
     "output_type": "stream",
     "text": [
      "1 2 3 4 5 6 7 8 9 10 12 18 20 21 24 27 30 36 40 42 45 48 50 54 60 63 70 72 80 81 84 90 100 "
     ]
    }
   ],
   "source": [
    "# harshad number in given range\n",
    "for n in range(1,101):\n",
    "    num=n\n",
    "    Sum=0\n",
    "    while n!=0:\n",
    "        rem=n%10\n",
    "        Sum+=rem\n",
    "        n//=10\n",
    "    if num%Sum==0:\n",
    "        print(num,end=' ')"
   ]
  },
  {
   "cell_type": "code",
   "execution_count": 37,
   "id": "bbbc0955",
   "metadata": {},
   "outputs": [
    {
     "name": "stdout",
     "output_type": "stream",
     "text": [
      "P t o "
     ]
    }
   ],
   "source": [
    "# print even index position\n",
    "S='Python'\n",
    "for i in range(len(S)):\n",
    "    if i%2==0:\n",
    "        print(S[i],end=' ')\n",
    "        "
   ]
  },
  {
   "cell_type": "code",
   "execution_count": 39,
   "id": "760cb12e",
   "metadata": {},
   "outputs": [
    {
     "name": "stdout",
     "output_type": "stream",
     "text": [
      "ohtyP\n"
     ]
    }
   ],
   "source": [
    "# revrese given string\n",
    "a='Pytho'\n",
    "rev=''\n",
    "for i in range(-1,-(len(a)+1),-1):\n",
    "    rev+=a[i]\n",
    "print(rev)    "
   ]
  },
  {
   "cell_type": "code",
   "execution_count": 42,
   "id": "185c764c",
   "metadata": {},
   "outputs": [
    {
     "name": "stdout",
     "output_type": "stream",
     "text": [
      "Palindrome\n"
     ]
    }
   ],
   "source": [
    "# check string is palindrom or not\n",
    "a='malayalam'\n",
    "rev=''\n",
    "for i in range(-1,-(len(a)+1),-1):\n",
    "    rev+=a[i]\n",
    "if rev==a:\n",
    "    print('Palindrome')\n",
    "else:\n",
    "    print(f'not palindrome')"
   ]
  },
  {
   "cell_type": "code",
   "execution_count": 49,
   "id": "ff70d37f",
   "metadata": {},
   "outputs": [
    {
     "name": "stdout",
     "output_type": "stream",
     "text": [
      "Jaunpur 222145 UP\n",
      "varanasi 222145 Bihar\n"
     ]
    }
   ],
   "source": [
    "# aggregation\n",
    "class Customer():\n",
    "    def __init__(self,name,gender,address):\n",
    "        self.name=name\n",
    "        self.gender=gender\n",
    "        self.address=address\n",
    "    def print_data(self):\n",
    "        print(self.address.get_city(),self.address.pin,self.address.state)\n",
    "    \n",
    "    def edit_customer_detail(self,new_name,new_city,new_pin,new_state):\n",
    "        self.name=new_name\n",
    "        self.address.edit_address(new_city,new_pin,new_state)\n",
    "\n",
    "        \n",
    "        \n",
    "        \n",
    "        \n",
    "# \n",
    "class address:\n",
    "    def __init__(self,city,pin,state):\n",
    "        self.__city=city\n",
    "        self.pin=pin\n",
    "        self.state=state\n",
    "    def get_city(self):\n",
    "        return self.__city\n",
    "    \n",
    "    \n",
    "    def edit_address(self,new_city,new_pin,new_state):\n",
    "        self.__city=new_city\n",
    "        self.pin=new_pin\n",
    "        self.state=new_state\n",
    "        \n",
    "        \n",
    "    \n",
    "    \n",
    "    \n",
    "    \n",
    "    \n",
    "    \n",
    "add1=address('Jaunpur',222145,'UP')\n",
    "c1=Customer('Shubham','Male',add1)\n",
    "c1.print_data()\n",
    "c1.edit_customer_detail('Ankit','varanasi',222145,'Bihar')\n",
    "c1.print_data()\n",
    "\n",
    "    \n",
    "        "
   ]
  },
  {
   "cell_type": "code",
   "execution_count": 4,
   "id": "8037fb5d",
   "metadata": {},
   "outputs": [
    {
     "name": "stdout",
     "output_type": "stream",
     "text": [
      "enter string:engineering\n",
      "5\n"
     ]
    }
   ],
   "source": [
    "# count no of vowel\n",
    "c=0\n",
    "char=input('enter string:')\n",
    "vowel='AEIOUaeiou'\n",
    "for i in char:\n",
    "    if i in vowel:\n",
    "        c+=1\n",
    "print(c) \n"
   ]
  },
  {
   "cell_type": "code",
   "execution_count": 5,
   "id": "a2610984",
   "metadata": {},
   "outputs": [
    {
     "name": "stdout",
     "output_type": "stream",
     "text": [
      "enter string:Elephant\n",
      "E e a "
     ]
    }
   ],
   "source": [
    "# print vowels in given string\n",
    "char=input('enter string:')\n",
    "vowel='AEIOUaeiou'\n",
    "for i in char:\n",
    "    if i in vowel:\n",
    "        print(i,end=' ')"
   ]
  },
  {
   "cell_type": "code",
   "execution_count": 11,
   "id": "5c156325",
   "metadata": {},
   "outputs": [
    {
     "name": "stdout",
     "output_type": "stream",
     "text": [
      "A\n",
      "AB\n",
      "ABC\n",
      "ABCD\n",
      "B\n",
      "BC\n",
      "BCD\n",
      "C\n",
      "CD\n",
      "D\n"
     ]
    }
   ],
   "source": [
    "# s='ABCD'\n",
    "s='ABCD'\n",
    "for i in range(0,len(s)):\n",
    "    for j in range(i+1,len(s)+1):\n",
    "        t=s[i:j]\n",
    "        print(t)"
   ]
  },
  {
   "cell_type": "code",
   "execution_count": 14,
   "id": "67c14b3b",
   "metadata": {},
   "outputs": [
    {
     "name": "stdout",
     "output_type": "stream",
     "text": [
      "BCDCB\n",
      "CDC\n"
     ]
    }
   ],
   "source": [
    "# subpalindromes\n",
    "a='ABCDCB'\n",
    "for i in range(0,len(a)):\n",
    "    for j in range(i+1,len(a)+1):\n",
    "        s=a[i:j]\n",
    "        if s==s[::-1] and len(s)>1:\n",
    "            print(s)"
   ]
  },
  {
   "cell_type": "code",
   "execution_count": 17,
   "id": "e924fe5a",
   "metadata": {},
   "outputs": [
    {
     "name": "stdout",
     "output_type": "stream",
     "text": [
      "enter string:Engineer\n",
      "ENGIR\n"
     ]
    }
   ],
   "source": [
    "# remove duplicate in given string\n",
    "char=input('enter string:').upper()\n",
    "a=''\n",
    "for i in char:\n",
    "    if i not in a:\n",
    "        a+=i\n",
    "print(a)        \n",
    "        "
   ]
  },
  {
   "cell_type": "code",
   "execution_count": 26,
   "id": "3a2bc329",
   "metadata": {},
   "outputs": [
    {
     "name": "stdout",
     "output_type": "stream",
     "text": [
      "enter number3\n",
      "6\n"
     ]
    }
   ],
   "source": [
    "# factorial of a given number\n",
    "fact=1\n",
    "n=int(input('enter number'))\n",
    "while n!=0:\n",
    "    fact=fact*n\n",
    "    n-=1\n",
    "print(fact)    \n"
   ]
  },
  {
   "cell_type": "code",
   "execution_count": 28,
   "id": "9977a934",
   "metadata": {},
   "outputs": [
    {
     "name": "stdout",
     "output_type": "stream",
     "text": [
      "120\n"
     ]
    }
   ],
   "source": [
    "# for loop\n",
    "fact=1\n",
    "n=5\n",
    "for i in range(1,n+1):\n",
    "    fact=fact*i\n",
    "print(fact)    \n",
    "    "
   ]
  },
  {
   "cell_type": "code",
   "execution_count": 30,
   "id": "8f5c02e0",
   "metadata": {},
   "outputs": [
    {
     "name": "stdout",
     "output_type": "stream",
     "text": [
      "enter number:5\n",
      "120\n"
     ]
    }
   ],
   "source": [
    "# recursion\n",
    "def fact(n):\n",
    "    if n==0 or n==1:\n",
    "        return 1\n",
    "    return n*fact(n-1)\n",
    "print(fact(int(input('enter number:'))))"
   ]
  },
  {
   "cell_type": "code",
   "execution_count": 32,
   "id": "bce94c8e",
   "metadata": {},
   "outputs": [
    {
     "name": "stdout",
     "output_type": "stream",
     "text": [
      "120\n"
     ]
    }
   ],
   "source": [
    "# reduce function\n",
    "n=5\n",
    "from functools import reduce\n",
    "a=reduce(lambda a,b:a*b,range(1,n+1))\n",
    "print(a)"
   ]
  },
  {
   "cell_type": "code",
   "execution_count": 40,
   "id": "95bf6ae2",
   "metadata": {},
   "outputs": [
    {
     "name": "stdout",
     "output_type": "stream",
     "text": [
      "enter number:145\n",
      "145 is special number\n"
     ]
    }
   ],
   "source": [
    "# special number\n",
    "n=int(input('enter number:'))\n",
    "num=n\n",
    "Sum=0\n",
    "while n!=0:\n",
    "    r=n%10\n",
    "    n//=10\n",
    "    fact=1\n",
    "    for i in range(1,r+1):\n",
    "        fact*=i\n",
    "    Sum+=fact\n",
    "if Sum==num:\n",
    "    print(f'{num} is special number')\n",
    "else:\n",
    "    print(f'{num} is not special number')\n",
    "    "
   ]
  },
  {
   "cell_type": "code",
   "execution_count": 44,
   "id": "2ee5e457",
   "metadata": {},
   "outputs": [
    {
     "name": "stdout",
     "output_type": "stream",
     "text": [
      "enter number:5\n",
      "Automorphic\n"
     ]
    }
   ],
   "source": [
    "# Automorphic\n",
    "a=int(input('enter number:'))\n",
    "Pow=len(str(a))\n",
    "sq=a**2\n",
    "if sq%10**Pow==a:\n",
    "    print(f'Automorphic')\n",
    "else:\n",
    "    print(f'Not Automorphic')"
   ]
  },
  {
   "cell_type": "code",
   "execution_count": 45,
   "id": "dc365588",
   "metadata": {},
   "outputs": [
    {
     "name": "stdout",
     "output_type": "stream",
     "text": [
      "enter number:25\n",
      "Automorphic\n"
     ]
    }
   ],
   "source": [
    "# Automorphic\n",
    "a=int(input('enter number:'))\n",
    "Pow=len(str(a))\n",
    "sq=a**2\n",
    "if sq%pow(10,Pow)==a:\n",
    "    print(f'Automorphic')\n",
    "else:\n",
    "    print(f'Not Automorphic')"
   ]
  },
  {
   "cell_type": "code",
   "execution_count": 46,
   "id": "dff17fba",
   "metadata": {},
   "outputs": [
    {
     "name": "stdout",
     "output_type": "stream",
     "text": [
      "1:20\n"
     ]
    }
   ],
   "source": [
    "# print key for given value\n",
    "value=20\n",
    "d={1:20,3:30,5:40,7:60}\n",
    "for k,v in d.items():\n",
    "    if v==value:\n",
    "        print(f'{k}:{v}')"
   ]
  },
  {
   "cell_type": "code",
   "execution_count": 47,
   "id": "7a78feeb",
   "metadata": {},
   "outputs": [
    {
     "name": "stdout",
     "output_type": "stream",
     "text": [
      "enter string:ENGINEER\n",
      "{'E': 3, 'N': 2, 'G': 1, 'I': 1, 'R': 1}\n"
     ]
    }
   ],
   "source": [
    "# numbers of times charcter is repeated\n",
    "a=input('enter string:')\n",
    "d={}\n",
    "for i in a:\n",
    "    if i not in d:\n",
    "        d[i]=a.count(i)\n",
    "print(d)        "
   ]
  },
  {
   "cell_type": "code",
   "execution_count": 49,
   "id": "03cb9ab2",
   "metadata": {},
   "outputs": [
    {
     "name": "stdout",
     "output_type": "stream",
     "text": [
      "enter string:engineer\n",
      "{'e': 3, 'n': 2, 'g': 1, 'i': 1, 'r': 1}\n"
     ]
    }
   ],
   "source": [
    "a=input('enter string:')\n",
    "d={}\n",
    "for i in a:\n",
    "    if i not in d:\n",
    "        d[i]=1\n",
    "    else:\n",
    "        d[i]+=1\n",
    "print(d)"
   ]
  },
  {
   "cell_type": "code",
   "execution_count": 50,
   "id": "f94f7ab4",
   "metadata": {},
   "outputs": [
    {
     "name": "stdout",
     "output_type": "stream",
     "text": [
      "enter string:ENGINEER\n",
      "{'E': 3, 'N': 2, 'G': 1, 'I': 1, 'R': 1}\n",
      "3\n"
     ]
    }
   ],
   "source": [
    "\n",
    "a=input('enter string:')\n",
    "d={}\n",
    "for i in a:\n",
    "    if i not in d:\n",
    "        d[i]=a.count(i)\n",
    "print(d)\n",
    "lst=list(d.values())\n",
    "print(max(lst))"
   ]
  },
  {
   "cell_type": "code",
   "execution_count": 56,
   "id": "b791b443",
   "metadata": {},
   "outputs": [
    {
     "name": "stdout",
     "output_type": "stream",
     "text": [
      "{'we': 2, 'dont': 4, 'practice': 8, 'but': 3, 'want': 4, 'job': 3}\n",
      "practice:8\n"
     ]
    }
   ],
   "source": [
    "# \n",
    "char='we dont practice but we want job'.split()\n",
    "d={}\n",
    "for i in char:\n",
    "    if i not in d:\n",
    "        d[i]=len(i)\n",
    "print(d)\n",
    "lst=list(d.values())\n",
    "Value=max(lst)\n",
    "#\n",
    "for k,v in d.items():\n",
    "    if v==Value:\n",
    "        print(f'{k}:{v}')"
   ]
  },
  {
   "cell_type": "code",
   "execution_count": 58,
   "id": "a88278da",
   "metadata": {},
   "outputs": [
    {
     "name": "stdout",
     "output_type": "stream",
     "text": [
      "gnirts\n"
     ]
    }
   ],
   "source": [
    "# reverse a string using while loop\n",
    "i=-1\n",
    "n='string'\n",
    "r=''\n",
    "while i>=-len(n):\n",
    "    r=r+n[i]\n",
    "    i-=1\n",
    "print(r)  \n",
    "    "
   ]
  },
  {
   "cell_type": "code",
   "execution_count": 59,
   "id": "88d4e302",
   "metadata": {},
   "outputs": [
    {
     "name": "stdout",
     "output_type": "stream",
     "text": [
      "['I', 'am', 'what', 'i', 'am']\n"
     ]
    }
   ],
   "source": [
    "# split string without using split method\n",
    "s='I am what i am'\n",
    "t=''\n",
    "l=[]\n",
    "for i in s:\n",
    "    if i!=' ':\n",
    "        t+=i\n",
    "    else:\n",
    "        l.append(t)\n",
    "        t=''\n",
    "l.append(t)\n",
    "print(l)"
   ]
  },
  {
   "cell_type": "code",
   "execution_count": 60,
   "id": "27bbb4c8",
   "metadata": {},
   "outputs": [
    {
     "name": "stdout",
     "output_type": "stream",
     "text": [
      "['A', 'B', 'BCDCB', 'C', 'CDC', 'D']\n"
     ]
    }
   ],
   "source": [
    "s='ABCDCB'\n",
    "l=[]\n",
    "for i in range(0,len(s)):\n",
    "    for j in range(i+1,len(s)+1):\n",
    "        a=s[i:j]\n",
    "        if a==a[::-1]:\n",
    "            if a not in l:\n",
    "                l.append(a)\n",
    "print(l)                \n",
    "            "
   ]
  },
  {
   "cell_type": "code",
   "execution_count": 64,
   "id": "95d3e3d6",
   "metadata": {},
   "outputs": [
    {
     "name": "stdout",
     "output_type": "stream",
     "text": [
      "enter string:engineer@132\n",
      "ENGINEER@132\n"
     ]
    }
   ],
   "source": [
    "# convert lower case to upper case\n",
    "a=input('enter string:')\n",
    "res=''\n",
    "for i in range(0,len(a)):\n",
    "    if a[i]>='a' and a[i]<='z':\n",
    "        res+=chr(ord(a[i])-32)\n",
    "    else:\n",
    "        res+=a[i]\n",
    "print(res) \n",
    "\n",
    "                 "
   ]
  },
  {
   "cell_type": "code",
   "execution_count": 65,
   "id": "7580113d",
   "metadata": {},
   "outputs": [
    {
     "name": "stdout",
     "output_type": "stream",
     "text": [
      "enter string:eNgineer@123\n",
      "EnGINEER@123\n"
     ]
    }
   ],
   "source": [
    "# swap case\n",
    "# convert lower case to upper case\n",
    "a=input('enter string:')\n",
    "res=''\n",
    "for i in range(0,len(a)):\n",
    "    if a[i]>='a' and a[i]<='z':\n",
    "        res+=chr(ord(a[i])-32)\n",
    "    elif a[i]>='A'and a[i]<='Z':\n",
    "        res+=chr(ord(a[i])+32)\n",
    "        \n",
    "    else:\n",
    "        res+=a[i]\n",
    "print(res) \n",
    "\n",
    "                 "
   ]
  },
  {
   "cell_type": "code",
   "execution_count": 66,
   "id": "87c5939f",
   "metadata": {},
   "outputs": [
    {
     "name": "stdout",
     "output_type": "stream",
     "text": [
      "engineer\n",
      "8\n"
     ]
    }
   ],
   "source": [
    "# \n",
    "a=input()\n",
    "c=0\n",
    "for i in range(len(a)):\n",
    "    c+=1\n",
    "print(c)    "
   ]
  },
  {
   "cell_type": "code",
   "execution_count": 67,
   "id": "b53e1250",
   "metadata": {},
   "outputs": [
    {
     "name": "stdout",
     "output_type": "stream",
     "text": [
      "7\n"
     ]
    }
   ],
   "source": [
    "# sum of to number without adding it\n",
    "a=5\n",
    "b=2\n",
    "for i in range(b):\n",
    "    a+=1\n",
    "print(a)    "
   ]
  },
  {
   "cell_type": "code",
   "execution_count": 68,
   "id": "16972859",
   "metadata": {},
   "outputs": [
    {
     "name": "stdout",
     "output_type": "stream",
     "text": [
      "20\n"
     ]
    }
   ],
   "source": [
    "# product of two number without multiplying it\n",
    "a=5\n",
    "b=4\n",
    "res=0\n",
    "for i in range(a):\n",
    "    res+=b\n",
    "print(res)    \n",
    "    "
   ]
  },
  {
   "cell_type": "code",
   "execution_count": 70,
   "id": "f5635685",
   "metadata": {},
   "outputs": [
    {
     "name": "stdout",
     "output_type": "stream",
     "text": [
      "* \n",
      "* * \n",
      "* * * \n",
      "* * * * \n",
      "* * * * * \n"
     ]
    }
   ],
   "source": [
    "# \n",
    "for i in range(5):\n",
    "    for j in range(i+1):\n",
    "        print('*',end=' ')\n",
    "    print()\n",
    "    "
   ]
  },
  {
   "cell_type": "code",
   "execution_count": 74,
   "id": "9723fd48",
   "metadata": {},
   "outputs": [
    {
     "name": "stdout",
     "output_type": "stream",
     "text": [
      "* \n",
      "* * \n",
      "* * * \n",
      "* * * * \n",
      "* * * * * \n"
     ]
    }
   ],
   "source": [
    "n=5\n",
    "st=1\n",
    "for i in range(n):\n",
    "    for j in range(st):\n",
    "        print(f'*',end=' ')\n",
    "    print()\n",
    "    st+=1"
   ]
  },
  {
   "cell_type": "code",
   "execution_count": 75,
   "id": "9d847134",
   "metadata": {},
   "outputs": [
    {
     "name": "stdout",
     "output_type": "stream",
     "text": [
      "        * \n",
      "      * * \n",
      "    * * * \n",
      "  * * * * \n",
      "* * * * * \n"
     ]
    }
   ],
   "source": [
    "# \n",
    "n=5\n",
    "st=1\n",
    "sp=n-1\n",
    "for i in range(n):\n",
    "    for j in range(sp):\n",
    "        print(' ',end=' ')\n",
    "    for k in range(st):\n",
    "        print(f'*',end=' ')\n",
    "    print()\n",
    "    st+=1\n",
    "    sp-=1"
   ]
  },
  {
   "cell_type": "code",
   "execution_count": 76,
   "id": "586555e4",
   "metadata": {},
   "outputs": [
    {
     "name": "stdout",
     "output_type": "stream",
     "text": [
      "        * \n",
      "      * * * \n",
      "    * * * * * \n",
      "  * * * * * * * \n",
      "* * * * * * * * * \n"
     ]
    }
   ],
   "source": [
    "st=1\n",
    "sp=n-1\n",
    "n=5\n",
    "for i in range(n):\n",
    "    for j in range(sp):\n",
    "        print(' ',end=' ')\n",
    "    for k in range(st):\n",
    "        print('*',end=' ')\n",
    "    print()\n",
    "    sp-=1\n",
    "    st+=2"
   ]
  },
  {
   "cell_type": "code",
   "execution_count": 80,
   "id": "1eaf00f2",
   "metadata": {},
   "outputs": [
    {
     "name": "stdout",
     "output_type": "stream",
     "text": [
      "2.5\n"
     ]
    }
   ],
   "source": [
    "def outer(args):\n",
    "    d={}\n",
    "    def inner(x,y):\n",
    "        if x>y:\n",
    "            args(x,y)\n",
    "        else:\n",
    "            args(y,x)\n",
    "        \n",
    "    return inner\n",
    "@outer\n",
    "def division(a,b):\n",
    "    print(a/b)\n",
    "division(2,5)    \n",
    "    \n",
    "    "
   ]
  },
  {
   "cell_type": "code",
   "execution_count": 85,
   "id": "dc015482",
   "metadata": {},
   "outputs": [
    {
     "name": "stdout",
     "output_type": "stream",
     "text": [
      "inside constructer\n",
      "<function SingleTon.<locals>.inner at 0x00000191CFC02D30>\n",
      "<__main__.A object at 0x00000191CF3A0880>\n",
      "<__main__.A object at 0x00000191CF3A0880>\n"
     ]
    }
   ],
   "source": [
    "# singleton clas\n",
    "def SingleTon(args):\n",
    "    d={}\n",
    "    def inner():\n",
    "        if args not in d:\n",
    "            d[args]=args()\n",
    "        return d[args]\n",
    "    return inner\n",
    "@SingleTon\n",
    "class A:\n",
    "    def __init__(self):\n",
    "        print('inside constructer')\n",
    "        print(A)\n",
    "x=A()\n",
    "y=A()\n",
    "print(x)\n",
    "print(y)\n",
    "        "
   ]
  },
  {
   "cell_type": "code",
   "execution_count": 91,
   "id": "77f0a46a",
   "metadata": {},
   "outputs": [
    {
     "name": "stdout",
     "output_type": "stream",
     "text": [
      "10 20\n",
      "10\n"
     ]
    }
   ],
   "source": [
    "# \n",
    "def fun():\n",
    "    z=10 # non-local\n",
    "    def fun1():\n",
    "        y=20 # local\n",
    "        print(z,y)\n",
    "    fun1()\n",
    "    print(z)\n",
    "fun()\n",
    "\n",
    "    "
   ]
  },
  {
   "cell_type": "code",
   "execution_count": 104,
   "id": "0b5a1417",
   "metadata": {},
   "outputs": [
    {
     "name": "stdout",
     "output_type": "stream",
     "text": [
      "* * * * * * * * * \n",
      "  * * * * * * * \n",
      "    * * * * * \n",
      "      * * * \n",
      "        * \n"
     ]
    }
   ],
   "source": [
    "n=5\n",
    "st=2*n-1\n",
    "sp=0\n",
    "for i in range(n):\n",
    "    for j in range(sp):\n",
    "        print(' ',end=' ')\n",
    "    for k in range(st):\n",
    "        print('*',end=' ')\n",
    "    print()\n",
    "    sp+=1\n",
    "    st-=2"
   ]
  },
  {
   "cell_type": "code",
   "execution_count": 100,
   "id": "bafb846d",
   "metadata": {},
   "outputs": [
    {
     "name": "stdout",
     "output_type": "stream",
     "text": [
      "* * * * * * * * * \n",
      "  *           * \n",
      "    *       * \n",
      "      *   * \n",
      "        * \n"
     ]
    }
   ],
   "source": [
    "n=5\n",
    "st=2*n-1\n",
    "sp=0\n",
    "for i in range(n):\n",
    "    for j in range(sp):\n",
    "        print(' ',end=' ')\n",
    "    for k in range(st):\n",
    "        if i==0 or k==0 or k==st-1:\n",
    "            print('*',end=' ')\n",
    "        else:\n",
    "            print(' ',end=' ')\n",
    "    print()\n",
    "    sp+=1\n",
    "    st-=2"
   ]
  },
  {
   "cell_type": "code",
   "execution_count": 101,
   "id": "59afd4a1",
   "metadata": {},
   "outputs": [
    {
     "name": "stdout",
     "output_type": "stream",
     "text": [
      "        * \n",
      "      *   * \n",
      "    *       * \n",
      "  *           * \n",
      "* * * * * * * * * \n"
     ]
    }
   ],
   "source": [
    "n=5\n",
    "st=1\n",
    "sp=n-1\n",
    "for i in range(n):\n",
    "    for j in range(sp):\n",
    "        print(' ',end=' ')\n",
    "    for k in range(st):\n",
    "        if i==n-1 or k==0 or k==st-1:\n",
    "            print('*',end=' ')\n",
    "        else:\n",
    "            print(' ',end=' ')\n",
    "    print()\n",
    "    sp-=1\n",
    "    st+=2"
   ]
  },
  {
   "cell_type": "code",
   "execution_count": null,
   "id": "0ff6f413",
   "metadata": {},
   "outputs": [],
   "source": []
  }
 ],
 "metadata": {
  "kernelspec": {
   "display_name": "Python 3 (ipykernel)",
   "language": "python",
   "name": "python3"
  },
  "language_info": {
   "codemirror_mode": {
    "name": "ipython",
    "version": 3
   },
   "file_extension": ".py",
   "mimetype": "text/x-python",
   "name": "python",
   "nbconvert_exporter": "python",
   "pygments_lexer": "ipython3",
   "version": "3.9.12"
  }
 },
 "nbformat": 4,
 "nbformat_minor": 5
}
