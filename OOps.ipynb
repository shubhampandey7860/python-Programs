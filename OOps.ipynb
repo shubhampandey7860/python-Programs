{
 "cells": [
  {
   "cell_type": "code",
   "execution_count": 1,
   "id": "68c26616",
   "metadata": {},
   "outputs": [
    {
     "name": "stdout",
     "output_type": "stream",
     "text": [
      "Branch Name:MARATHAHALLI\n",
      "Branch code:74Ym1\n",
      "Trainer name:Santosh\n",
      "------------------------------------------------------------------------\n",
      "Branch Name:MARATHAHALLI\n",
      "Branch code:74Ym1\n",
      "Trainer name:Santosh\n"
     ]
    }
   ],
   "source": [
    "# class is blue print that is used to created object\n",
    "# class is declared using class keyword \n",
    "# Every data type in python is class\n",
    "class Pyspiders():               # or class A\n",
    "    Branch_Name='MARATHAHALLI'\n",
    "    Branch_code='74Ym1'    # class level variable / class member\n",
    "    Trainer_name='Santosh'\n",
    "# creating object \n",
    "obj1=Pyspiders()\n",
    "obj2=Pyspiders()\n",
    "\n",
    "# accessing class variable using class Name\n",
    "\n",
    "print(f'Branch Name:{Pyspiders.Branch_Name}')    \n",
    "print(f'Branch code:{Pyspiders.Branch_code}')\n",
    "print(f'Trainer name:{Pyspiders.Trainer_name}')\n",
    "print('------------------------------------------------------------------------')\n",
    "# accessing class variable using object name\n",
    "print(f'Branch Name:{obj1.Branch_Name}')    \n",
    "print(f'Branch code:{obj1.Branch_code}')\n",
    "print(f'Trainer name:{obj1.Trainer_name}')\n",
    "    \n",
    "    \n"
   ]
  },
  {
   "cell_type": "code",
   "execution_count": 2,
   "id": "5a7c4758",
   "metadata": {},
   "outputs": [
    {
     "name": "stdout",
     "output_type": "stream",
     "text": [
      "Branch name :OAR\n",
      "Branch name :MARATHAHALLI\n"
     ]
    }
   ],
   "source": [
    "# modifying class level variable or class member using object name\n",
    "obj1.Branch_Name='OAR'\n",
    "print('Branch name :{}'.format(obj1.Branch_Name))\n",
    "print('Branch name :{}'.format(obj2.Branch_Name))"
   ]
  },
  {
   "cell_type": "code",
   "execution_count": 3,
   "id": "2c43ae94",
   "metadata": {},
   "outputs": [
    {
     "name": "stdout",
     "output_type": "stream",
     "text": [
      "Branch name :OAR\n",
      "Branch name :OAR\n"
     ]
    }
   ],
   "source": [
    "# modifying class level variable or class member using className\n",
    "Pyspiders.Branch_Name='OAR'\n",
    "print('Branch name :{}'.format(Pyspiders.Branch_Name))\n",
    "print('Branch name :{}'.format(Pyspiders.Branch_Name))"
   ]
  },
  {
   "cell_type": "code",
   "execution_count": 4,
   "id": "35ffa4ba",
   "metadata": {},
   "outputs": [],
   "source": [
    "# object member / object  level variable\n",
    "# object member declared inside constructer\n",
    "# constructer is a special method. which execute automatically when object of class is created\n"
   ]
  },
  {
   "cell_type": "code",
   "execution_count": 5,
   "id": "a5695ea9",
   "metadata": {},
   "outputs": [
    {
     "name": "stdout",
     "output_type": "stream",
     "text": [
      "Name :shivam\n",
      "age  :22\n",
      "marks:7.8 \n",
      "-----------------------------------------------------\n",
      "Name :yash\n",
      "age  :21\n",
      "marks:8.1 \n"
     ]
    }
   ],
   "source": [
    "class Pyspiders:               # or class Pyspiders()\n",
    "    Branch_Name='MARATHAHALLI'\n",
    "    Branch_code='74Ym1'    # class level variable / class member\n",
    "    Trainer_name='Santosh'\n",
    "    def __init__(self,name,age,marks):     # self is holding address of object \n",
    "        self.name  = name \n",
    "        self.age   = age\n",
    "        self.marks = marks\n",
    "        \n",
    "# creating object \n",
    "st1=Pyspiders('shivam',22,7.8)\n",
    "st2=Pyspiders('yash',21,8.1)\n",
    "print(f'''Name :{st1.name}\n",
    "age  :{st1.age}\n",
    "marks:{st1.marks} ''')\n",
    "print('-----------------------------------------------------')\n",
    "print(f'''Name :{st2.name}\n",
    "age  :{st2.age}\n",
    "marks:{st2.marks} ''')\n",
    "                           "
   ]
  },
  {
   "cell_type": "code",
   "execution_count": 6,
   "id": "34a1171d",
   "metadata": {},
   "outputs": [],
   "source": [
    "# types of method\n",
    "# class level method\n",
    "# object level method\n",
    "# static method\n"
   ]
  },
  {
   "cell_type": "code",
   "execution_count": 7,
   "id": "e98edcdf",
   "metadata": {},
   "outputs": [
    {
     "name": "stdout",
     "output_type": "stream",
     "text": [
      "company name:   Hcl\n",
      "job location:   Bangalore\n",
      "Employee name : Ramesh\n",
      "Employee id:    101\n",
      "Employee salary:10000\n",
      "Employee department:software Engineer\n"
     ]
    }
   ],
   "source": [
    "# object level method\n",
    "class Employee:\n",
    "    Company_name='Hcl'\n",
    "    Location='Bangalore'\n",
    "    def __init__(self,ename,eid,salary,dep):\n",
    "        self.ename=ename\n",
    "        self.eid=eid\n",
    "        self.salary=salary\n",
    "        self.dep=dep\n",
    "    \n",
    "    def details(self):\n",
    "        print(f'company name:   {Employee.Company_name}')\n",
    "        print(f'job location:   {Employee.Location}')\n",
    "        print(f'Employee name : {self.ename}')\n",
    "        print(f'Employee id:    {self.eid}')\n",
    "        print(f'Employee salary:{self.salary}')\n",
    "        print(f'Employee department:{self.dep}')\n",
    "# object creation\n",
    "e1=Employee('Ramesh',101,10000,'software Engineer')\n",
    "e1.details()\n",
    "\n",
    "        \n",
    "    "
   ]
  },
  {
   "cell_type": "code",
   "execution_count": 20,
   "id": "45821797",
   "metadata": {},
   "outputs": [
    {
     "name": "stdout",
     "output_type": "stream",
     "text": [
      "car name:swift\n",
      "car color:white\n",
      "car model:vxi\n",
      "car oil:diesel\n",
      "company name:TATA\n",
      "company name:Audi\n"
     ]
    }
   ],
   "source": [
    "# class method\n",
    "class car:\n",
    "    company='TATA'\n",
    "    def __init__(self,name,color,model,oil):\n",
    "        self.name=name\n",
    "        self.color=color\n",
    "        self.model=model\n",
    "        self.oil=oil\n",
    "    \n",
    "    def car_details(self):\n",
    "        print(f'car name:{self.name}')\n",
    "        print(f'car color:{self.color}')\n",
    "        print(f'car model:{self.model}')\n",
    "        print(f'car oil:{self.oil}')\n",
    "        print(f'company name:{car.company}')\n",
    "    @classmethod\n",
    "    def change_company(cls,name):\n",
    "        car.company=name\n",
    "        print(f'company name:{cls.company}')\n",
    "car1=car('swift','white','vxi','diesel')\n",
    "car1.car_details()\n",
    "car1.change_company('Audi')\n",
    "car2=car('swift','white','vxi','diesel')\n",
    "        \n",
    "\n"
   ]
  },
  {
   "cell_type": "code",
   "execution_count": 21,
   "id": "f380cdd1",
   "metadata": {},
   "outputs": [
    {
     "name": "stdout",
     "output_type": "stream",
     "text": [
      "Jessa's age is: 20\n",
      "Joy's age is: 27\n"
     ]
    }
   ],
   "source": [
    "from datetime import date\n",
    "\n",
    "class Student:\n",
    "    def __init__(self, name, age):\n",
    "        self.name = name\n",
    "        self.age = age\n",
    "\n",
    "    @classmethod\n",
    "    def calculate_age(cls, name, birth_year):\n",
    "        # calculate age an set it as a age\n",
    "        # return new object\n",
    "        return cls(name, date.today().year - birth_year)\n",
    "\n",
    "    def show(self):\n",
    "        print(self.name + \"'s age is: \" + str(self.age))\n",
    "\n",
    "jessa = Student('Jessa', 20)\n",
    "jessa.show()\n",
    "\n",
    "# create new object using the factory method\n",
    "joy = Student.calculate_age(\"Joy\", 1995)\n",
    "joy.show()\n"
   ]
  },
  {
   "cell_type": "code",
   "execution_count": 29,
   "id": "99ab77c2",
   "metadata": {},
   "outputs": [
    {
     "name": "stdout",
     "output_type": "stream",
     "text": [
      "Mininum Balance:9000\n",
      "101,20000,Yash\n",
      "101,12000,Yash\n"
     ]
    }
   ],
   "source": [
    "class Account:\n",
    "    __minBal=5000\n",
    "    def __init__(self,accno,bal,cname):\n",
    "        self.__accno=accno\n",
    "        self.__bal=bal\n",
    "        self.__cname=cname\n",
    "    def deposit(self,amt):\n",
    "        self.__bal+=amt\n",
    "    def withdraw(self,amt):\n",
    "        if self.__bal-amt<Account.__minBal:\n",
    "            print(f'insufficient balance')\n",
    "        else:\n",
    "            self.__bal-=amt\n",
    "    def print_data(self):\n",
    "        print(f'{self.__accno},{self.__bal},{self.__cname}')\n",
    "    @classmethod\n",
    "    def set_minbal(cls,mb):\n",
    "        Account.__minBal=mb\n",
    "    @classmethod\n",
    "    def getminBal(cls):\n",
    "        return cls.__minBal\n",
    "def main():\n",
    "\n",
    "    Account.set_minbal(9000)\n",
    "    print(f'Mininum Balance:{Account.getminBal()}')\n",
    "    acc1=Account(101,15000,'Yash')\n",
    "    acc1.deposit(5000)\n",
    "    acc1.print_data()\n",
    "    acc1.withdraw(8000)\n",
    "    acc1.print_data()\n",
    "main()\n",
    "    \n",
    "    "
   ]
  },
  {
   "cell_type": "code",
   "execution_count": 2,
   "id": "61e7fa79",
   "metadata": {},
   "outputs": [
    {
     "name": "stdout",
     "output_type": "stream",
     "text": [
      "enter pin:178440\n",
      "Available balance :5000\n",
      "enter amount:1000\n",
      "Amount deposited successfully\n",
      "enter pin:178440\n",
      "Available balance :6000\n",
      "enter amount:5000\n",
      "enter pin:178440\n",
      "Amount withdraw successfully\n"
     ]
    }
   ],
   "source": [
    "class Bank:\n",
    "    Bank_Name='UNION BANK OF INDIA'\n",
    "    Roi=0.07\n",
    "    def __init__(self,name,Accno,mno,pin,balance):\n",
    "        self.name=name\n",
    "        self.Accno=Accno\n",
    "        self.mno=mno\n",
    "        self.pin=pin\n",
    "        self.balance=balance\n",
    "    def check_Bal(self):\n",
    "        if self.pin==self.Getpin():\n",
    "            print(f'Available balance :{self.balance}')\n",
    "        else:\n",
    "            print(f'invalid pin')\n",
    "    def deposite(self,amt):\n",
    "        self.balance+=amt\n",
    "        print('Amount deposited successfully')\n",
    "    def withdraw(self,amt):\n",
    "        if self.pin==self.Getpin():\n",
    "            if self.balance>=amt:\n",
    "                self.balance-=amt\n",
    "                print('Amount withdraw successfully')\n",
    "            else:\n",
    "                print('insufficient balance')\n",
    "        else:\n",
    "            print('invalid pin')\n",
    "    @staticmethod\n",
    "    def Getpin():\n",
    "        return int(input('enter pin:'))\n",
    "    \n",
    "    \n",
    "Acc1=Bank('shubham',101,7054185070,178440,5000)\n",
    "Acc1.check_Bal()\n",
    "Acc1.deposite(int(input('enter amount:')))\n",
    "Acc1.check_Bal()\n",
    "Acc1.withdraw(int(input('enter amount:')))\n",
    "    \n"
   ]
  },
  {
   "cell_type": "code",
   "execution_count": 6,
   "id": "bfd6f802",
   "metadata": {},
   "outputs": [
    {
     "name": "stdout",
     "output_type": "stream",
     "text": [
      "10\n",
      "This is class method\n",
      "20\n"
     ]
    }
   ],
   "source": [
    "# class level method\n",
    "class A:\n",
    "    x=10 # class level variable / class member\n",
    "    @classmethod\n",
    "    def m1(cls):\n",
    "        cls.x=20\n",
    "        print(f'This is class method')\n",
    "\n",
    "print(A.x)\n",
    "A.m1()\n",
    "print(A.x)\n",
    "        "
   ]
  },
  {
   "cell_type": "code",
   "execution_count": 2,
   "id": "fb62e9e3",
   "metadata": {},
   "outputs": [
    {
     "name": "stdout",
     "output_type": "stream",
     "text": [
      "this is constructor\n",
      "this is object level method\n"
     ]
    }
   ],
   "source": [
    "# object level method\n",
    "class A:\n",
    "    def __init__(self):\n",
    "        print(f'this is constructor') # object member/instance variable\n",
    "    def m1(self):\n",
    "        print(f'this is object level method')\n",
    "obj=A()\n",
    "obj.m1()\n",
    "        "
   ]
  },
  {
   "cell_type": "code",
   "execution_count": 3,
   "id": "713e0f33",
   "metadata": {},
   "outputs": [
    {
     "name": "stdout",
     "output_type": "stream",
     "text": [
      "this is static method\n",
      "this is static method\n"
     ]
    }
   ],
   "source": [
    "# staticmethod\n",
    "class A:\n",
    "    @staticmethod\n",
    "    def m1():\n",
    "        print('this is static method')\n",
    "A.m1()\n",
    "obj=A()\n",
    "obj.m1()\n",
    "        \n",
    "    "
   ]
  },
  {
   "cell_type": "code",
   "execution_count": 4,
   "id": "260ac398",
   "metadata": {},
   "outputs": [
    {
     "name": "stdout",
     "output_type": "stream",
     "text": [
      "20 30\n"
     ]
    }
   ],
   "source": [
    "# Access modifiers\n",
    "# private\n",
    "class A:\n",
    "    def __init__(self):\n",
    "        self._x=20\n",
    "        self._y=30\n",
    "A1=A()\n",
    "print(A1._x,A1._y)\n",
    "        "
   ]
  },
  {
   "cell_type": "code",
   "execution_count": 7,
   "id": "830b28a8",
   "metadata": {},
   "outputs": [
    {
     "ename": "AttributeError",
     "evalue": "'A' object has no attribute '__x'",
     "output_type": "error",
     "traceback": [
      "\u001b[1;31m---------------------------------------------------------------------------\u001b[0m",
      "\u001b[1;31mAttributeError\u001b[0m                            Traceback (most recent call last)",
      "Input \u001b[1;32mIn [7]\u001b[0m, in \u001b[0;36m<cell line: 10>\u001b[1;34m()\u001b[0m\n\u001b[0;32m      8\u001b[0m         \u001b[38;5;28mself\u001b[39m\u001b[38;5;241m.\u001b[39m__y\u001b[38;5;241m=\u001b[39m\u001b[38;5;241m30\u001b[39m\n\u001b[0;32m      9\u001b[0m A1\u001b[38;5;241m=\u001b[39mA()\n\u001b[1;32m---> 10\u001b[0m \u001b[38;5;28mprint\u001b[39m(\u001b[43mA1\u001b[49m\u001b[38;5;241;43m.\u001b[39;49m\u001b[43m__x\u001b[49m)\n",
      "\u001b[1;31mAttributeError\u001b[0m: 'A' object has no attribute '__x'"
     ]
    }
   ],
   "source": [
    "# private  : double underscore(__)\n",
    "# we can not access private data member outside class\n",
    "# for access we have to use getter and setter methods\n",
    "# getter method is used to accessing where as setter method used for modification\n",
    "class A:\n",
    "    def __init__(self):\n",
    "        self.__x=20\n",
    "        self.__y=30\n",
    "A1=A()\n",
    "print(A1.__x)\n",
    "    \n"
   ]
  },
  {
   "cell_type": "code",
   "execution_count": 8,
   "id": "4e1c2f74",
   "metadata": {},
   "outputs": [
    {
     "name": "stdout",
     "output_type": "stream",
     "text": [
      "(20, 30)\n",
      "(50, 60)\n"
     ]
    }
   ],
   "source": [
    "class A:\n",
    "    def __init__(self):\n",
    "        self.__x=20\n",
    "        self.__y=30\n",
    "    def Getter(self):\n",
    "        return self.__x,self.__y\n",
    "    def setter(self,x,y):\n",
    "        self.__x=x\n",
    "        self.__y=y\n",
    "        return self.__x,self.__y\n",
    "    \n",
    "A1=A()\n",
    "print(A1.Getter())\n",
    "print(A1.setter(50,60))"
   ]
  },
  {
   "cell_type": "code",
   "execution_count": 12,
   "id": "ab132e1c",
   "metadata": {},
   "outputs": [
    {
     "name": "stdout",
     "output_type": "stream",
     "text": [
      "this is method m1 of class A\n",
      "this is method m2 of class A\n",
      "this is method m3 of class B\n",
      "this is method m4 of class B\n"
     ]
    }
   ],
   "source": [
    "# inheritance\n",
    "# Aquiring properties and methods of base class to child class/ sub class is known as inheritance\n",
    "class A: # parent class\n",
    "    def m1(self):\n",
    "        print(f'this is method m1 of class A')\n",
    "    def m2(self):\n",
    "        print(f'this is method m2 of class A')\n",
    "# sub class / child class\n",
    "class B(A):\n",
    "    def m3(self):\n",
    "        print(f'this is method m3 of class B')\n",
    "    def m4(self):\n",
    "        print(f'this is method m4 of class B')\n",
    "# create object\n",
    "obj=B()\n",
    "obj.m1()\n",
    "obj.m2()\n",
    "obj.m3()\n",
    "obj.m4()\n",
    "       "
   ]
  },
  {
   "cell_type": "code",
   "execution_count": 13,
   "id": "08cf89e4",
   "metadata": {},
   "outputs": [
    {
     "name": "stdout",
     "output_type": "stream",
     "text": [
      "this is constructor of class A\n",
      "this is constructor of class A\n"
     ]
    }
   ],
   "source": [
    "# single level inheritance\n",
    "class A:\n",
    "    def __init__(self):\n",
    "        print(f'this is constructor of class A')\n",
    "        \n",
    "class B(A):\n",
    "    pass\n",
    "obj1=A()\n",
    "obj2=B()\n"
   ]
  },
  {
   "cell_type": "code",
   "execution_count": 15,
   "id": "c77e8e5a",
   "metadata": {},
   "outputs": [
    {
     "name": "stdout",
     "output_type": "stream",
     "text": [
      "this is constructor of class B\n"
     ]
    }
   ],
   "source": [
    "class A:\n",
    "    def __init__(self):\n",
    "        print(f'this is constructor of class A')\n",
    "        \n",
    "class B(A):\n",
    "    def __init__(self):\n",
    "        print(f'this is constructor of class B')  # overiding \n",
    "    \n",
    "\n",
    "obj2=B()"
   ]
  },
  {
   "cell_type": "code",
   "execution_count": 18,
   "id": "a19f392e",
   "metadata": {},
   "outputs": [
    {
     "name": "stdout",
     "output_type": "stream",
     "text": [
      "this is constructor of class A\n",
      "this is constructor of class A\n",
      "this is constructor of class B\n"
     ]
    }
   ],
   "source": [
    "class A:\n",
    "    def __init__(self):\n",
    "        print(f'this is constructor of class A')\n",
    "        \n",
    "class B(A):\n",
    "    def __init__(self):\n",
    "        super().__init__()    # or className.__init__(self)\n",
    "        A.__init__(self)\n",
    "        print(f'this is constructor of class B')  \n",
    "    \n",
    "\n",
    "obj1=B()"
   ]
  },
  {
   "cell_type": "code",
   "execution_count": 21,
   "id": "9f40994b",
   "metadata": {},
   "outputs": [
    {
     "name": "stdout",
     "output_type": "stream",
     "text": [
      "constructor method of class A\n",
      "constructor method of class B\n",
      "constructor method of class C\n",
      "20 30 40\n"
     ]
    }
   ],
   "source": [
    "# multi level inheritance\n",
    "class A:\n",
    "    def __init__(self):\n",
    "        self._x=20\n",
    "        print(f'constructor method of class A')\n",
    "class B(A):\n",
    "    def __init__(self):\n",
    "        self._x=30\n",
    "        print(f'constructor method of class B')\n",
    "class C(B):\n",
    "    def __init__(self):\n",
    "        self._x=40\n",
    "        print(f'constructor method of class C')\n",
    "# object creation\n",
    "objA=A()\n",
    "objB=B()\n",
    "objC=C()\n",
    "print(objA._x,objB._x,objC._x)\n",
    "        \n",
    "        \n",
    "    "
   ]
  },
  {
   "cell_type": "code",
   "execution_count": 3,
   "id": "d19f14ba",
   "metadata": {},
   "outputs": [
    {
     "name": "stdout",
     "output_type": "stream",
     "text": [
      "constructor method of class A\n",
      "constructor method of class B\n",
      "constructor method of class C\n",
      "40\n"
     ]
    }
   ],
   "source": [
    "class A:\n",
    "    def __init__(self):\n",
    "        self._x=20\n",
    "        print(f'constructor method of class A')\n",
    "class B(A):\n",
    "    def __init__(self):\n",
    "        self._x=30\n",
    "        print(f'constructor method of class B')\n",
    "class C(B):\n",
    "    def __init__(self):\n",
    "        A.__init__(self)\n",
    "        super().__init__()\n",
    "        self._x=40\n",
    "        print(f'constructor method of class C')\n",
    "# object creation\n",
    "obj=C()\n",
    "print(obj._x)\n",
    "   "
   ]
  },
  {
   "cell_type": "code",
   "execution_count": 2,
   "id": "0020a970",
   "metadata": {},
   "outputs": [
    {
     "name": "stdout",
     "output_type": "stream",
     "text": [
      "constructor method of class A\n",
      "constructor method of class B\n",
      "constructor method of class C\n",
      "40\n"
     ]
    }
   ],
   "source": [
    "# multiple inheritance\n",
    "class A:\n",
    "    def __init__(self):\n",
    "        self._x=20\n",
    "        print(f'constructor method of class A')\n",
    "class B:\n",
    "    def __init__(self):\n",
    "        self._x=30\n",
    "        print(f'constructor method of class B')\n",
    "class C(A,B):\n",
    "    def __init__(self):\n",
    "        super().__init__()\n",
    "        B.__init__(self)\n",
    "        self._x=40\n",
    "        print(f'constructor method of class C')\n",
    "# object creation\n",
    "obj=C()\n",
    "print(obj._x)\n",
    "   \n"
   ]
  },
  {
   "cell_type": "code",
   "execution_count": 35,
   "id": "e76e2239",
   "metadata": {},
   "outputs": [
    {
     "name": "stdout",
     "output_type": "stream",
     "text": [
      "name: shubham\n",
      "age:20\n"
     ]
    }
   ],
   "source": [
    "class A:\n",
    "    def __init__(self,name='shubham',age=20): # default \n",
    "        self.name=name\n",
    "        self.age=age\n",
    "    def print_data(self):\n",
    "        print(f'name: {self.name}')\n",
    "        print(f'age:{self.age}')\n",
    "obj=A()\n",
    "obj.print_data()\n",
    "    "
   ]
  },
  {
   "cell_type": "code",
   "execution_count": 37,
   "id": "065fa92d",
   "metadata": {},
   "outputs": [
    {
     "name": "stdout",
     "output_type": "stream",
     "text": [
      "hii\n"
     ]
    }
   ],
   "source": [
    "class A:\n",
    "    def __init__(self):\n",
    "        print('hello')\n",
    "    def __init__(self):\n",
    "        print('hii')\n",
    "A1=A()        "
   ]
  },
  {
   "cell_type": "code",
   "execution_count": 17,
   "id": "761bd739",
   "metadata": {},
   "outputs": [
    {
     "name": "stdout",
     "output_type": "stream",
     "text": [
      "parent class\n",
      "parent class\n",
      "20\n",
      "30\n",
      "method of parent class\n",
      "method of parent class\n"
     ]
    }
   ],
   "source": [
    "# heirarchical  inheritance\n",
    "class A:\n",
    "    x=20\n",
    "    def __init__(self,x):\n",
    "        self.x=x\n",
    "        print(f'parent class')\n",
    "    def m1(self):\n",
    "        print(f'method of parent class')\n",
    "class B(A):\n",
    "    pass\n",
    "class C(A):\n",
    "    pass\n",
    "#\n",
    "objB=B(20)\n",
    "objC=C(30)\n",
    "print(objB.x)\n",
    "print(objC.x)\n",
    "objB.m1()\n",
    "objC.m1()"
   ]
  },
  {
   "cell_type": "code",
   "execution_count": 19,
   "id": "2c4a553f",
   "metadata": {},
   "outputs": [
    {
     "name": "stdout",
     "output_type": "stream",
     "text": [
      "20 30 40\n"
     ]
    }
   ],
   "source": [
    "# Multiple inheritance\n",
    "class A:\n",
    "    x=20\n",
    "class B:\n",
    "    y=30\n",
    "class C(A,B):\n",
    "    z=40\n",
    "obj=C()\n",
    "print(obj.x,obj.y,obj.z)\n",
    "    "
   ]
  },
  {
   "cell_type": "code",
   "execution_count": 12,
   "id": "b5a9f81e",
   "metadata": {},
   "outputs": [
    {
     "name": "stdout",
     "output_type": "stream",
     "text": [
      "30 20 10\n"
     ]
    }
   ],
   "source": [
    "# Hybrid\n",
    "class A():\n",
    "    x=20\n",
    "class B:\n",
    "    y=30\n",
    "class C(B,A):\n",
    "    z=30\n",
    "    x=20\n",
    "    y=20\n",
    "class D(B,A):\n",
    "    x=30\n",
    "    y=20\n",
    "    z=10\n",
    "class E(D,C):\n",
    "    pass\n",
    "obj=E()\n",
    "print(obj.x,obj.y,obj.z)\n"
   ]
  },
  {
   "cell_type": "code",
   "execution_count": 25,
   "id": "5d915d51",
   "metadata": {},
   "outputs": [
    {
     "name": "stdout",
     "output_type": "stream",
     "text": [
      "Name:Shubham\n",
      "Accno:178440\n",
      "mno:6392687390\n",
      "Bal:5000\n",
      "email:sp3336705@gmail.com\n",
      "Aadhar:801072609194\n"
     ]
    }
   ],
   "source": [
    "# Bank \n",
    "class Bank_v1:\n",
    "    Bank_Name='Union Bank Of India'\n",
    "    def __init__(self,Name,Accno,mno,Bal):\n",
    "        self.Name=Name\n",
    "        self.Accno=Accno\n",
    "        self.mno=mno\n",
    "        self.Bal=Bal\n",
    "    def Details(self):\n",
    "        print(f'Name:{self.Name}')\n",
    "        print(f'Accno:{self.Accno}')\n",
    "        print(f'mno:{self.mno}')\n",
    "        print(f'Bal:{self.Bal}')\n",
    "# \n",
    "class Bank_v2(Bank_v1):\n",
    "    def __init__(self,Name,Accno,mno,Bal,email,Aadhar):\n",
    "        super().__init__(Name,Accno,mno,Bal)\n",
    "        self.email=email\n",
    "        self.Aadhar=Aadhar\n",
    "    def Details(self):\n",
    "        super().Details()\n",
    "        print(f'email:{self.email}')\n",
    "        print(f'Aadhar:{self.Aadhar}')\n",
    "Acc1=Bank_v2('Shubham',178440,6392687390,5000,'sp3336705@gmail.com',801072609194)\n",
    "Acc1.Details()\n",
    "    \n",
    "    \n",
    "    "
   ]
  },
  {
   "cell_type": "code",
   "execution_count": 28,
   "id": "b2be855f",
   "metadata": {},
   "outputs": [
    {
     "name": "stdout",
     "output_type": "stream",
     "text": [
      "Name:Shubham\n",
      "Accno:178440\n",
      "mno:6392687390\n",
      "Bal:5000\n",
      "email:sp3336705@gmail.com\n",
      "Aadhar:801072609194\n",
      "Pan card no:183841\n",
      "----------------------------------------------------------------------------\n",
      "Name:Shubham\n",
      "Accno:173246\n",
      "mno:6306554972\n",
      "Bal:10000\n",
      "email:abhishek199101@gmail.com\n",
      "Aadhar:456072609194\n",
      "Pan card no:3232535\n"
     ]
    }
   ],
   "source": [
    "# multi level inheritance\n",
    "# Bank \n",
    "class Bank_v1:\n",
    "    Bank_Name='Union Bank Of India'\n",
    "    def __init__(self,Name,Accno,mno,Bal):\n",
    "        self.Name=Name\n",
    "        self.Accno=Accno\n",
    "        self.mno=mno\n",
    "        self.Bal=Bal\n",
    "    def Details(self):\n",
    "        print(f'Name:{self.Name}')\n",
    "        print(f'Accno:{self.Accno}')\n",
    "        print(f'mno:{self.mno}')\n",
    "        print(f'Bal:{self.Bal}')\n",
    "# \n",
    "class Bank_v2(Bank_v1):\n",
    "    def __init__(self,Name,Accno,mno,Bal,email,Aadhar):\n",
    "        super().__init__(Name,Accno,mno,Bal)\n",
    "        self.email=email\n",
    "        self.Aadhar=Aadhar\n",
    "    def Details(self):\n",
    "        super().Details()\n",
    "        print(f'email:{self.email}')\n",
    "        print(f'Aadhar:{self.Aadhar}')\n",
    "class Bank_v3(Bank_v2):\n",
    "    def __init__(self,Name,Accno,mno,Bal,email,Aadhar,pan):\n",
    "        super().__init__(Name,Accno,mno,Bal,email,Aadhar)\n",
    "        self.pan=pan\n",
    "    def Details(self):\n",
    "        super().Details()\n",
    "        print(f'Pan card no:{self.pan}')\n",
    "        \n",
    "Acc1=Bank_v3('Shubham',178440,6392687390,5000,'sp3336705@gmail.com',801072609194,183841)\n",
    "Acc1.Details()\n",
    "print('----------------------------------------------------------------------------')\n",
    "Acc2=Bank_v3('Shubham',173246,6306554972,10000,'abhishek199101@gmail.com',456072609194,3232535)\n",
    "Acc2.Details()\n",
    "    \n",
    "    \n",
    "    "
   ]
  },
  {
   "cell_type": "code",
   "execution_count": 29,
   "id": "df4467d6",
   "metadata": {},
   "outputs": [
    {
     "name": "stdout",
     "output_type": "stream",
     "text": [
      "<__main__.A object at 0x000001C9A2FB7730>\n"
     ]
    }
   ],
   "source": [
    "# Default constructor\n",
    "                      # A constructor which does not accept any argument\n",
    "                      #Its definition has only one argument which is a reference to the instance being constructed.\n",
    "class A:\n",
    "    def __init__(self):\n",
    "        print(self)\n",
    "a=A()        \n"
   ]
  },
  {
   "cell_type": "code",
   "execution_count": 31,
   "id": "871a7ed7",
   "metadata": {},
   "outputs": [
    {
     "name": "stdout",
     "output_type": "stream",
     "text": [
      "<__main__.A object at 0x000001C9A2FB2640>\n",
      "10\n",
      "20\n"
     ]
    }
   ],
   "source": [
    "# parameterized constructor\n",
    "# constructor with argument is called parameterized constructor\n",
    "# The parameterized constructor takes its first argument as a reference to the instance\n",
    "class A:\n",
    "    def __init__(self,x,y):\n",
    "        self.x=x\n",
    "        self.y=y\n",
    "    def details(self):\n",
    "        print(self)\n",
    "        print(self.x)\n",
    "        print(self.y)\n",
    "a=A(10,20)\n",
    "a.details()"
   ]
  },
  {
   "cell_type": "code",
   "execution_count": 10,
   "id": "cca726c5",
   "metadata": {},
   "outputs": [
    {
     "name": "stdout",
     "output_type": "stream",
     "text": [
      " Hello how would you like to proceed !\n",
      "                      1.Enter 1 to create pin\n",
      "                      2.Enter 2 to deposit\n",
      "                      3.Enter 3 to withdraw\n",
      "                      4.Enter 4 check Balance\n",
      "                      5.Enter 5 to exit \n",
      "                      2\n",
      "enter your pin5465\n",
      "enter your pin5465\n",
      "enter your pin5465\n",
      "invalid pin\n"
     ]
    }
   ],
   "source": [
    "class Atm:\n",
    "    def __init__(self):\n",
    "        self.pin =None\n",
    "        self.balance = 0\n",
    "        self.menu()\n",
    "\n",
    "    def menu(self):\n",
    "        user_input = input(\"\"\" Hello how would you like to proceed !\n",
    "                      1.Enter 1 to create pin\n",
    "                      2.Enter 2 to deposit\n",
    "                      3.Enter 3 to withdraw\n",
    "                      4.Enter 4 check Balance\n",
    "                      5.Enter 5 to exit \n",
    "                      \"\"\")\n",
    "        if user_input == '1':\n",
    "            self.createPin()\n",
    "        elif user_input == '2':\n",
    "            self.deposit()\n",
    "        elif user_input == '3':\n",
    "            self.withdraw()\n",
    "        elif user_input == '4':\n",
    "            self.checkBalance()\n",
    "        elif user_input == '5':\n",
    "            print('exit()')\n",
    "        else:\n",
    "            print('Bye')\n",
    "\n",
    "    def createPin(self):\n",
    "        self.pin = input('enter pin:')\n",
    "        print('pin created successfuly')\n",
    "\n",
    "    def deposit(self):\n",
    "        temp = input('enter your pin')\n",
    "        if temp == self.pin:\n",
    "            amount = int(input('enter amount:'))\n",
    "            self.balance = self.balance + amount\n",
    "            print('deposit successfully')\n",
    "\n",
    "    def withdraw(self):\n",
    "        temp = input('enter your pin')\n",
    "        if temp == self.pin:\n",
    "            amount = int(input('enter amount:'))\n",
    "            if amount < self.balance:\n",
    "                self.balance = self.balance - amount\n",
    "                print('operation successful')\n",
    "            else:\n",
    "                print('insufficient balance')\n",
    "        else:\n",
    "            print('invalid pin')\n",
    "\n",
    "    def checkBalance(self):\n",
    "        temp = input('enter your pin')\n",
    "        if temp == self.pin:\n",
    "            print(f'balance:{self.balance}')\n",
    "        else:\n",
    "            print('invalid pin')\n",
    "\n",
    "\n",
    "# create object of Atm class\n",
    "sbi = Atm()\n",
    "sbi.deposit()\n",
    "sbi.checkBalance()\n",
    "\n"
   ]
  },
  {
   "cell_type": "code",
   "execution_count": 2,
   "id": "10cb764a",
   "metadata": {},
   "outputs": [
    {
     "name": "stdout",
     "output_type": "stream",
     "text": [
      "this is constructer method of class B\n",
      "this is method m1 of class B\n"
     ]
    }
   ],
   "source": [
    "# method overriding\n",
    "class A:\n",
    "    def __init__(self):\n",
    "        print(f'this is constructer method of class A')\n",
    "    def m1(self):\n",
    "        print(f'this is method m1 of class A')\n",
    "\n",
    "class B(A):\n",
    "    def __init__(self):  # overriding\n",
    "        print(f'this is constructer method of class B')\n",
    "    def m1(self):\n",
    "        print(f'this is method m1 of class B')\n",
    "obj=B()\n",
    "obj.m1()\n",
    "        \n",
    "\n",
    "        "
   ]
  },
  {
   "cell_type": "code",
   "execution_count": 3,
   "id": "eb2ca7c1",
   "metadata": {},
   "outputs": [
    {
     "ename": "TypeError",
     "evalue": "add() missing 2 required positional arguments: 'c' and 'd'",
     "output_type": "error",
     "traceback": [
      "\u001b[1;31m---------------------------------------------------------------------------\u001b[0m",
      "\u001b[1;31mTypeError\u001b[0m                                 Traceback (most recent call last)",
      "Input \u001b[1;32mIn [3]\u001b[0m, in \u001b[0;36m<cell line: 12>\u001b[1;34m()\u001b[0m\n\u001b[0;32m     10\u001b[0m         \u001b[38;5;28;01mreturn\u001b[39;00m a\u001b[38;5;241m+\u001b[39mb\u001b[38;5;241m+\u001b[39mc\u001b[38;5;241m+\u001b[39md\n\u001b[0;32m     11\u001b[0m objA\u001b[38;5;241m=\u001b[39mA()\n\u001b[1;32m---> 12\u001b[0m \u001b[38;5;28mprint\u001b[39m(\u001b[43mobjA\u001b[49m\u001b[38;5;241;43m.\u001b[39;49m\u001b[43madd\u001b[49m\u001b[43m(\u001b[49m\u001b[38;5;241;43m2\u001b[39;49m\u001b[43m,\u001b[49m\u001b[38;5;241;43m3\u001b[39;49m\u001b[43m)\u001b[49m)\n\u001b[0;32m     13\u001b[0m \u001b[38;5;28mprint\u001b[39m(objA\u001b[38;5;241m.\u001b[39madd(\u001b[38;5;241m2\u001b[39m,\u001b[38;5;241m3\u001b[39m,\u001b[38;5;241m4\u001b[39m))\n\u001b[0;32m     14\u001b[0m \u001b[38;5;28mprint\u001b[39m(objA\u001b[38;5;241m.\u001b[39madd(\u001b[38;5;241m2\u001b[39m,\u001b[38;5;241m3\u001b[39m,\u001b[38;5;241m4\u001b[39m,\u001b[38;5;241m5\u001b[39m))\n",
      "\u001b[1;31mTypeError\u001b[0m: add() missing 2 required positional arguments: 'c' and 'd'"
     ]
    }
   ],
   "source": [
    "# overloading\n",
    "# overloading is not possible in python \n",
    "# but we can acheive overloading by giving method  to default argument or variable length argument\n",
    "class A:\n",
    "    def add(self,a,b):\n",
    "        return a+b\n",
    "    def add(self,a,b,c):\n",
    "        return a+b+c\n",
    "    def add(self,a,b,c,d):\n",
    "        return a+b+c+d\n",
    "objA=A()\n",
    "print(objA.add(2,3))\n",
    "print(objA.add(2,3,4))\n",
    "print(objA.add(2,3,4,5))\n",
    "    "
   ]
  },
  {
   "cell_type": "code",
   "execution_count": 5,
   "id": "65d26a0b",
   "metadata": {},
   "outputs": [
    {
     "name": "stdout",
     "output_type": "stream",
     "text": [
      "5\n",
      "9\n",
      "14\n"
     ]
    }
   ],
   "source": [
    "# overloading\n",
    "# overloading is not possible in python \n",
    "# but we can acheive overloading by giving method  to default argument or variable length argument\n",
    "class A:\n",
    "    def add(self,*args):\n",
    "        t=0\n",
    "        for i in args:\n",
    "            t+=i\n",
    "        return t    \n",
    "objA=A()\n",
    "print(objA.add(2,3))\n",
    "print(objA.add(2,3,4))\n",
    "print(objA.add(2,3,4,5))\n",
    "    "
   ]
  },
  {
   "cell_type": "code",
   "execution_count": 6,
   "id": "8e2f079b",
   "metadata": {},
   "outputs": [
    {
     "name": "stdout",
     "output_type": "stream",
     "text": [
      "5\n",
      "9\n",
      "14\n"
     ]
    }
   ],
   "source": [
    "class A:\n",
    "    def add(self,a=0,b=0,c=0,d=0):\n",
    "        return a+b+c+d\n",
    "    \n",
    "objA=A()\n",
    "print(objA.add(2,3))\n",
    "print(objA.add(2,3,4))\n",
    "print(objA.add(2,3,4,5))\n",
    "    "
   ]
  },
  {
   "cell_type": "code",
   "execution_count": 7,
   "id": "f7509bc6",
   "metadata": {},
   "outputs": [
    {
     "ename": "TypeError",
     "evalue": "unsupported operand type(s) for +: 'A' and 'A'",
     "output_type": "error",
     "traceback": [
      "\u001b[1;31m---------------------------------------------------------------------------\u001b[0m",
      "\u001b[1;31mTypeError\u001b[0m                                 Traceback (most recent call last)",
      "Input \u001b[1;32mIn [7]\u001b[0m, in \u001b[0;36m<cell line: 6>\u001b[1;34m()\u001b[0m\n\u001b[0;32m      4\u001b[0m obj1\u001b[38;5;241m=\u001b[39mA(\u001b[38;5;241m10\u001b[39m)\n\u001b[0;32m      5\u001b[0m obj2\u001b[38;5;241m=\u001b[39mA(\u001b[38;5;241m20\u001b[39m)\n\u001b[1;32m----> 6\u001b[0m \u001b[38;5;28mprint\u001b[39m(\u001b[43mobj1\u001b[49m\u001b[38;5;241;43m+\u001b[39;49m\u001b[43mobj2\u001b[49m)\n",
      "\u001b[1;31mTypeError\u001b[0m: unsupported operand type(s) for +: 'A' and 'A'"
     ]
    }
   ],
   "source": [
    "class A:\n",
    "    def __init__(self,x):\n",
    "        self.x=x\n",
    "obj1=A(10)\n",
    "obj2=A(20)\n",
    "print(obj1+obj2)"
   ]
  },
  {
   "cell_type": "code",
   "execution_count": 14,
   "id": "a2d3dee6",
   "metadata": {},
   "outputs": [
    {
     "name": "stdout",
     "output_type": "stream",
     "text": [
      "30\n",
      "-10\n",
      "shubhamPandey\n"
     ]
    }
   ],
   "source": [
    "# operator overloading\n",
    "class A:\n",
    "    def __init__(self,x):\n",
    "        self.x=x\n",
    "    def __add__(self,other):\n",
    "        return self.x+other.x\n",
    "    def __sub__(self,other):\n",
    "        return self.x - other.x\n",
    "\n",
    "obj1=A(10)\n",
    "obj2=A(20)\n",
    "print(obj1+obj2)\n",
    "print(obj1-obj2)\n",
    "objA=A('shubham')\n",
    "objB=A('Pandey')\n",
    "print(objA+objB)\n",
    "    \n",
    "        "
   ]
  },
  {
   "cell_type": "code",
   "execution_count": 15,
   "id": "2172cbcc",
   "metadata": {},
   "outputs": [
    {
     "ename": "TypeError",
     "evalue": "Can't instantiate abstract class computer with abstract method process",
     "output_type": "error",
     "traceback": [
      "\u001b[1;31m---------------------------------------------------------------------------\u001b[0m",
      "\u001b[1;31mTypeError\u001b[0m                                 Traceback (most recent call last)",
      "Input \u001b[1;32mIn [15]\u001b[0m, in \u001b[0;36m<cell line: 7>\u001b[1;34m()\u001b[0m\n\u001b[0;32m      4\u001b[0m     \u001b[38;5;129m@abstractmethod\u001b[39m\n\u001b[0;32m      5\u001b[0m     \u001b[38;5;28;01mdef\u001b[39;00m \u001b[38;5;21mprocess\u001b[39m(\u001b[38;5;28mself\u001b[39m):\n\u001b[0;32m      6\u001b[0m         \u001b[38;5;28;01mpass\u001b[39;00m\n\u001b[1;32m----> 7\u001b[0m com1\u001b[38;5;241m=\u001b[39m\u001b[43mcomputer\u001b[49m\u001b[43m(\u001b[49m\u001b[43m)\u001b[49m\n",
      "\u001b[1;31mTypeError\u001b[0m: Can't instantiate abstract class computer with abstract method process"
     ]
    }
   ],
   "source": [
    "# abstract method\n",
    "from abc import ABC,abstractmethod\n",
    "class computer(ABC):\n",
    "    @abstractmethod\n",
    "    def process(self):\n",
    "        pass\n",
    "com1=computer()    \n",
    "    "
   ]
  },
  {
   "cell_type": "code",
   "execution_count": 16,
   "id": "47fbd736",
   "metadata": {},
   "outputs": [
    {
     "name": "stdout",
     "output_type": "stream",
     "text": [
      "it's working \n"
     ]
    }
   ],
   "source": [
    "# abstract method\n",
    "from abc import ABC,abstractmethod\n",
    "class computer(ABC):\n",
    "    @abstractmethod\n",
    "    def process(self):\n",
    "        pass\n",
    "class Laptop(computer):\n",
    "     def process(self):\n",
    "        print(\"it's working \")\n",
    "        \n",
    "    \n",
    "com1=Laptop()\n",
    "com1.process()\n",
    "    "
   ]
  },
  {
   "cell_type": "code",
   "execution_count": 17,
   "id": "243d9b1b",
   "metadata": {},
   "outputs": [
    {
     "ename": "TypeError",
     "evalue": "Can't instantiate abstract class Laptop with abstract method process",
     "output_type": "error",
     "traceback": [
      "\u001b[1;31m---------------------------------------------------------------------------\u001b[0m",
      "\u001b[1;31mTypeError\u001b[0m                                 Traceback (most recent call last)",
      "Input \u001b[1;32mIn [17]\u001b[0m, in \u001b[0;36m<cell line: 10>\u001b[1;34m()\u001b[0m\n\u001b[0;32m      7\u001b[0m \u001b[38;5;28;01mclass\u001b[39;00m \u001b[38;5;21;01mLaptop\u001b[39;00m(computer):\n\u001b[0;32m      8\u001b[0m      \u001b[38;5;28;01mpass\u001b[39;00m\n\u001b[1;32m---> 10\u001b[0m com1\u001b[38;5;241m=\u001b[39m\u001b[43mLaptop\u001b[49m\u001b[43m(\u001b[49m\u001b[43m)\u001b[49m\n\u001b[0;32m     11\u001b[0m com1\u001b[38;5;241m.\u001b[39mprocess()\n",
      "\u001b[1;31mTypeError\u001b[0m: Can't instantiate abstract class Laptop with abstract method process"
     ]
    }
   ],
   "source": [
    "# abstract method\n",
    "from abc import ABC,abstractmethod\n",
    "class computer(ABC):\n",
    "    @abstractmethod\n",
    "    def process(self):\n",
    "        pass\n",
    "class Laptop(computer):\n",
    "     pass\n",
    "    \n",
    "com1=Laptop()\n",
    "com1.process()\n",
    "    "
   ]
  },
  {
   "cell_type": "code",
   "execution_count": 9,
   "id": "706bc297",
   "metadata": {},
   "outputs": [
    {
     "name": "stdout",
     "output_type": "stream",
     "text": [
      "connect to BSNL Network\n",
      "connect to Airtel Network\n"
     ]
    }
   ],
   "source": [
    "from abc import ABC,abstractmethod\n",
    "class Sim(ABC):\n",
    "    @abstractmethod\n",
    "    def connect(self):\n",
    "        pass\n",
    "class BSNLSim(Sim):\n",
    "    def connect(self):\n",
    "        print(\"connect to BSNL Network\")\n",
    "class AirtelSim(Sim):\n",
    "    def connect(self):\n",
    "        print(\"connect to Airtel Network\")\n",
    "class Mobile:\n",
    "    def insert(self,s):\n",
    "        s.connect()\n",
    "def main():\n",
    "    mobile1=Mobile()\n",
    "    sim1=BSNLSim()\n",
    "    sim2=AirtelSim()\n",
    "    mobile1.insert(sim1)\n",
    "    mobile1.insert(sim2)\n",
    "main()"
   ]
  },
  {
   "cell_type": "code",
   "execution_count": 3,
   "id": "60c5d159",
   "metadata": {},
   "outputs": [
    {
     "name": "stdout",
     "output_type": "stream",
     "text": [
      "Three sides\n",
      "Four sides\n",
      "five sides\n"
     ]
    }
   ],
   "source": [
    "from abc import ABC,abstractmethod\n",
    "class polygon:\n",
    "    @abstractmethod\n",
    "    def sides(self):\n",
    "        pass\n",
    "class Triangle(polygon):\n",
    "    def sides(self):\n",
    "        print(f'Three sides')\n",
    "class square(polygon):\n",
    "    def sides(self):\n",
    "        print(f'Four sides')\n",
    "class pentagon(polygon):\n",
    "    def sides(self):\n",
    "        print(f'five sides')\n",
    "obj1=Triangle()\n",
    "obj1.sides()\n",
    "obj2=square()\n",
    "obj2.sides()\n",
    "obj3=pentagon()\n",
    "obj3.sides()"
   ]
  },
  {
   "cell_type": "code",
   "execution_count": 4,
   "id": "cb5511b5",
   "metadata": {},
   "outputs": [
    {
     "name": "stdout",
     "output_type": "stream",
     "text": [
      "Car{name: 'Lamborghini'}\n"
     ]
    }
   ],
   "source": [
    "class Car:\n",
    "    def __init__(self, name):\n",
    "        self.name = name\n",
    "        \n",
    "    def __str__(self):\n",
    "        return 'Car{name: %r}'%self.name\n",
    "        \n",
    "\n",
    "obj = Car(\"Lamborghini\")\n",
    "print(str(obj))"
   ]
  },
  {
   "cell_type": "code",
   "execution_count": 2,
   "id": "ed4dad8f",
   "metadata": {},
   "outputs": [
    {
     "name": "stdout",
     "output_type": "stream",
     "text": [
      "object created\n",
      "<__main__.A object at 0x0000028BCE4F80A0>\n",
      "<__main__.A object at 0x0000028BCE4F80A0>\n",
      "<__main__.A object at 0x0000028BCE4F80A0>\n"
     ]
    }
   ],
   "source": [
    "# singleTon class\n",
    "def SingleTon(args):\n",
    "    d={}\n",
    "    def inner():\n",
    "        if args not in d:\n",
    "            d[args]=args()\n",
    "        return d[args]\n",
    "    return inner\n",
    "@SingleTon\n",
    "class A:\n",
    "    def __init__(self):\n",
    "        print('object created')\n",
    "        print(self)\n",
    "obj=A()\n",
    "print(obj)\n",
    "obj1=A()\n",
    "print(obj1)\n",
    "        "
   ]
  },
  {
   "cell_type": "code",
   "execution_count": 7,
   "id": "3cb7f993",
   "metadata": {},
   "outputs": [
    {
     "name": "stdout",
     "output_type": "stream",
     "text": [
      "Creating a new Person object...\n",
      "Initializing the person object...\n"
     ]
    }
   ],
   "source": [
    "# __new__\n",
    "class Person:\n",
    "    def __new__(cls, name):\n",
    "        print(f'Creating a new {cls.__name__} object...')\n",
    "        obj = object.__new__(cls)\n",
    "        return obj\n",
    "\n",
    "    def __init__(self, name):\n",
    "        print(f'Initializing the person object...')\n",
    "        self.name = name\n",
    "\n",
    "\n",
    "person = Person('John')        "
   ]
  },
  {
   "cell_type": "code",
   "execution_count": 8,
   "id": "c3af99bf",
   "metadata": {},
   "outputs": [
    {
     "name": "stdout",
     "output_type": "stream",
     "text": [
      "creating a new object\n"
     ]
    }
   ],
   "source": [
    "class B:\n",
    "    def __new__(cls):\n",
    "        print(f'creating a new object')\n",
    "        obj=object.__new__(cls)\n",
    "    def __init__(self):\n",
    "        print('x')\n",
    "b=B()        \n",
    "    "
   ]
  },
  {
   "cell_type": "code",
   "execution_count": 2,
   "id": "c7ac06f9",
   "metadata": {},
   "outputs": [
    {
     "name": "stdout",
     "output_type": "stream",
     "text": [
      "enter no of Tickets:140\n",
      "Ticket Booked successfully\n",
      "enter no of Tickets:45\n",
      "Ticket Booked successfully\n",
      "enter no of Tickets:100\n",
      "Tickets not Available\n"
     ]
    }
   ],
   "source": [
    "# BookMyShow\n",
    "def singleTon(args):\n",
    "    d={}\n",
    "    def inner():\n",
    "        if args not in d:\n",
    "            d[args]=args()\n",
    "        return d[args]\n",
    "    return inner\n",
    "@singleTon\n",
    "class BookMyShow:\n",
    "    def __init__(self):\n",
    "        self.Tickets=240\n",
    "    def movie(self,n):\n",
    "        if self.Tickets>=n:\n",
    "            self.Tickets-=n\n",
    "            print('Ticket Booked successfully')\n",
    "        else:\n",
    "            print('Tickets not Available')\n",
    "def Booking():\n",
    "    obj=BookMyShow()\n",
    "    obj.movie(int(input('enter no of Tickets:')))\n",
    "Booking()\n",
    "Booking()\n",
    "Booking()"
   ]
  },
  {
   "cell_type": "code",
   "execution_count": 1,
   "id": "c9976887",
   "metadata": {},
   "outputs": [
    {
     "name": "stdout",
     "output_type": "stream",
     "text": [
      "Jaunpur 222145 UP\n",
      "varanasi 222145 Bihar\n"
     ]
    }
   ],
   "source": [
    "# aggregation\n",
    "class Customer():\n",
    "    def __init__(self,name,gender,address):\n",
    "        self.name=name\n",
    "        self.gender=gender\n",
    "        self.address=address\n",
    "    def print_data(self):\n",
    "        print(self.address.get_city(),self.address.pin,self.address.state)\n",
    "    \n",
    "    def edit_customer_detail(self,new_name,new_city,new_pin,new_state):\n",
    "        self.name=new_name\n",
    "        self.address.edit_address(new_city,new_pin,new_state)\n",
    "\n",
    "        \n",
    "        \n",
    "        \n",
    "        \n",
    "# \n",
    "class address:\n",
    "    def __init__(self,city,pin,state):\n",
    "        self.__city=city\n",
    "        self.pin=pin\n",
    "        self.state=state\n",
    "    def get_city(self):\n",
    "        return self.__city\n",
    "    \n",
    "    \n",
    "    def edit_address(self,new_city,new_pin,new_state):\n",
    "        self.__city=new_city\n",
    "        self.pin=new_pin\n",
    "        self.state=new_state\n",
    "        \n",
    "        \n",
    "    \n",
    "    \n",
    "    \n",
    "    \n",
    "    \n",
    "    \n",
    "add1=address('Jaunpur',222145,'UP')\n",
    "c1=Customer('Shubham','Male',add1)\n",
    "c1.print_data()\n",
    "c1.edit_customer_detail('Ankit','varanasi',222145,'Bihar')\n",
    "c1.print_data()\n",
    "\n",
    "    \n",
    "        "
   ]
  },
  {
   "cell_type": "code",
   "execution_count": null,
   "id": "02b199b7",
   "metadata": {},
   "outputs": [],
   "source": []
  }
 ],
 "metadata": {
  "kernelspec": {
   "display_name": "Python 3 (ipykernel)",
   "language": "python",
   "name": "python3"
  },
  "language_info": {
   "codemirror_mode": {
    "name": "ipython",
    "version": 3
   },
   "file_extension": ".py",
   "mimetype": "text/x-python",
   "name": "python",
   "nbconvert_exporter": "python",
   "pygments_lexer": "ipython3",
   "version": "3.9.12"
  }
 },
 "nbformat": 4,
 "nbformat_minor": 5
}
