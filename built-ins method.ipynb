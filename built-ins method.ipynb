{
 "cells": [
  {
   "cell_type": "markdown",
   "id": "45b50e70",
   "metadata": {},
   "source": [
    "python abs() method\n",
    "syntax: abs(num)\n",
    "\n",
    "num: An int, float, or complex number."
   ]
  },
  {
   "cell_type": "code",
   "execution_count": 1,
   "id": "c0abf5bb",
   "metadata": {},
   "outputs": [
    {
     "name": "stdout",
     "output_type": "stream",
     "text": [
      "Absolute value of -10 is:  10\n",
      "Absolute value of +10 is:  10\n",
      "Absolute value of -10.33 is:  10.33\n",
      "Absolute value of 4 - 3j is:  5.0\n"
     ]
    }
   ],
   "source": [
    "print(\"Absolute value of -10 is: \",abs(-10))\n",
    "print(\"Absolute value of +10 is: \", abs(+10))\n",
    "print(\"Absolute value of -10.33 is: \", abs(-10.33))\n",
    "print(\"Absolute value of 4 - 3j is: \", abs(4 - 3j))"
   ]
  },
  {
   "cell_type": "markdown",
   "id": "560d5760",
   "metadata": {},
   "source": [
    "# python all() method\n",
    "\n",
    "syntax:all(iterabls)\n",
    "\n",
    "#\n",
    "iterable: A list, tuple, string, set, or dictionary object."
   ]
  },
  {
   "cell_type": "code",
   "execution_count": 3,
   "id": "8af8004b",
   "metadata": {},
   "outputs": [
    {
     "name": "stdout",
     "output_type": "stream",
     "text": [
      "True\n",
      "True\n",
      "False\n",
      "False\n"
     ]
    }
   ],
   "source": [
    "lst = []\n",
    "print(all(lst)) # Returns True for empty list\n",
    "\n",
    "nums = [1, 2, 3, -4, -5]\n",
    "print(all(nums)) # Returns True\n",
    "\n",
    "nums = [0, 1, 2, 3]\n",
    "print(all(nums)) # Returns False because of 0\n",
    "\n",
    "data = [1, 'Phone', 12.5, 5, False]\n",
    "print(all(data)) # Returns False because of False"
   ]
  },
  {
   "cell_type": "code",
   "execution_count": 4,
   "id": "cd240188",
   "metadata": {},
   "outputs": [
    {
     "name": "stdout",
     "output_type": "stream",
     "text": [
      "True\n",
      "True\n",
      "True\n"
     ]
    }
   ],
   "source": [
    "# all with strings\n",
    "print(all('Python'))\n",
    "print(all(''))\n",
    "print(all('False'))"
   ]
  },
  {
   "cell_type": "code",
   "execution_count": 5,
   "id": "ec4b00b3",
   "metadata": {},
   "outputs": [
    {
     "name": "stdout",
     "output_type": "stream",
     "text": [
      "True\n",
      "False\n"
     ]
    }
   ],
   "source": [
    "# all with dictionary\n",
    "numsdict = {1:'One', 2:'Two', 3:'Three'}\n",
    "print(all(numsdict)) # Returns True\n",
    "\n",
    "numsdict = {0:'zero', 1:'One', 2:'Two', 3:'Three'}\n",
    "print(all(numsdict)) # Returns False for 0"
   ]
  },
  {
   "cell_type": "markdown",
   "id": "37bf885a",
   "metadata": {},
   "source": [
    "# Python any() Method"
   ]
  },
  {
   "cell_type": "markdown",
   "id": "cb417c4a",
   "metadata": {},
   "source": [
    "# syntax: any(iterable)\n",
    "\n",
    "iterable: An iterable (list, tuple, string, set, dictionary)."
   ]
  },
  {
   "cell_type": "code",
   "execution_count": 6,
   "id": "ec2243c4",
   "metadata": {},
   "outputs": [
    {
     "name": "stdout",
     "output_type": "stream",
     "text": [
      "False\n",
      "False\n",
      "True\n",
      "False\n",
      "True\n"
     ]
    }
   ],
   "source": [
    "lst = []\n",
    "print(any(lst)) # returns False\n",
    "\n",
    "nums = [0]\n",
    "print(any(nums)) # returns False\n",
    "\n",
    "nums = [0, 1, 2, 3, 4, 5]\n",
    "print(any(nums)) # returns True\n",
    "\n",
    "nums = [0, False]\n",
    "print(any(nums)) # returns False\n",
    "\n",
    "nums = [0, 1, False]\n",
    "print(any(nums)) # returns True"
   ]
  },
  {
   "cell_type": "code",
   "execution_count": 7,
   "id": "ea2e2438",
   "metadata": {},
   "outputs": [
    {
     "name": "stdout",
     "output_type": "stream",
     "text": [
      "True\n",
      "False\n"
     ]
    }
   ],
   "source": [
    "# any with strings\n",
    "print(any('Python'))\n",
    "print(any(''))"
   ]
  },
  {
   "cell_type": "markdown",
   "id": "ef753a20",
   "metadata": {},
   "source": [
    "# Python ascii() Method\n",
    "ascii(object)"
   ]
  },
  {
   "cell_type": "code",
   "execution_count": 8,
   "id": "ca13d825",
   "metadata": {},
   "outputs": [
    {
     "name": "stdout",
     "output_type": "stream",
     "text": [
      "'this\\nis a new line.'\n"
     ]
    }
   ],
   "source": [
    "mystr='''this\n",
    "is a new line.'''\n",
    "\n",
    "print(ascii(mystr))"
   ]
  },
  {
   "cell_type": "code",
   "execution_count": 9,
   "id": "60cd31be",
   "metadata": {},
   "outputs": [
    {
     "name": "stdout",
     "output_type": "stream",
     "text": [
      "'A string in python.'\n",
      "'A string in pyth\\xd8n.'\n"
     ]
    }
   ],
   "source": [
    "NormalText = \"A string in python.\"\n",
    "SpecialText = \"A string in pythØn.\"\n",
    "\n",
    "print(ascii(NormalText))\n",
    "print(ascii(SpecialText))"
   ]
  },
  {
   "cell_type": "code",
   "execution_count": 10,
   "id": "28f8c437",
   "metadata": {},
   "outputs": [
    {
     "name": "stdout",
     "output_type": "stream",
     "text": [
      "'Pyth\\xd8n'\n",
      "PythØn\n"
     ]
    }
   ],
   "source": [
    "print(ascii('PythØn'))\n",
    "print('Pyth\\xd8n')"
   ]
  },
  {
   "cell_type": "code",
   "execution_count": 11,
   "id": "395d6096",
   "metadata": {},
   "outputs": [
    {
     "name": "stdout",
     "output_type": "stream",
     "text": [
      "helloØ\n"
     ]
    }
   ],
   "source": [
    "print('hello\\xd8')"
   ]
  },
  {
   "cell_type": "markdown",
   "id": "ac400084",
   "metadata": {},
   "source": [
    "# Python bin() Method"
   ]
  },
  {
   "cell_type": "code",
   "execution_count": 12,
   "id": "d32397b5",
   "metadata": {},
   "outputs": [
    {
     "name": "stdout",
     "output_type": "stream",
     "text": [
      "Binary equivalent of 5 is:  0b101\n",
      "Binary equivalent of 10 is:  0b1010\n"
     ]
    }
   ],
   "source": [
    "print(\"Binary equivalent of 5 is: \", bin(5))\n",
    "print(\"Binary equivalent of 10 is: \", bin(10))"
   ]
  },
  {
   "cell_type": "code",
   "execution_count": 13,
   "id": "581bc121",
   "metadata": {},
   "outputs": [
    {
     "name": "stdout",
     "output_type": "stream",
     "text": [
      "0b1111\n"
     ]
    }
   ],
   "source": [
    "class Calc:\n",
    "    lop=0\n",
    "    rop=0\n",
    "    def __index__(self):\n",
    "        return self.lop + self.rop;\n",
    "        \n",
    "c = Calc()\n",
    "c.lop=8\n",
    "c.rop=7\n",
    "print(bin(c))"
   ]
  },
  {
   "cell_type": "code",
   "execution_count": 14,
   "id": "80a2032a",
   "metadata": {},
   "outputs": [
    {
     "ename": "TypeError",
     "evalue": "'str' object cannot be interpreted as an integer",
     "output_type": "error",
     "traceback": [
      "\u001b[1;31m---------------------------------------------------------------------------\u001b[0m",
      "\u001b[1;31mTypeError\u001b[0m                                 Traceback (most recent call last)",
      "Input \u001b[1;32mIn [14]\u001b[0m, in \u001b[0;36m<cell line: 2>\u001b[1;34m()\u001b[0m\n\u001b[0;32m      1\u001b[0m \u001b[38;5;66;03m# If the arguement is of any other data type is passed, the TypeError exception is thrown.\u001b[39;00m\n\u001b[1;32m----> 2\u001b[0m \u001b[38;5;28mprint\u001b[39m(\u001b[38;5;124m\"\u001b[39m\u001b[38;5;124mBinary equivalent of A is: \u001b[39m\u001b[38;5;124m\"\u001b[39m, \u001b[38;5;28;43mbin\u001b[39;49m\u001b[43m(\u001b[49m\u001b[38;5;124;43m'\u001b[39;49m\u001b[38;5;124;43mA\u001b[39;49m\u001b[38;5;124;43m'\u001b[39;49m\u001b[43m)\u001b[49m)\n",
      "\u001b[1;31mTypeError\u001b[0m: 'str' object cannot be interpreted as an integer"
     ]
    }
   ],
   "source": [
    "# If the arguement is of any other data type is passed, the TypeError exception is thrown.\n",
    "print(\"Binary equivalent of A is: \", bin('A'))"
   ]
  },
  {
   "cell_type": "markdown",
   "id": "82c27825",
   "metadata": {},
   "source": [
    "# Python bool() Method"
   ]
  },
  {
   "cell_type": "code",
   "execution_count": 19,
   "id": "9619f3ad",
   "metadata": {},
   "outputs": [
    {
     "name": "stdout",
     "output_type": "stream",
     "text": [
      "Boolean of [0] is:  True\n",
      "Boolean of 0 is:  False\n",
      "Boolean of 1 is:  True\n",
      "Boolean of -1 is:  True\n",
      "Boolean of None is:  False\n",
      "Boolean of True is:  True\n",
      "Boolean of False is:  False\n",
      "Boolean of a string is:  True\n"
     ]
    }
   ],
   "source": [
    "value = [0]\n",
    "print(\"Boolean of [0] is: \", bool(value))\n",
    "\n",
    "value = 0\n",
    "print(\"Boolean of 0 is: \", bool(value))\n",
    "\n",
    "value = 1\n",
    "print(\"Boolean of 1 is: \", bool(value))\n",
    "\n",
    "value = -1\n",
    "print(\"Boolean of -1 is: \", bool(value))\n",
    "\n",
    "value = None\n",
    "print(\"Boolean of None is: \",bool(value))\n",
    "\n",
    "value = True\n",
    "print(\"Boolean of True is: \", bool(value))\n",
    "\n",
    "value = False\n",
    "print(\"Boolean of False is: \", bool(value))\n",
    "\n",
    "value = 'a string'\n",
    "print(\"Boolean of a string is: \", bool(value))"
   ]
  },
  {
   "cell_type": "markdown",
   "id": "d72a4e92",
   "metadata": {},
   "source": [
    "# Python bytearray() Method\n",
    "bytearray(source, encoding, errors)"
   ]
  },
  {
   "cell_type": "code",
   "execution_count": 16,
   "id": "1cf7b7cd",
   "metadata": {},
   "outputs": [
    {
     "ename": "TypeError",
     "evalue": "string argument without an encoding",
     "output_type": "error",
     "traceback": [
      "\u001b[1;31m---------------------------------------------------------------------------\u001b[0m",
      "\u001b[1;31mTypeError\u001b[0m                                 Traceback (most recent call last)",
      "Input \u001b[1;32mIn [16]\u001b[0m, in \u001b[0;36m<cell line: 2>\u001b[1;34m()\u001b[0m\n\u001b[0;32m      1\u001b[0m \u001b[38;5;66;03m# If the source argument is a string and no encoding method is specified, a TypeError exception is returned.\u001b[39;00m\n\u001b[1;32m----> 2\u001b[0m \u001b[38;5;28mprint\u001b[39m(\u001b[38;5;28;43mbytearray\u001b[39;49m\u001b[43m(\u001b[49m\u001b[38;5;124;43m'\u001b[39;49m\u001b[38;5;124;43mHello World\u001b[39;49m\u001b[38;5;124;43m'\u001b[39;49m\u001b[43m)\u001b[49m)\n",
      "\u001b[1;31mTypeError\u001b[0m: string argument without an encoding"
     ]
    }
   ],
   "source": [
    "# If the source argument is a string and no encoding method is specified, a TypeError exception is returned.\n",
    "print(bytearray('Hello World'))\n"
   ]
  },
  {
   "cell_type": "code",
   "execution_count": 17,
   "id": "8e8ce089",
   "metadata": {},
   "outputs": [
    {
     "name": "stdout",
     "output_type": "stream",
     "text": [
      "bytearray(b'Hello World')\n"
     ]
    }
   ],
   "source": [
    "print(bytearray('Hello World','utf-8'))"
   ]
  },
  {
   "cell_type": "code",
   "execution_count": 18,
   "id": "c9a47b2e",
   "metadata": {},
   "outputs": [
    {
     "name": "stdout",
     "output_type": "stream",
     "text": [
      "bytearray(b'\\x01\\x02\\x03\\x04\\x05')\n"
     ]
    }
   ],
   "source": [
    "# iterable to bytearray\n",
    "nums = [1, 2, 3, 4, 5]\n",
    "print(bytearray(nums))"
   ]
  },
  {
   "cell_type": "markdown",
   "id": "09d12752",
   "metadata": {},
   "source": [
    "# Python bytes() Method\n",
    "bytes(source, encoding, errors)"
   ]
  },
  {
   "cell_type": "code",
   "execution_count": 20,
   "id": "80334ed3",
   "metadata": {},
   "outputs": [
    {
     "name": "stdout",
     "output_type": "stream",
     "text": [
      "b'\\x00'\n",
      "b'\\x00\\x00'\n",
      "b'\\x00\\x00\\x00'\n"
     ]
    }
   ],
   "source": [
    "# Convert Int to Bytes\n",
    "print(bytes(1)) \n",
    "print(bytes(2)) \n",
    "print(bytes(3)) "
   ]
  },
  {
   "cell_type": "code",
   "execution_count": 21,
   "id": "868890c9",
   "metadata": {},
   "outputs": [
    {
     "ename": "TypeError",
     "evalue": "string argument without an encoding",
     "output_type": "error",
     "traceback": [
      "\u001b[1;31m---------------------------------------------------------------------------\u001b[0m",
      "\u001b[1;31mTypeError\u001b[0m                                 Traceback (most recent call last)",
      "Input \u001b[1;32mIn [21]\u001b[0m, in \u001b[0;36m<cell line: 1>\u001b[1;34m()\u001b[0m\n\u001b[1;32m----> 1\u001b[0m \u001b[38;5;28mprint\u001b[39m(\u001b[38;5;28;43mbytes\u001b[39;49m\u001b[43m(\u001b[49m\u001b[38;5;124;43m'\u001b[39;49m\u001b[38;5;124;43mHello\u001b[39;49m\u001b[38;5;124;43m'\u001b[39;49m\u001b[43m)\u001b[49m)\n",
      "\u001b[1;31mTypeError\u001b[0m: string argument without an encoding"
     ]
    }
   ],
   "source": [
    "print(bytes('Hello'))"
   ]
  },
  {
   "cell_type": "code",
   "execution_count": 22,
   "id": "bf193933",
   "metadata": {},
   "outputs": [
    {
     "name": "stdout",
     "output_type": "stream",
     "text": [
      "b'Hello World'\n"
     ]
    }
   ],
   "source": [
    "# convert string to bytes\n",
    "print(bytes('Hello World','utf-8'))"
   ]
  },
  {
   "cell_type": "code",
   "execution_count": 23,
   "id": "23410ead",
   "metadata": {},
   "outputs": [
    {
     "name": "stdout",
     "output_type": "stream",
     "text": [
      "b'\\x01\\x02\\x03\\x04\\x05'\n"
     ]
    }
   ],
   "source": [
    "# convert iterable to bytes\n",
    "nums = [1, 2, 3, 4, 5]\n",
    "print(bytes(nums))"
   ]
  },
  {
   "cell_type": "markdown",
   "id": "a365ea73",
   "metadata": {},
   "source": [
    " # Python callable() Method"
   ]
  },
  {
   "cell_type": "code",
   "execution_count": 2,
   "id": "269d9e85",
   "metadata": {},
   "outputs": [
    {
     "name": "stdout",
     "output_type": "stream",
     "text": [
      "Is str callable?  True\n",
      "Is len callable?  True\n",
      "Is int callable True\n",
      "Is list callable?  True\n",
      "Is variable callable?  False\n"
     ]
    }
   ],
   "source": [
    "print(\"Is str callable? \", callable(str)) # str class\n",
    "print(\"Is len callable? \", callable(len))# len function\n",
    "print('Is int callable',callable(int))\n",
    "print(\"Is list callable? \", callable(list)) # list class\n",
    "\n",
    "num=10\n",
    "print(\"Is variable callable? \", callable(num)) "
   ]
  },
  {
   "cell_type": "code",
   "execution_count": 3,
   "id": "32385bd6",
   "metadata": {},
   "outputs": [
    {
     "name": "stdout",
     "output_type": "stream",
     "text": [
      "Is student class callable?  True\n",
      "Is student.greet() callable?  True\n",
      "Is student instance callable?  False\n"
     ]
    }
   ],
   "source": [
    "# The callable() method works with user-defined classes and functions\n",
    "class student:\n",
    "    def greet(self):\n",
    "        print(\"Hello there\")\n",
    "\n",
    "std = student()\n",
    "print(\"Is student class callable? \",callable(student))\n",
    "print(\"Is student.greet() callable? \",callable(std.greet))\n",
    "print(\"Is student instance callable? \",callable(std))\n"
   ]
  },
  {
   "cell_type": "code",
   "execution_count": 4,
   "id": "ed37d79d",
   "metadata": {},
   "outputs": [
    {
     "name": "stdout",
     "output_type": "stream",
     "text": [
      "Is student instance callable?  True\n",
      "Hello, I am a student.\n",
      "None\n"
     ]
    }
   ],
   "source": [
    "# make instance callable\n",
    "class student:\n",
    "    def greet(self):\n",
    "        print(\"Hello there\")\n",
    "        \n",
    "    def __call__(self):\n",
    "        print(\"Hello, I am a student.\")\n",
    "\n",
    "std = student()\n",
    "print(\"Is student instance callable? \", callable(std))\n",
    "print(std())"
   ]
  },
  {
   "cell_type": "markdown",
   "id": "d89285d0",
   "metadata": {},
   "source": [
    "# Python chr() Method\n",
    "chr(integer)\n",
    "integer: Required. An integer from 0 through 1,114,111 (0x10FFFF in base 16)."
   ]
  },
  {
   "cell_type": "code",
   "execution_count": 5,
   "id": "f63694ae",
   "metadata": {},
   "outputs": [
    {
     "name": "stdout",
     "output_type": "stream",
     "text": [
      "The character value of 65 is:  A\n",
      "The character value of 90 is:  Z\n",
      "The character value of 97 is:  a\n",
      "The character value of 122 is:  z\n",
      "The character value of 1200 is:  Ұ\n"
     ]
    }
   ],
   "source": [
    "print(\"The character value of 65 is: \", chr(65))\n",
    "print(\"The character value of 90 is: \", chr(90))\n",
    "print(\"The character value of 97 is: \", chr(97))\n",
    "print(\"The character value of 122 is: \", chr(122))\n",
    "print(\"The character value of 1200 is: \", chr(1200))"
   ]
  },
  {
   "cell_type": "markdown",
   "id": "b47ac74d",
   "metadata": {},
   "source": [
    "# Python classmethod() Method"
   ]
  },
  {
   "cell_type": "code",
   "execution_count": 7,
   "id": "c16bb044",
   "metadata": {},
   "outputs": [
    {
     "name": "stdout",
     "output_type": "stream",
     "text": [
      "The student's name is  John\n"
     ]
    }
   ],
   "source": [
    "class student:\n",
    "    name = 'John'\n",
    "    def show_name(self):\n",
    "        print(\"The student's name is \",self.name)\n",
    "\n",
    "student.show_name = classmethod(student.show_name)\n",
    "student.show_name()"
   ]
  },
  {
   "cell_type": "markdown",
   "id": "3aab9f4f",
   "metadata": {},
   "source": [
    "# Python complex() method\n",
    "# syntax:\n",
    "               complex(real, imaginary)\n",
    "                complex(string)"
   ]
  },
  {
   "cell_type": "code",
   "execution_count": 8,
   "id": "fea04035",
   "metadata": {},
   "outputs": [
    {
     "name": "stdout",
     "output_type": "stream",
     "text": [
      "0j\n",
      "<class 'complex'>\n",
      "(2+5j)\n",
      "(5+0j)\n",
      "(-5+0j)\n"
     ]
    }
   ],
   "source": [
    "cnum = complex()\n",
    "print(cnum)\n",
    "print(type(cnum)) # complex\n",
    "\n",
    "cnum = complex(2, 5)\n",
    "print(cnum)\n",
    "\n",
    "cnum = complex(5)\n",
    "print(cnum)\n",
    "\n",
    "cnum = complex(-5)\n",
    "print(cnum)\n"
   ]
  },
  {
   "cell_type": "code",
   "execution_count": 9,
   "id": "8f6525da",
   "metadata": {},
   "outputs": [
    {
     "name": "stdout",
     "output_type": "stream",
     "text": [
      "(5-3j)\n",
      "(3+1j)\n",
      "(3+1j)\n",
      "(3+1j)\n",
      "(3+1j)\n"
     ]
    }
   ],
   "source": [
    "cnum = complex('5-3j')\n",
    "print(cnum)\n",
    "\n",
    "cnum = complex('3+j')\n",
    "print(cnum)\n",
    "\n",
    "complex('3')\n",
    "print(cnum)\n",
    "\n",
    "complex('+j')\n",
    "print(cnum)\n",
    "\n",
    "complex('-j')\n",
    "print(cnum)\n"
   ]
  },
  {
   "cell_type": "markdown",
   "id": "324da38a",
   "metadata": {},
   "source": [
    " # Python delattr() Method"
   ]
  },
  {
   "cell_type": "code",
   "execution_count": 19,
   "id": "8ff2ab44",
   "metadata": {},
   "outputs": [
    {
     "name": "stdout",
     "output_type": "stream",
     "text": [
      "['__class__', '__delattr__', '__dict__', '__dir__', '__doc__', '__eq__', '__format__', '__ge__', '__getattribute__', '__gt__', '__hash__', '__init__', '__init_subclass__', '__le__', '__lt__', '__module__', '__ne__', '__new__', '__reduce__', '__reduce_ex__', '__repr__', '__setattr__', '__sizeof__', '__str__', '__subclasshook__', '__weakref__', 'name']\n",
      "After the delattr() method is called:\n",
      "['__class__', '__delattr__', '__dict__', '__dir__', '__doc__', '__eq__', '__format__', '__ge__', '__getattribute__', '__gt__', '__hash__', '__init__', '__init_subclass__', '__le__', '__lt__', '__module__', '__ne__', '__new__', '__reduce__', '__reduce_ex__', '__repr__', '__setattr__', '__sizeof__', '__str__', '__subclasshook__', '__weakref__', 'name']\n"
     ]
    }
   ],
   "source": [
    "class student:\n",
    "    name = 'John'\n",
    "    age = 25\n",
    "   \n",
    "\n",
    "    print(dir(student))\n",
    "\n",
    "delattr(student, 'age')\n",
    "\n",
    "print(\"After the delattr() method is called:\")\n",
    "print(dir(student))\n"
   ]
  },
  {
   "cell_type": "code",
   "execution_count": 20,
   "id": "1538bf8c",
   "metadata": {},
   "outputs": [
    {
     "name": "stdout",
     "output_type": "stream",
     "text": [
      "['__class__', '__delattr__', '__dict__', '__dir__', '__doc__', '__eq__', '__format__', '__ge__', '__getattribute__', '__gt__', '__hash__', '__init__', '__init_subclass__', '__le__', '__lt__', '__module__', '__ne__', '__new__', '__reduce__', '__reduce_ex__', '__repr__', '__setattr__', '__sizeof__', '__str__', '__subclasshook__', '__weakref__', 'name']\n"
     ]
    }
   ],
   "source": [
    "# the del keyword can be used to delete the attribute instead of the delattr()\n",
    "class student:\n",
    "    name = 'John'\n",
    "    age = 25\n",
    "\n",
    "del student.age\n",
    "print(dir(student))"
   ]
  },
  {
   "cell_type": "markdown",
   "id": "4ebfee32",
   "metadata": {},
   "source": [
    "# Python dir() Method\n",
    "The dir() method returns a list of valid attributes of the specified object. If no argument passed, it returns the list of names in the current local scope."
   ]
  },
  {
   "cell_type": "code",
   "execution_count": 21,
   "id": "15180764",
   "metadata": {},
   "outputs": [
    {
     "name": "stdout",
     "output_type": "stream",
     "text": [
      "Attributes in current scope: ['In', 'Out', '_', '__', '___', '__builtin__', '__builtins__', '__doc__', '__loader__', '__name__', '__package__', '__spec__', '_dh', '_i', '_i1', '_i10', '_i11', '_i12', '_i13', '_i14', '_i15', '_i17', '_i19', '_i2', '_i20', '_i21', '_i3', '_i4', '_i5', '_i6', '_i7', '_i8', '_i9', '_ih', '_ii', '_iii', '_oh', 'cnum', 'exit', 'get_ipython', 'num', 'quit', 'std', 'student']\n",
      "int Attributes:  ['__abs__', '__add__', '__and__', '__bool__', '__ceil__', '__class__', '__delattr__', '__dir__', '__divmod__', '__doc__', '__eq__', '__float__', '__floor__', '__floordiv__', '__format__', '__ge__', '__getattribute__', '__getnewargs__', '__gt__', '__hash__', '__index__', '__init__', '__init_subclass__', '__int__', '__invert__', '__le__', '__lshift__', '__lt__', '__mod__', '__mul__', '__ne__', '__neg__', '__new__', '__or__', '__pos__', '__pow__', '__radd__', '__rand__', '__rdivmod__', '__reduce__', '__reduce_ex__', '__repr__', '__rfloordiv__', '__rlshift__', '__rmod__', '__rmul__', '__ror__', '__round__', '__rpow__', '__rrshift__', '__rshift__', '__rsub__', '__rtruediv__', '__rxor__', '__setattr__', '__sizeof__', '__str__', '__sub__', '__subclasshook__', '__truediv__', '__trunc__', '__xor__', 'as_integer_ratio', 'bit_length', 'conjugate', 'denominator', 'from_bytes', 'imag', 'numerator', 'real', 'to_bytes']\n",
      "str Attributes:  ['__add__', '__class__', '__contains__', '__delattr__', '__dir__', '__doc__', '__eq__', '__format__', '__ge__', '__getattribute__', '__getitem__', '__getnewargs__', '__gt__', '__hash__', '__init__', '__init_subclass__', '__iter__', '__le__', '__len__', '__lt__', '__mod__', '__mul__', '__ne__', '__new__', '__reduce__', '__reduce_ex__', '__repr__', '__rmod__', '__rmul__', '__setattr__', '__sizeof__', '__str__', '__subclasshook__', 'capitalize', 'casefold', 'center', 'count', 'encode', 'endswith', 'expandtabs', 'find', 'format', 'format_map', 'index', 'isalnum', 'isalpha', 'isascii', 'isdecimal', 'isdigit', 'isidentifier', 'islower', 'isnumeric', 'isprintable', 'isspace', 'istitle', 'isupper', 'join', 'ljust', 'lower', 'lstrip', 'maketrans', 'partition', 'removeprefix', 'removesuffix', 'replace', 'rfind', 'rindex', 'rjust', 'rpartition', 'rsplit', 'rstrip', 'split', 'splitlines', 'startswith', 'strip', 'swapcase', 'title', 'translate', 'upper', 'zfill']\n"
     ]
    }
   ],
   "source": [
    "print('Attributes in current scope:', dir())# no parameter\n",
    "print('int Attributes: ', dir(int)) \n",
    "print('str Attributes: ', dir(str)) "
   ]
  },
  {
   "cell_type": "markdown",
   "id": "c0440908",
   "metadata": {},
   "source": [
    "# Python divmod() Method"
   ]
  },
  {
   "cell_type": "markdown",
   "id": "41783084",
   "metadata": {},
   "source": [
    "# \n",
    "SYNTAX:divmod(number1, number2)\n",
    "parameters:\n",
    "           1.number1: Numerator.\n",
    "           2.number2: Denominator."
   ]
  },
  {
   "cell_type": "code",
   "execution_count": 1,
   "id": "6667d881",
   "metadata": {},
   "outputs": [
    {
     "name": "stdout",
     "output_type": "stream",
     "text": [
      "Divmod of (6,2) is:  (3, 0)\n",
      "Divmod of (8,3) is:  (2, 2)\n",
      "Divmod of (7,2) is:  (3, 1)\n",
      "Divmod of (3,10) is:  (0, 3)\n"
     ]
    }
   ],
   "source": [
    "print(\"Divmod of (6,2) is: \", divmod(6,2))\n",
    "print(\"Divmod of (8,3) is: \", divmod(8,3))\n",
    "print(\"Divmod of (7,2) is: \", divmod(7,2))\n",
    "print(\"Divmod of (3,10) is: \", divmod(3,19))"
   ]
  },
  {
   "cell_type": "code",
   "execution_count": 2,
   "id": "29fc110f",
   "metadata": {},
   "outputs": [
    {
     "name": "stdout",
     "output_type": "stream",
     "text": [
      "Divmod of (6.5, 2) is:  (3.0, 0.5)\n",
      "Divmod of (6, 2.5) is:  (2.0, 1.0)\n"
     ]
    }
   ],
   "source": [
    "# If you pass floating point numbers, the result would be (math.floor(number1 / number2), number1 % number2)\n",
    "print(\"Divmod of (6.5, 2) is: \", divmod(6.5, 2))\n",
    "print(\"Divmod of (6, 2.5) is: \", divmod(6, 2.5))"
   ]
  },
  {
   "cell_type": "code",
   "execution_count": 3,
   "id": "9a348430",
   "metadata": {},
   "outputs": [
    {
     "ename": "TypeError",
     "evalue": "can't take floor or mod of complex number.",
     "output_type": "error",
     "traceback": [
      "\u001b[1;31m---------------------------------------------------------------------------\u001b[0m",
      "\u001b[1;31mTypeError\u001b[0m                                 Traceback (most recent call last)",
      "Input \u001b[1;32mIn [3]\u001b[0m, in \u001b[0;36m<cell line: 2>\u001b[1;34m()\u001b[0m\n\u001b[0;32m      1\u001b[0m \u001b[38;5;66;03m# Passing complex numbers would throw an error.\u001b[39;00m\n\u001b[1;32m----> 2\u001b[0m \u001b[38;5;28mprint\u001b[39m(\u001b[38;5;124m\"\u001b[39m\u001b[38;5;124mDivmod of (6.5, 2) is: \u001b[39m\u001b[38;5;124m\"\u001b[39m, \u001b[38;5;28;43mdivmod\u001b[39;49m\u001b[43m(\u001b[49m\u001b[38;5;241;43m3\u001b[39;49m\u001b[43m \u001b[49m\u001b[38;5;241;43m+\u001b[39;49m\u001b[43m \u001b[49m\u001b[38;5;241;43m2\u001b[39;49m\u001b[43mj\u001b[49m\u001b[43m,\u001b[49m\u001b[43m \u001b[49m\u001b[38;5;241;43m6\u001b[39;49m\u001b[43m \u001b[49m\u001b[38;5;241;43m+\u001b[39;49m\u001b[43m \u001b[49m\u001b[38;5;241;43m8\u001b[39;49m\u001b[43mj\u001b[49m\u001b[43m)\u001b[49m)\n",
      "\u001b[1;31mTypeError\u001b[0m: can't take floor or mod of complex number."
     ]
    }
   ],
   "source": [
    "# Passing complex numbers would throw an error.\n",
    "print(\"Divmod of (6.5, 2) is: \", divmod(3 + 2j, 6 + 8j))"
   ]
  },
  {
   "cell_type": "markdown",
   "id": "086d36d0",
   "metadata": {},
   "source": [
    "# Python enumerate() Method\n",
    "enumerate(iterable, start=0)"
   ]
  },
  {
   "cell_type": "code",
   "execution_count": 4,
   "id": "6789304a",
   "metadata": {},
   "outputs": [
    {
     "name": "stdout",
     "output_type": "stream",
     "text": [
      "<class 'enumerate'>\n",
      "[(0, 'Delhi'), (1, 'Chicago'), (2, 'New York')]\n"
     ]
    }
   ],
   "source": [
    "cities = ['Delhi','Chicago','New York']\n",
    "enum = enumerate(cities) \n",
    "print(type(enum))\n",
    "\n",
    "enumlist = list(enum)\n",
    "print(enumlist)"
   ]
  },
  {
   "cell_type": "code",
   "execution_count": 5,
   "id": "cd874392",
   "metadata": {},
   "outputs": [
    {
     "name": "stdout",
     "output_type": "stream",
     "text": [
      "(0, 'Delhi')\n",
      "(1, 'Chicago')\n",
      "(2, 'New York')\n"
     ]
    }
   ],
   "source": [
    "cities = ['Delhi','Chicago','New York']\n",
    "enum = enumerate(cities)\n",
    "print(enum.__next__())\n",
    "print(enum.__next__())\n",
    "print(enum.__next__())\n"
   ]
  },
  {
   "cell_type": "markdown",
   "id": "c8423e8d",
   "metadata": {},
   "source": [
    "# lambda function\n"
   ]
  },
  {
   "cell_type": "code",
   "execution_count": 1,
   "id": "282b2e90",
   "metadata": {},
   "outputs": [
    {
     "name": "stdout",
     "output_type": "stream",
     "text": [
      "30\n"
     ]
    }
   ],
   "source": [
    "x=lambda x,y:x+y\n",
    "print(x(10,20))"
   ]
  },
  {
   "cell_type": "code",
   "execution_count": 4,
   "id": "d4ef2d57",
   "metadata": {},
   "outputs": [
    {
     "name": "stdout",
     "output_type": "stream",
     "text": [
      "Shubham Pandey\n"
     ]
    }
   ],
   "source": [
    "fullname=lambda fn,ln:fn+' '+ln\n",
    "print(fullname('Shubham','Pandey'))"
   ]
  },
  {
   "cell_type": "code",
   "execution_count": 5,
   "id": "d2e4bfd3",
   "metadata": {},
   "outputs": [
    {
     "name": "stdout",
     "output_type": "stream",
     "text": [
      "100\n"
     ]
    }
   ],
   "source": [
    "y=lambda a:a**2\n",
    "print(y(10))"
   ]
  },
  {
   "cell_type": "code",
   "execution_count": 6,
   "id": "fddbd3d7",
   "metadata": {},
   "outputs": [
    {
     "name": "stdout",
     "output_type": "stream",
     "text": [
      "80\n"
     ]
    }
   ],
   "source": [
    "a=lambda x,y,z:x*y**z\n",
    "print(a(10,2,3))\n"
   ]
  },
  {
   "cell_type": "markdown",
   "id": "eed4c234",
   "metadata": {},
   "source": [
    "# map function\n",
    "map(function,iterable)"
   ]
  },
  {
   "cell_type": "code",
   "execution_count": 9,
   "id": "9802ba02",
   "metadata": {},
   "outputs": [
    {
     "name": "stdout",
     "output_type": "stream",
     "text": [
      "<map object at 0x00000161AF9CE9D0>\n",
      "[2, 4, 6, 8]\n"
     ]
    }
   ],
   "source": [
    "a=map(lambda x:x//5,[10,20,30,40])\n",
    "print(a)\n",
    "L=[]\n",
    "for i in a:\n",
    "    L.append(i)\n",
    "print(L)    \n",
    "    \n"
   ]
  },
  {
   "cell_type": "code",
   "execution_count": 11,
   "id": "9ea49009",
   "metadata": {},
   "outputs": [
    {
     "name": "stdout",
     "output_type": "stream",
     "text": [
      "[10, 20, 30, 40]\n"
     ]
    }
   ],
   "source": [
    "a=[2,4,6,8]\n",
    "b=list(map(lambda x:x*5,a))\n",
    "print(b)"
   ]
  },
  {
   "cell_type": "code",
   "execution_count": 13,
   "id": "5d449ce5",
   "metadata": {},
   "outputs": [
    {
     "name": "stdout",
     "output_type": "stream",
     "text": [
      "[21, 32, 43, 54]\n"
     ]
    }
   ],
   "source": [
    "# a=[10,20,30,40]\n",
    "# b=[11,12,13,14]\n",
    "# output : [21,32,43,54]\n",
    "a=[10,20,30,40]\n",
    "b=[11,12,13,14]\n",
    "y=list(map(lambda p,q:p+q,a,b))\n",
    "print(y)"
   ]
  },
  {
   "cell_type": "code",
   "execution_count": null,
   "id": "52245047",
   "metadata": {},
   "outputs": [],
   "source": []
  }
 ],
 "metadata": {
  "kernelspec": {
   "display_name": "Python 3 (ipykernel)",
   "language": "python",
   "name": "python3"
  },
  "language_info": {
   "codemirror_mode": {
    "name": "ipython",
    "version": 3
   },
   "file_extension": ".py",
   "mimetype": "text/x-python",
   "name": "python",
   "nbconvert_exporter": "python",
   "pygments_lexer": "ipython3",
   "version": "3.9.12"
  }
 },
 "nbformat": 4,
 "nbformat_minor": 5
}
